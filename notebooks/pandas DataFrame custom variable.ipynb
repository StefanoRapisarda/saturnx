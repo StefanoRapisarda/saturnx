{
 "cells": [
  {
   "cell_type": "code",
   "execution_count": 1,
   "id": "46edfa60",
   "metadata": {},
   "outputs": [],
   "source": [
    "import pandas as pd"
   ]
  },
  {
   "cell_type": "code",
   "execution_count": 7,
   "id": "daf5069f",
   "metadata": {},
   "outputs": [],
   "source": [
    "class Test(pd.DataFrame):\n",
    "    _metadata = ['value']\n",
    "    def __init__(self,value):\n",
    "        super().__init__()\n",
    "        self.value=value\n",
    "    def up(self,value):\n",
    "        tmp = self.value.copy()\n",
    "        tmp['test']"
   ]
  },
  {
   "cell_type": "code",
   "execution_count": 8,
   "id": "351eb2cb",
   "metadata": {},
   "outputs": [
    {
     "name": "stdout",
     "output_type": "stream",
     "text": [
      "1\n"
     ]
    }
   ],
   "source": [
    "a = Test(1)\n",
    "print(a.value)"
   ]
  },
  {
   "cell_type": "code",
   "execution_count": 9,
   "id": "94a4a309",
   "metadata": {},
   "outputs": [
    {
     "name": "stdout",
     "output_type": "stream",
     "text": [
      "2\n"
     ]
    }
   ],
   "source": [
    "b = Test(2)\n",
    "print(b.value)"
   ]
  },
  {
   "cell_type": "code",
   "execution_count": 10,
   "id": "b4a9112c",
   "metadata": {},
   "outputs": [
    {
     "name": "stdout",
     "output_type": "stream",
     "text": [
      "1\n"
     ]
    }
   ],
   "source": [
    "print(a.value)"
   ]
  },
  {
   "cell_type": "code",
   "execution_count": 5,
   "id": "bb13c9c6",
   "metadata": {},
   "outputs": [
    {
     "name": "stdout",
     "output_type": "stream",
     "text": [
      "1\n"
     ]
    }
   ],
   "source": [
    "print(a.value)"
   ]
  },
  {
   "cell_type": "code",
   "execution_count": 12,
   "id": "060426e2",
   "metadata": {},
   "outputs": [
    {
     "name": "stdout",
     "output_type": "stream",
     "text": [
      "{'ciao': 1}\n"
     ]
    }
   ],
   "source": [
    "test = {'ciao':1}\n",
    "copy1 = test.copy()\n",
    "copy2 = test.copy()\n",
    "copy1['test1'] = 2\n",
    "print(copy2)"
   ]
  }
 ],
 "metadata": {
  "kernelspec": {
   "display_name": "Python 3",
   "language": "python",
   "name": "python3"
  },
  "language_info": {
   "codemirror_mode": {
    "name": "ipython",
    "version": 3
   },
   "file_extension": ".py",
   "mimetype": "text/x-python",
   "name": "python",
   "nbconvert_exporter": "python",
   "pygments_lexer": "ipython3",
   "version": "3.8.8"
  },
  "toc": {
   "base_numbering": 1,
   "nav_menu": {},
   "number_sections": true,
   "sideBar": true,
   "skip_h1_title": false,
   "title_cell": "Table of Contents",
   "title_sidebar": "Contents",
   "toc_cell": false,
   "toc_position": {},
   "toc_section_display": true,
   "toc_window_display": false
  }
 },
 "nbformat": 4,
 "nbformat_minor": 5
}
