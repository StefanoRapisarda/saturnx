{
 "cells": [
  {
   "cell_type": "code",
   "execution_count": 1,
   "metadata": {
    "ExecuteTime": {
     "end_time": "2021-03-06T22:51:36.926718Z",
     "start_time": "2021-03-06T22:51:34.199132Z"
    }
   },
   "outputs": [],
   "source": [
    "import sys\n",
    "sys.path.append('/Volumes/Samsung_T5/kronos/')\n",
    "import pathlib\n",
    "import glob\n",
    "import kronos as kr\n",
    "\n",
    "import numpy as np\n",
    "import matplotlib.pyplot as plt\n",
    "%matplotlib inline"
   ]
  },
  {
   "cell_type": "code",
   "execution_count": 2,
   "metadata": {
    "ExecuteTime": {
     "end_time": "2021-03-06T22:51:36.932104Z",
     "start_time": "2021-03-06T22:51:36.929059Z"
    }
   },
   "outputs": [],
   "source": [
    "lc_list = '/Volumes/Samsung_T5/kronos/examples/outputs/analysis/0100320101/lc_list_E0.5_10.0_T0.0078125_gti.pkl'"
   ]
  },
  {
   "cell_type": "code",
   "execution_count": 3,
   "metadata": {
    "ExecuteTime": {
     "end_time": "2021-03-06T22:51:36.937675Z",
     "start_time": "2021-03-06T22:51:36.935518Z"
    }
   },
   "outputs": [],
   "source": [
    "output_dir = '/Volumes/Samsung_T5/kronos/examples/outputs/'"
   ]
  },
  {
   "cell_type": "code",
   "execution_count": 4,
   "metadata": {
    "ExecuteTime": {
     "end_time": "2021-03-06T22:51:37.205883Z",
     "start_time": "2021-03-06T22:51:36.939603Z"
    }
   },
   "outputs": [
    {
     "name": "stderr",
     "output_type": "stream",
     "text": [
      "INFO: 2021-03-06 23:51:36,941: ************************************************************************\n",
      "INFO: 2021-03-06 23:51:36,942: ************************       make_power       ************************\n",
      "INFO: 2021-03-06 23:51:36,943: ************************************************************************\n",
      "INFO: 2021-03-06 23:51:36,943: \n",
      "INFO: 2021-03-06 23:51:36,944: Settings:\n",
      "INFO: 2021-03-06 23:51:36,945: ------------------------------------------------------------\n",
      "INFO: 2021-03-06 23:51:36,945: Lightcurve list file: lc_list_E0.5_10.0_T0.0078125_gti.pkl\n",
      "INFO: 2021-03-06 23:51:36,946: Selected time segment: 128.0 s\n",
      "INFO: 2021-03-06 23:51:36,946: Log file name: /Volumes/Samsung_T5/kronos/examples/outputs/logs/make_power_D6_3_2021_T23_51\n",
      "INFO: 2021-03-06 23:51:36,947: ------------------------------------------------------------\n",
      "INFO: 2021-03-06 23:51:36,947: \n",
      "INFO: 2021-03-06 23:51:36,948: Processing lightcurve: /Volumes/Samsung_T5/kronos/examples/outputs/analysis/0100320101/lc_list_E0.5_10.0_T0.0078125_gti.pkl\n",
      "INFO: 2021-03-06 23:51:37,010: Splitting lightcurve list according to segments\n",
      "INFO: 2021-03-06 23:51:37,025: NumExpr defaulting to 8 threads.\n",
      "INFO: 2021-03-06 23:51:37,044: Done!\n",
      "INFO: 2021-03-06 23:51:37,045: Saving LightcurveList in the event folder\n",
      "INFO: 2021-03-06 23:51:37,104: Computing power spectrum list\n",
      "INFO: 2021-03-06 23:51:37,128: Done!\n",
      "INFO: 2021-03-06 23:51:37,128: Saving power list\n",
      "INFO: 2021-03-06 23:51:37,173: Done!\n",
      "INFO: 2021-03-06 23:51:37,174: Computing average power\n",
      "INFO: 2021-03-06 23:51:37,199: Could not average power\n",
      "INFO: 2021-03-06 23:51:37,200: Frequency array do not correspond, impossible to average\n"
     ]
    },
    {
     "name": "stdout",
     "output_type": "stream",
     "text": [
      "===> Splitting Segment\n",
      "===> Splitting Segment\n",
      "LightcurveList saved in /Volumes/Samsung_T5/kronos/examples/outputs/analysis/0100320101/lc_list_E0.5_10.0_T0.0078125_128.0_gti.pkl\n",
      "PowerList saved in /Volumes/Samsung_T5/kronos/examples/outputs/analysis/0100320101/power_list_E0.5_10.0_T0.0078125_128.0_gti.pkl\n",
      "Power without errors\n",
      "Power without errors\n",
      "Power without errors\n",
      "Power without errors\n"
     ]
    },
    {
     "data": {
      "text/plain": [
       "0"
      ]
     },
     "execution_count": 4,
     "metadata": {},
     "output_type": "execute_result"
    }
   ],
   "source": [
    "kr.make_power(lc_list,destination=output_dir,\n",
    "              tseg=128.,override=True)"
   ]
  },
  {
   "cell_type": "code",
   "execution_count": 5,
   "metadata": {
    "ExecuteTime": {
     "end_time": "2021-03-06T22:51:37.209575Z",
     "start_time": "2021-03-06T22:51:37.207341Z"
    }
   },
   "outputs": [],
   "source": [
    "wf = pathlib.Path(output_dir)/'analysis'/'0100320101'"
   ]
  },
  {
   "cell_type": "code",
   "execution_count": 6,
   "metadata": {
    "ExecuteTime": {
     "end_time": "2021-03-06T22:51:37.214485Z",
     "start_time": "2021-03-06T22:51:37.211537Z"
    }
   },
   "outputs": [],
   "source": [
    "lc_list_file = glob.glob(str(wf/'lc_list_*.pkl'))[0]\n",
    "pw_list_file = glob.glob(str(wf/'power_list_*.pkl'))[0]"
   ]
  },
  {
   "cell_type": "code",
   "execution_count": 7,
   "metadata": {
    "ExecuteTime": {
     "end_time": "2021-03-06T22:51:37.225793Z",
     "start_time": "2021-03-06T22:51:37.217673Z"
    }
   },
   "outputs": [],
   "source": [
    "pw_list = kr.PowerSpectrum.load(pw_list_file)"
   ]
  },
  {
   "cell_type": "code",
   "execution_count": 9,
   "metadata": {
    "ExecuteTime": {
     "end_time": "2021-03-06T22:52:39.716282Z",
     "start_time": "2021-03-06T22:52:39.599340Z"
    }
   },
   "outputs": [
    {
     "data": {
      "text/html": [
       "<div>\n",
       "<style scoped>\n",
       "    .dataframe tbody tr th:only-of-type {\n",
       "        vertical-align: middle;\n",
       "    }\n",
       "\n",
       "    .dataframe tbody tr th {\n",
       "        vertical-align: top;\n",
       "    }\n",
       "\n",
       "    .dataframe thead th {\n",
       "        text-align: right;\n",
       "    }\n",
       "</style>\n",
       "<table border=\"1\" class=\"dataframe\">\n",
       "  <thead>\n",
       "    <tr style=\"text-align: right;\">\n",
       "      <th></th>\n",
       "      <th>df</th>\n",
       "      <th>nf</th>\n",
       "      <th>n_bins</th>\n",
       "      <th>a0</th>\n",
       "      <th>count_rate</th>\n",
       "      <th>frac_rms</th>\n",
       "      <th>frac_rms_err</th>\n",
       "      <th>leahy_norm</th>\n",
       "      <th>rms_norm</th>\n",
       "      <th>weight</th>\n",
       "      <th>min_en</th>\n",
       "      <th>max_en</th>\n",
       "      <th>mission</th>\n",
       "    </tr>\n",
       "  </thead>\n",
       "  <tbody>\n",
       "    <tr>\n",
       "      <th>0</th>\n",
       "      <td>0.00781</td>\n",
       "      <td>63.975615</td>\n",
       "      <td>16383</td>\n",
       "      <td>584471.0</td>\n",
       "      <td>4564.71851</td>\n",
       "      <td>0.300612</td>\n",
       "      <td>None</td>\n",
       "      <td>None</td>\n",
       "      <td>None</td>\n",
       "      <td>1</td>\n",
       "      <td>0.5</td>\n",
       "      <td>10.0</td>\n",
       "      <td>NICER</td>\n",
       "    </tr>\n",
       "    <tr>\n",
       "      <th>1</th>\n",
       "      <td>0.00781</td>\n",
       "      <td>63.975615</td>\n",
       "      <td>16383</td>\n",
       "      <td>592842.0</td>\n",
       "      <td>4630.09602</td>\n",
       "      <td>0.296823</td>\n",
       "      <td>None</td>\n",
       "      <td>None</td>\n",
       "      <td>None</td>\n",
       "      <td>1</td>\n",
       "      <td>0.5</td>\n",
       "      <td>10.0</td>\n",
       "      <td>NICER</td>\n",
       "    </tr>\n",
       "    <tr>\n",
       "      <th>2</th>\n",
       "      <td>0.00781</td>\n",
       "      <td>63.975615</td>\n",
       "      <td>16383</td>\n",
       "      <td>581534.0</td>\n",
       "      <td>4541.78054</td>\n",
       "      <td>0.298260</td>\n",
       "      <td>None</td>\n",
       "      <td>None</td>\n",
       "      <td>None</td>\n",
       "      <td>1</td>\n",
       "      <td>0.5</td>\n",
       "      <td>10.0</td>\n",
       "      <td>NICER</td>\n",
       "    </tr>\n",
       "    <tr>\n",
       "      <th>3</th>\n",
       "      <td>0.00781</td>\n",
       "      <td>63.975615</td>\n",
       "      <td>16383</td>\n",
       "      <td>574451.0</td>\n",
       "      <td>4486.46231</td>\n",
       "      <td>0.293832</td>\n",
       "      <td>None</td>\n",
       "      <td>None</td>\n",
       "      <td>None</td>\n",
       "      <td>1</td>\n",
       "      <td>0.5</td>\n",
       "      <td>10.0</td>\n",
       "      <td>NICER</td>\n",
       "    </tr>\n",
       "    <tr>\n",
       "      <th>4</th>\n",
       "      <td>0.00781</td>\n",
       "      <td>63.975615</td>\n",
       "      <td>16383</td>\n",
       "      <td>591116.0</td>\n",
       "      <td>4616.61596</td>\n",
       "      <td>0.303636</td>\n",
       "      <td>None</td>\n",
       "      <td>None</td>\n",
       "      <td>None</td>\n",
       "      <td>1</td>\n",
       "      <td>0.5</td>\n",
       "      <td>10.0</td>\n",
       "      <td>NICER</td>\n",
       "    </tr>\n",
       "  </tbody>\n",
       "</table>\n",
       "</div>"
      ],
      "text/plain": [
       "        df         nf n_bins        a0  count_rate  frac_rms frac_rms_err  \\\n",
       "0  0.00781  63.975615  16383  584471.0  4564.71851  0.300612         None   \n",
       "1  0.00781  63.975615  16383  592842.0  4630.09602  0.296823         None   \n",
       "2  0.00781  63.975615  16383  581534.0  4541.78054  0.298260         None   \n",
       "3  0.00781  63.975615  16383  574451.0  4486.46231  0.293832         None   \n",
       "4  0.00781  63.975615  16383  591116.0  4616.61596  0.303636         None   \n",
       "\n",
       "  leahy_norm rms_norm weight  min_en  max_en mission  \n",
       "0       None     None      1     0.5    10.0   NICER  \n",
       "1       None     None      1     0.5    10.0   NICER  \n",
       "2       None     None      1     0.5    10.0   NICER  \n",
       "3       None     None      1     0.5    10.0   NICER  \n",
       "4       None     None      1     0.5    10.0   NICER  "
      ]
     },
     "execution_count": 9,
     "metadata": {},
     "output_type": "execute_result"
    }
   ],
   "source": [
    "pw_list.info()"
   ]
  },
  {
   "cell_type": "code",
   "execution_count": 12,
   "metadata": {
    "ExecuteTime": {
     "end_time": "2021-03-06T22:54:17.539970Z",
     "start_time": "2021-03-06T22:54:17.533882Z"
    }
   },
   "outputs": [
    {
     "name": "stdout",
     "output_type": "stream",
     "text": [
      "True\n",
      "True\n",
      "True\n",
      "False\n"
     ]
    }
   ],
   "source": [
    "for i,pw in enumerate(pw_list):\n",
    "    if i>0: print(pw.freq.equals(pw_list[i-1].freq))"
   ]
  },
  {
   "cell_type": "code",
   "execution_count": 17,
   "metadata": {
    "ExecuteTime": {
     "end_time": "2021-03-06T22:55:38.411782Z",
     "start_time": "2021-03-06T22:55:38.395229Z"
    }
   },
   "outputs": [
    {
     "ename": "NameError",
     "evalue": "name 'plt' is not defined",
     "output_type": "error",
     "traceback": [
      "\u001b[0;31m---------------------------------------------------------------------------\u001b[0m",
      "\u001b[0;31mNameError\u001b[0m                                 Traceback (most recent call last)",
      "\u001b[0;32m<ipython-input-17-2c1d797de5a6>\u001b[0m in \u001b[0;36m<module>\u001b[0;34m\u001b[0m\n\u001b[0;32m----> 1\u001b[0;31m \u001b[0mplt\u001b[0m\u001b[0;34m.\u001b[0m\u001b[0mplot\u001b[0m\u001b[0;34m(\u001b[0m\u001b[0mpw_list\u001b[0m\u001b[0;34m[\u001b[0m\u001b[0;34m-\u001b[0m\u001b[0;36m1\u001b[0m\u001b[0;34m]\u001b[0m\u001b[0;34m.\u001b[0m\u001b[0mfreq\u001b[0m\u001b[0;34m-\u001b[0m\u001b[0mpw_list\u001b[0m\u001b[0;34m[\u001b[0m\u001b[0;36m0\u001b[0m\u001b[0;34m]\u001b[0m\u001b[0;34m.\u001b[0m\u001b[0mfreq\u001b[0m\u001b[0;34m,\u001b[0m\u001b[0;34m[\u001b[0m\u001b[0mi\u001b[0m \u001b[0;32mfor\u001b[0m \u001b[0mi\u001b[0m \u001b[0;32min\u001b[0m \u001b[0mrange\u001b[0m\u001b[0;34m(\u001b[0m\u001b[0mlen\u001b[0m\u001b[0;34m(\u001b[0m\u001b[0mpw_list\u001b[0m\u001b[0;34m[\u001b[0m\u001b[0;36m0\u001b[0m\u001b[0;34m]\u001b[0m\u001b[0;34m)\u001b[0m\u001b[0;34m)\u001b[0m\u001b[0;34m]\u001b[0m\u001b[0;34m)\u001b[0m\u001b[0;34m\u001b[0m\u001b[0;34m\u001b[0m\u001b[0m\n\u001b[0m",
      "\u001b[0;31mNameError\u001b[0m: name 'plt' is not defined"
     ]
    }
   ],
   "source": [
    "plt.plot(pw_list[-1].freq-pw_list[0].freq,[i for i in range(len(pw_list[0]))])"
   ]
  }
 ],
 "metadata": {
  "hide_input": false,
  "kernelspec": {
   "display_name": "Python 3",
   "language": "python",
   "name": "python3"
  },
  "language_info": {
   "codemirror_mode": {
    "name": "ipython",
    "version": 3
   },
   "file_extension": ".py",
   "mimetype": "text/x-python",
   "name": "python",
   "nbconvert_exporter": "python",
   "pygments_lexer": "ipython3",
   "version": "3.7.6"
  },
  "toc": {
   "base_numbering": 1,
   "nav_menu": {},
   "number_sections": true,
   "sideBar": true,
   "skip_h1_title": false,
   "title_cell": "Table of Contents",
   "title_sidebar": "Contents",
   "toc_cell": false,
   "toc_position": {},
   "toc_section_display": true,
   "toc_window_display": false
  },
  "varInspector": {
   "cols": {
    "lenName": 16,
    "lenType": 16,
    "lenVar": 40
   },
   "kernels_config": {
    "python": {
     "delete_cmd_postfix": "",
     "delete_cmd_prefix": "del ",
     "library": "var_list.py",
     "varRefreshCmd": "print(var_dic_list())"
    },
    "r": {
     "delete_cmd_postfix": ") ",
     "delete_cmd_prefix": "rm(",
     "library": "var_list.r",
     "varRefreshCmd": "cat(var_dic_list()) "
    }
   },
   "types_to_exclude": [
    "module",
    "function",
    "builtin_function_or_method",
    "instance",
    "_Feature"
   ],
   "window_display": false
  }
 },
 "nbformat": 4,
 "nbformat_minor": 4
}
