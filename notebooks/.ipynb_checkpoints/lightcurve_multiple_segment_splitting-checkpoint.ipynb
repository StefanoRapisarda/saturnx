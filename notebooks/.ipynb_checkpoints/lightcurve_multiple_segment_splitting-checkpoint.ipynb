{
 "cells": [
  {
   "cell_type": "code",
   "execution_count": 2,
   "id": "d5c86f50",
   "metadata": {},
   "outputs": [],
   "source": [
    "import sys\n",
    "sys.path.append('/Volumes/Samsung_T5/saturnx/')\n",
    "\n",
    "import numpy as np\n",
    "\n",
    "import saturnx as sx\n",
    "from saturnx.utils.time_series import poi_events"
   ]
  },
  {
   "cell_type": "code",
   "execution_count": 6,
   "id": "8a7b4b37",
   "metadata": {},
   "outputs": [],
   "source": [
    "tres = 0.01\n",
    "nbins = 5000\n",
    "cr = 5\n",
    "low_en = 0.5\n",
    "high_en = 10.\n",
    "events = poi_events(tres=tres,nbins=nbins,cr=cr)\n",
    "time_bin_edges = np.linspace(0,nbins*tres,nbins+1,dtype=np.double)\n",
    "time_bins_center = np.linspace(0+tres/2.,nbins*tres-tres/2.,nbins,dtype=np.double)\n",
    "hist, dummy = np.histogram(events,time_bin_edges)\n",
    "notes = {}\n",
    "notes['STEF1'] = 'This is a test note'    \n",
    "input_meta_data = {}\n",
    "input_meta_data['MISSION'] = 'NICER'\n",
    "input_meta_data['NOTES'] = notes\n",
    "lc = sx.Lightcurve(time_array=time_bins_center,count_array=hist,\n",
    "                   low_en=low_en,high_en=high_en,\n",
    "                   meta_data=input_meta_data)"
   ]
  },
  {
   "cell_type": "code",
   "execution_count": 7,
   "id": "72f36f60",
   "metadata": {},
   "outputs": [],
   "source": [
    "lc1.meta_data['test1'] = 'test'"
   ]
  },
  {
   "cell_type": "code",
   "execution_count": 8,
   "id": "dfe82864",
   "metadata": {},
   "outputs": [
    {
     "data": {
      "text/plain": [
       "{'HISTORY': {'LC_CRE_DATE': '2022-5-15,19:56:45'}, 'NOTES': {}}"
      ]
     },
     "execution_count": 8,
     "metadata": {},
     "output_type": "execute_result"
    }
   ],
   "source": [
    "lc2.meta_data"
   ]
  },
  {
   "cell_type": "code",
   "execution_count": 3,
   "id": "70d991fe",
   "metadata": {},
   "outputs": [
    {
     "name": "stdout",
     "output_type": "stream",
     "text": [
      "tres 0.01\n",
      "texp 50.0\n",
      "bins 5000\n",
      "cr 4.74\n"
     ]
    }
   ],
   "source": [
    "print('tres',lc.tres)\n",
    "print('texp',lc.texp)\n",
    "print('bins',len(lc))\n",
    "print('cr',lc.cr)"
   ]
  },
  {
   "cell_type": "code",
   "execution_count": 4,
   "id": "95f185ef",
   "metadata": {},
   "outputs": [
    {
     "name": "stdout",
     "output_type": "stream",
     "text": [
      "Running split, object meta_data history...\n",
      "before copy\n",
      "{'LC_CRE_DATE': '2022-5-15,19:8:58'}\n",
      "after copy\n",
      "\n",
      "===> Splitting Lightcurve according to time segment\n",
      "LC_CRE_DATE 2022-5-15,19:8:58\n",
      "SPLITTING_SEG 2022-5-15,19:8:58\n",
      "------------------------------------------------------------------------\n",
      "LC_CRE_DATE 2022-5-15,19:8:58\n",
      "SPLITTING_SEG 2022-5-15,19:8:58\n",
      "------------------------------------------------------------------------\n",
      "LC_CRE_DATE 2022-5-15,19:8:58\n",
      "SPLITTING_SEG 2022-5-15,19:8:58\n",
      "------------------------------------------------------------------------\n",
      "LC_CRE_DATE 2022-5-15,19:8:58\n",
      "SPLITTING_SEG 2022-5-15,19:8:58\n",
      "------------------------------------------------------------------------\n",
      "LC_CRE_DATE 2022-5-15,19:8:58\n",
      "SPLITTING_SEG 2022-5-15,19:8:58\n",
      "------------------------------------------------------------------------\n"
     ]
    }
   ],
   "source": [
    "lc_list10 = lc.split(10)\n",
    "for lci in lc_list10:\n",
    "    for key,item in lci.meta_data['HISTORY'].items():\n",
    "        print('{:<10} {:<15}'.format(key,item))\n",
    "    print('-'*72)"
   ]
  },
  {
   "cell_type": "code",
   "execution_count": 5,
   "id": "39ae0527",
   "metadata": {},
   "outputs": [
    {
     "name": "stdout",
     "output_type": "stream",
     "text": [
      "LC_CRE_DATE 2022-5-15,19:8:58\n",
      "SPLITTING_SEG 2022-5-15,19:8:58\n",
      "------------------------------------------------------------------------\n",
      "LC_CRE_DATE 2022-5-15,19:8:58\n",
      "SPLITTING_SEG 2022-5-15,19:8:58\n",
      "------------------------------------------------------------------------\n",
      "LC_CRE_DATE 2022-5-15,19:8:58\n",
      "SPLITTING_SEG 2022-5-15,19:8:58\n",
      "------------------------------------------------------------------------\n",
      "LC_CRE_DATE 2022-5-15,19:8:58\n",
      "SPLITTING_SEG 2022-5-15,19:8:58\n",
      "------------------------------------------------------------------------\n",
      "LC_CRE_DATE 2022-5-15,19:8:58\n",
      "SPLITTING_SEG 2022-5-15,19:8:58\n",
      "------------------------------------------------------------------------\n"
     ]
    }
   ],
   "source": [
    "for lci in lc_list10:\n",
    "    for key,item in lci.meta_data['HISTORY'].items():\n",
    "        print('{:<10} {:<15}'.format(key,item))\n",
    "    print('-'*72)"
   ]
  },
  {
   "cell_type": "code",
   "execution_count": 6,
   "id": "4ec4c8fe",
   "metadata": {},
   "outputs": [
    {
     "name": "stdout",
     "output_type": "stream",
     "text": [
      "Running split, object meta_data history...\n",
      "before copy\n",
      "{'LC_CRE_DATE': '2022-5-15,19:8:58', 'SPLITTING_SEG': '2022-5-15,19:8:58'}\n",
      "after copy\n",
      "\n",
      "===> Splitting Lightcurve according to time segment\n"
     ]
    }
   ],
   "source": [
    "lc4 = lc_list10[0].split(4)"
   ]
  },
  {
   "cell_type": "code",
   "execution_count": 7,
   "id": "4f297c5a",
   "metadata": {},
   "outputs": [
    {
     "name": "stdout",
     "output_type": "stream",
     "text": [
      "LC_CRE_DATE 2022-5-15,19:8:58\n",
      "SPLITTING_SEG 2022-5-15,19:8:58\n",
      "SPLITTING_SEG_1 2022-5-15,19:8:58\n",
      "------------------------------------------------------------------------\n",
      "LC_CRE_DATE 2022-5-15,19:8:58\n",
      "SPLITTING_SEG 2022-5-15,19:8:58\n",
      "SPLITTING_SEG_1 2022-5-15,19:8:58\n",
      "------------------------------------------------------------------------\n",
      "LC_CRE_DATE 2022-5-15,19:8:58\n",
      "SPLITTING_SEG 2022-5-15,19:8:58\n",
      "SPLITTING_SEG_1 2022-5-15,19:8:58\n",
      "------------------------------------------------------------------------\n",
      "LC_CRE_DATE 2022-5-15,19:8:58\n",
      "SPLITTING_SEG 2022-5-15,19:8:58\n",
      "SPLITTING_SEG_1 2022-5-15,19:8:58\n",
      "------------------------------------------------------------------------\n",
      "LC_CRE_DATE 2022-5-15,19:8:58\n",
      "SPLITTING_SEG 2022-5-15,19:8:58\n",
      "SPLITTING_SEG_1 2022-5-15,19:8:58\n",
      "------------------------------------------------------------------------\n"
     ]
    }
   ],
   "source": [
    "for lci in lc_list10:\n",
    "    for key,item in lci.meta_data['HISTORY'].items():\n",
    "        print('{:<10} {:<15}'.format(key,item))\n",
    "    print('-'*72)"
   ]
  },
  {
   "cell_type": "code",
   "execution_count": 8,
   "id": "99f77665",
   "metadata": {},
   "outputs": [
    {
     "data": {
      "text/plain": [
       "{'LC_CRE_DATE': '2022-5-15,19:8:58',\n",
       " 'SPLITTING_SEG': '2022-5-15,19:8:58',\n",
       " 'SPLITTING_SEG_1': '2022-5-15,19:8:58'}"
      ]
     },
     "execution_count": 8,
     "metadata": {},
     "output_type": "execute_result"
    }
   ],
   "source": [
    "lc.meta_data['HISTORY']"
   ]
  },
  {
   "cell_type": "code",
   "execution_count": 9,
   "id": "a7f747cb",
   "metadata": {},
   "outputs": [
    {
     "name": "stdout",
     "output_type": "stream",
     "text": [
      "0.5\n"
     ]
    }
   ],
   "source": [
    "print(lc4[0].low_en)"
   ]
  },
  {
   "cell_type": "code",
   "execution_count": 10,
   "id": "1b2e38e7",
   "metadata": {},
   "outputs": [],
   "source": [
    "lc4[0].low_en = 3"
   ]
  },
  {
   "cell_type": "code",
   "execution_count": 11,
   "id": "28327099",
   "metadata": {},
   "outputs": [
    {
     "data": {
      "text/plain": [
       "0.5"
      ]
     },
     "execution_count": 11,
     "metadata": {},
     "output_type": "execute_result"
    }
   ],
   "source": [
    "lc.low_en"
   ]
  },
  {
   "cell_type": "code",
   "execution_count": 12,
   "id": "1e93c1f7",
   "metadata": {
    "scrolled": false
   },
   "outputs": [
    {
     "name": "stdout",
     "output_type": "stream",
     "text": [
      "Running split, object meta_data history...\n",
      "before copy\n",
      "{'LC_CRE_DATE': '2022-5-15,19:8:58', 'SPLITTING_SEG': '2022-5-15,19:8:58', 'SPLITTING_SEG_1': '2022-5-15,19:8:58'}\n",
      "after copy\n",
      "\n",
      "===> Splitting Lightcurve according to time segment\n",
      "Running split, object meta_data history...\n",
      "before copy\n",
      "{'LC_CRE_DATE': '2022-5-15,19:8:58', 'SPLITTING_SEG': '2022-5-15,19:8:58', 'SPLITTING_SEG_1': '2022-5-15,19:8:58', 'SPLITTING_SEG_2': '2022-5-15,19:8:58'}\n",
      "after copy\n",
      "\n",
      "===> Splitting Lightcurve according to time segment\n",
      "Running split, object meta_data history...\n",
      "before copy\n",
      "{'LC_CRE_DATE': '2022-5-15,19:8:58', 'SPLITTING_SEG': '2022-5-15,19:8:58', 'SPLITTING_SEG_1': '2022-5-15,19:8:58', 'SPLITTING_SEG_2': '2022-5-15,19:8:58', 'SPLITTING_SEG_3': '2022-5-15,19:8:58'}\n",
      "after copy\n",
      "\n",
      "===> Splitting Lightcurve according to time segment\n",
      "Running split, object meta_data history...\n",
      "before copy\n",
      "{'LC_CRE_DATE': '2022-5-15,19:8:58', 'SPLITTING_SEG': '2022-5-15,19:8:58', 'SPLITTING_SEG_1': '2022-5-15,19:8:58', 'SPLITTING_SEG_2': '2022-5-15,19:8:58', 'SPLITTING_SEG_3': '2022-5-15,19:8:58', 'SPLITTING_SEG_4': '2022-5-15,19:8:58'}\n",
      "after copy\n",
      "\n",
      "===> Splitting Lightcurve according to time segment\n",
      "Running split, object meta_data history...\n",
      "before copy\n",
      "{'LC_CRE_DATE': '2022-5-15,19:8:58', 'SPLITTING_SEG': '2022-5-15,19:8:58', 'SPLITTING_SEG_1': '2022-5-15,19:8:58', 'SPLITTING_SEG_2': '2022-5-15,19:8:58', 'SPLITTING_SEG_3': '2022-5-15,19:8:58', 'SPLITTING_SEG_4': '2022-5-15,19:8:58', 'SPLITTING_SEG_5': '2022-5-15,19:8:58'}\n",
      "after copy\n",
      "\n",
      "===> Splitting Lightcurve according to time segment\n",
      "LC_CRE_DATE 2022-5-15,19:8:58\n",
      "SPLITTING_SEG 2022-5-15,19:8:58\n",
      "SPLITTING_SEG_1 2022-5-15,19:8:58\n",
      "SPLITTING_SEG_2 2022-5-15,19:8:58\n",
      "SPLITTING_SEG_3 2022-5-15,19:8:58\n",
      "SPLITTING_SEG_4 2022-5-15,19:8:58\n",
      "SPLITTING_SEG_5 2022-5-15,19:8:58\n",
      "SPLITTING_SEG_6 2022-5-15,19:8:58\n",
      "------------------------------------------------------------------------\n",
      "LC_CRE_DATE 2022-5-15,19:8:58\n",
      "SPLITTING_SEG 2022-5-15,19:8:58\n",
      "SPLITTING_SEG_1 2022-5-15,19:8:58\n",
      "SPLITTING_SEG_2 2022-5-15,19:8:58\n",
      "SPLITTING_SEG_3 2022-5-15,19:8:58\n",
      "SPLITTING_SEG_4 2022-5-15,19:8:58\n",
      "SPLITTING_SEG_5 2022-5-15,19:8:58\n",
      "SPLITTING_SEG_6 2022-5-15,19:8:58\n",
      "------------------------------------------------------------------------\n",
      "LC_CRE_DATE 2022-5-15,19:8:58\n",
      "SPLITTING_SEG 2022-5-15,19:8:58\n",
      "SPLITTING_SEG_1 2022-5-15,19:8:58\n",
      "SPLITTING_SEG_2 2022-5-15,19:8:58\n",
      "SPLITTING_SEG_3 2022-5-15,19:8:58\n",
      "SPLITTING_SEG_4 2022-5-15,19:8:58\n",
      "SPLITTING_SEG_5 2022-5-15,19:8:58\n",
      "SPLITTING_SEG_6 2022-5-15,19:8:58\n",
      "------------------------------------------------------------------------\n",
      "LC_CRE_DATE 2022-5-15,19:8:58\n",
      "SPLITTING_SEG 2022-5-15,19:8:58\n",
      "SPLITTING_SEG_1 2022-5-15,19:8:58\n",
      "SPLITTING_SEG_2 2022-5-15,19:8:58\n",
      "SPLITTING_SEG_3 2022-5-15,19:8:58\n",
      "SPLITTING_SEG_4 2022-5-15,19:8:58\n",
      "SPLITTING_SEG_5 2022-5-15,19:8:58\n",
      "SPLITTING_SEG_6 2022-5-15,19:8:58\n",
      "------------------------------------------------------------------------\n",
      "LC_CRE_DATE 2022-5-15,19:8:58\n",
      "SPLITTING_SEG 2022-5-15,19:8:58\n",
      "SPLITTING_SEG_1 2022-5-15,19:8:58\n",
      "SPLITTING_SEG_2 2022-5-15,19:8:58\n",
      "SPLITTING_SEG_3 2022-5-15,19:8:58\n",
      "SPLITTING_SEG_4 2022-5-15,19:8:58\n",
      "SPLITTING_SEG_5 2022-5-15,19:8:58\n",
      "SPLITTING_SEG_6 2022-5-15,19:8:58\n",
      "------------------------------------------------------------------------\n",
      "LC_CRE_DATE 2022-5-15,19:8:58\n",
      "SPLITTING_SEG 2022-5-15,19:8:58\n",
      "SPLITTING_SEG_1 2022-5-15,19:8:58\n",
      "SPLITTING_SEG_2 2022-5-15,19:8:58\n",
      "SPLITTING_SEG_3 2022-5-15,19:8:58\n",
      "SPLITTING_SEG_4 2022-5-15,19:8:58\n",
      "SPLITTING_SEG_5 2022-5-15,19:8:58\n",
      "SPLITTING_SEG_6 2022-5-15,19:8:58\n",
      "------------------------------------------------------------------------\n",
      "LC_CRE_DATE 2022-5-15,19:8:58\n",
      "SPLITTING_SEG 2022-5-15,19:8:58\n",
      "SPLITTING_SEG_1 2022-5-15,19:8:58\n",
      "SPLITTING_SEG_2 2022-5-15,19:8:58\n",
      "SPLITTING_SEG_3 2022-5-15,19:8:58\n",
      "SPLITTING_SEG_4 2022-5-15,19:8:58\n",
      "SPLITTING_SEG_5 2022-5-15,19:8:58\n",
      "SPLITTING_SEG_6 2022-5-15,19:8:58\n",
      "------------------------------------------------------------------------\n",
      "LC_CRE_DATE 2022-5-15,19:8:58\n",
      "SPLITTING_SEG 2022-5-15,19:8:58\n",
      "SPLITTING_SEG_1 2022-5-15,19:8:58\n",
      "SPLITTING_SEG_2 2022-5-15,19:8:58\n",
      "SPLITTING_SEG_3 2022-5-15,19:8:58\n",
      "SPLITTING_SEG_4 2022-5-15,19:8:58\n",
      "SPLITTING_SEG_5 2022-5-15,19:8:58\n",
      "SPLITTING_SEG_6 2022-5-15,19:8:58\n",
      "------------------------------------------------------------------------\n",
      "LC_CRE_DATE 2022-5-15,19:8:58\n",
      "SPLITTING_SEG 2022-5-15,19:8:58\n",
      "SPLITTING_SEG_1 2022-5-15,19:8:58\n",
      "SPLITTING_SEG_2 2022-5-15,19:8:58\n",
      "SPLITTING_SEG_3 2022-5-15,19:8:58\n",
      "SPLITTING_SEG_4 2022-5-15,19:8:58\n",
      "SPLITTING_SEG_5 2022-5-15,19:8:58\n",
      "SPLITTING_SEG_6 2022-5-15,19:8:58\n",
      "------------------------------------------------------------------------\n",
      "LC_CRE_DATE 2022-5-15,19:8:58\n",
      "SPLITTING_SEG 2022-5-15,19:8:58\n",
      "SPLITTING_SEG_1 2022-5-15,19:8:58\n",
      "SPLITTING_SEG_2 2022-5-15,19:8:58\n",
      "SPLITTING_SEG_3 2022-5-15,19:8:58\n",
      "SPLITTING_SEG_4 2022-5-15,19:8:58\n",
      "SPLITTING_SEG_5 2022-5-15,19:8:58\n",
      "SPLITTING_SEG_6 2022-5-15,19:8:58\n",
      "------------------------------------------------------------------------\n"
     ]
    }
   ],
   "source": [
    "lc_list10_4 = lc_list10.split(4)\n",
    "for lci in lc_list10_4:\n",
    "    for key,item in lci.meta_data['HISTORY'].items():\n",
    "        print('{:<10} {:<15}'.format(key,item))\n",
    "    print('-'*72)    "
   ]
  },
  {
   "cell_type": "code",
   "execution_count": 13,
   "id": "e12e6ad1",
   "metadata": {},
   "outputs": [
    {
     "name": "stdout",
     "output_type": "stream",
     "text": [
      "[1, 3] [2, 4]\n",
      "[5, 7] [6, 8]\n"
     ]
    }
   ],
   "source": [
    "gti1 = sx.Gti([1,3],[2,4])\n",
    "gti2 = sx.Gti([5,7],[6,8])"
   ]
  },
  {
   "cell_type": "code",
   "execution_count": 14,
   "id": "3263fff1",
   "metadata": {},
   "outputs": [],
   "source": [
    "lc2 = sx.Lightcurve(time_array=time_bins_center,count_array=hist,\n",
    "                   low_en=low_en,high_en=high_en,\n",
    "                   meta_data=input_meta_data)"
   ]
  },
  {
   "cell_type": "code",
   "execution_count": 15,
   "id": "a77188f6",
   "metadata": {},
   "outputs": [
    {
     "data": {
      "text/plain": [
       "{'LC_CRE_DATE': '2022-5-15,19:8:58',\n",
       " 'SPLITTING_SEG': '2022-5-15,19:8:58',\n",
       " 'SPLITTING_SEG_1': '2022-5-15,19:8:58',\n",
       " 'SPLITTING_SEG_2': '2022-5-15,19:8:58',\n",
       " 'SPLITTING_SEG_3': '2022-5-15,19:8:58',\n",
       " 'SPLITTING_SEG_4': '2022-5-15,19:8:58',\n",
       " 'SPLITTING_SEG_5': '2022-5-15,19:8:58',\n",
       " 'SPLITTING_SEG_6': '2022-5-15,19:8:58'}"
      ]
     },
     "execution_count": 15,
     "metadata": {},
     "output_type": "execute_result"
    }
   ],
   "source": [
    "lc2.meta_data['HISTORY']"
   ]
  },
  {
   "cell_type": "code",
   "execution_count": 16,
   "id": "c5ae9326",
   "metadata": {},
   "outputs": [
    {
     "name": "stdout",
     "output_type": "stream",
     "text": [
      "Running split, object meta_data history...\n",
      "before copy\n",
      "{'LC_CRE_DATE': '2022-5-15,19:8:58', 'SPLITTING_SEG': '2022-5-15,19:8:58', 'SPLITTING_SEG_1': '2022-5-15,19:8:58', 'SPLITTING_SEG_2': '2022-5-15,19:8:58', 'SPLITTING_SEG_3': '2022-5-15,19:8:58', 'SPLITTING_SEG_4': '2022-5-15,19:8:58', 'SPLITTING_SEG_5': '2022-5-15,19:8:58', 'SPLITTING_SEG_6': '2022-5-15,19:8:58'}\n",
      "after copy\n",
      "\n",
      "===> Splitting Lightcurve according to GTI\n"
     ]
    },
    {
     "ename": "NameError",
     "evalue": "name 'meta_data' is not defined",
     "output_type": "error",
     "traceback": [
      "\u001b[0;31m---------------------------------------------------------------------------\u001b[0m",
      "\u001b[0;31mNameError\u001b[0m                                 Traceback (most recent call last)",
      "\u001b[0;32m<ipython-input-16-8e7b0138c862>\u001b[0m in \u001b[0;36m<module>\u001b[0;34m\u001b[0m\n\u001b[0;32m----> 1\u001b[0;31m \u001b[0mlc_list1\u001b[0m \u001b[0;34m=\u001b[0m \u001b[0mlc2\u001b[0m\u001b[0;34m.\u001b[0m\u001b[0msplit\u001b[0m\u001b[0;34m(\u001b[0m\u001b[0mgti1\u001b[0m\u001b[0;34m)\u001b[0m\u001b[0;34m\u001b[0m\u001b[0;34m\u001b[0m\u001b[0m\n\u001b[0m\u001b[1;32m      2\u001b[0m \u001b[0mprint\u001b[0m\u001b[0;34m(\u001b[0m\u001b[0mlc_list1\u001b[0m\u001b[0;34m[\u001b[0m\u001b[0;36m0\u001b[0m\u001b[0;34m]\u001b[0m\u001b[0;34m.\u001b[0m\u001b[0mmeta_data\u001b[0m\u001b[0;34m[\u001b[0m\u001b[0;34m'HISTORY'\u001b[0m\u001b[0;34m]\u001b[0m\u001b[0;34m)\u001b[0m\u001b[0;34m\u001b[0m\u001b[0;34m\u001b[0m\u001b[0m\n",
      "\u001b[0;32m/Volumes/Samsung_T5/saturnx/saturnx/core/lightcurve.py\u001b[0m in \u001b[0;36msplit\u001b[0;34m(self, splitter)\u001b[0m\n\u001b[1;32m    377\u001b[0m \u001b[0;34m\u001b[0m\u001b[0m\n\u001b[1;32m    378\u001b[0m             \u001b[0;31m# In case Lightcurve has already been split according to GTI\u001b[0m\u001b[0;34m\u001b[0m\u001b[0;34m\u001b[0m\u001b[0;34m\u001b[0m\u001b[0m\n\u001b[0;32m--> 379\u001b[0;31m             \u001b[0msplitting_keys\u001b[0m \u001b[0;34m=\u001b[0m \u001b[0;34m[\u001b[0m\u001b[0mkey\u001b[0m \u001b[0;32mfor\u001b[0m \u001b[0mkey\u001b[0m \u001b[0;32min\u001b[0m \u001b[0mmeta_data\u001b[0m\u001b[0;34m[\u001b[0m\u001b[0;34m'HISTORY'\u001b[0m\u001b[0;34m]\u001b[0m\u001b[0;34m.\u001b[0m\u001b[0mkeys\u001b[0m\u001b[0;34m(\u001b[0m\u001b[0;34m)\u001b[0m \u001b[0;32mif\u001b[0m \u001b[0;34m'SPLITTING_GTI'\u001b[0m \u001b[0;32min\u001b[0m \u001b[0mkey\u001b[0m\u001b[0;34m]\u001b[0m\u001b[0;34m\u001b[0m\u001b[0;34m\u001b[0m\u001b[0m\n\u001b[0m\u001b[1;32m    380\u001b[0m             \u001b[0;32mif\u001b[0m \u001b[0mlen\u001b[0m\u001b[0;34m(\u001b[0m\u001b[0msplitting_keys\u001b[0m\u001b[0;34m)\u001b[0m \u001b[0;34m==\u001b[0m \u001b[0;36m0\u001b[0m\u001b[0;34m:\u001b[0m\u001b[0;34m\u001b[0m\u001b[0;34m\u001b[0m\u001b[0m\n\u001b[1;32m    381\u001b[0m                 \u001b[0msuffix\u001b[0m \u001b[0;34m=\u001b[0m \u001b[0;34m''\u001b[0m\u001b[0;34m\u001b[0m\u001b[0;34m\u001b[0m\u001b[0m\n",
      "\u001b[0;31mNameError\u001b[0m: name 'meta_data' is not defined"
     ]
    }
   ],
   "source": [
    "lc_list1 = lc2.split(gti1)\n",
    "print(lc_list1[0].meta_data['HISTORY'])"
   ]
  },
  {
   "cell_type": "code",
   "execution_count": null,
   "id": "963a1d12",
   "metadata": {},
   "outputs": [],
   "source": [
    "cross1 = sx.CrossSpectrum()\n",
    "cross2 = sx.CrossSpectrum()"
   ]
  },
  {
   "cell_type": "code",
   "execution_count": null,
   "id": "ff4dc91c",
   "metadata": {},
   "outputs": [],
   "source": [
    "cross1.meta_data['test'] = 1"
   ]
  },
  {
   "cell_type": "code",
   "execution_count": null,
   "id": "43c1e6cd",
   "metadata": {},
   "outputs": [],
   "source": [
    "print(cross2.meta_data)"
   ]
  },
  {
   "cell_type": "code",
   "execution_count": null,
   "id": "9d57ae6e",
   "metadata": {},
   "outputs": [],
   "source": [
    "print(cross1.meta_data)"
   ]
  },
  {
   "cell_type": "code",
   "execution_count": null,
   "id": "59459298",
   "metadata": {},
   "outputs": [],
   "source": [
    "cross1.en_range=(1,2)"
   ]
  },
  {
   "cell_type": "code",
   "execution_count": null,
   "id": "cdd7fc09",
   "metadata": {},
   "outputs": [],
   "source": [
    "cross2.en_range"
   ]
  }
 ],
 "metadata": {
  "kernelspec": {
   "display_name": "Python 3",
   "language": "python",
   "name": "python3"
  },
  "language_info": {
   "codemirror_mode": {
    "name": "ipython",
    "version": 3
   },
   "file_extension": ".py",
   "mimetype": "text/x-python",
   "name": "python",
   "nbconvert_exporter": "python",
   "pygments_lexer": "ipython3",
   "version": "3.8.8"
  },
  "toc": {
   "base_numbering": 1,
   "nav_menu": {},
   "number_sections": true,
   "sideBar": true,
   "skip_h1_title": false,
   "title_cell": "Table of Contents",
   "title_sidebar": "Contents",
   "toc_cell": false,
   "toc_position": {},
   "toc_section_display": true,
   "toc_window_display": false
  }
 },
 "nbformat": 4,
 "nbformat_minor": 5
}
