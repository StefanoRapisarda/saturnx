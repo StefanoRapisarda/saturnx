{
 "cells": [
  {
   "cell_type": "code",
   "execution_count": 1,
   "id": "78b68c1d",
   "metadata": {},
   "outputs": [],
   "source": [
    "import sys\n",
    "sys.path.append('/Volumes/Samsung_T5/saturnx')\n",
    "\n",
    "import pathlib\n",
    "\n",
    "import saturnx as sx\n",
    "\n",
    "import matplotlib.pyplot as plt\n",
    "%matplotlib inline"
   ]
  },
  {
   "cell_type": "code",
   "execution_count": 2,
   "id": "dc0319df",
   "metadata": {},
   "outputs": [],
   "source": [
    "obs_id = '1200120102'\n",
    "data_dir = pathlib.Path('/Volumes/BigBoy/NICER_data/MAXI_J1820+070/raw_data')\n",
    "file_name = f'ni{obs_id}_0mpu7_cl_bdc.evt.gz'\n",
    "\n",
    "fits_event_file = data_dir/obs_id/'xti/event_cl'/file_name"
   ]
  },
  {
   "cell_type": "code",
   "execution_count": 3,
   "id": "e42459b2",
   "metadata": {},
   "outputs": [
    {
     "name": "stdout",
     "output_type": "stream",
     "text": [
      "Reading event FITS file\n",
      "WARNING: 2022-05-18 11:32:49.965619: Could not read key MJDREF in ext EVENTS\n",
      "Initializing event object\n",
      "[132417765.0, 132423245.0, 132423252.0, 132428618.0, 132428626.0, 132428644.0, 132434268.0, 132435310.0, 132435318.0, 132438329.0, 132438427.0, 132438509.0, 132439535.0, 132440924.0, 132440928.0, 132440938.0, 132445677.0, 132446513.0] [132418169.0, 132423250.0, 132424052.0, 132428624.0, 132428642.0, 132429897.0, 132435308.0, 132435316.0, 132435456.0, 132438425.0, 132438507.0, 132439533.0, 132439542.0, 132440925.0, 132440935.0, 132441015.0, 132446511.0, 132446576.0]\n"
     ]
    }
   ],
   "source": [
    "event = sx.Event.read_fits(fits_event_file)\n",
    "gti = sx.Gti.read_fits(fits_event_file)"
   ]
  },
  {
   "cell_type": "code",
   "execution_count": null,
   "id": "10cf8e0a",
   "metadata": {},
   "outputs": [],
   "source": [
    "gti"
   ]
  },
  {
   "cell_type": "code",
   "execution_count": null,
   "id": "851419f8",
   "metadata": {},
   "outputs": [],
   "source": [
    "lc = sx.Lightcurve.from_event(event,time_res=1./2**13,low_en=0.5,high_en=10.)"
   ]
  },
  {
   "cell_type": "code",
   "execution_count": null,
   "id": "5efaee6c",
   "metadata": {},
   "outputs": [],
   "source": [
    "lc_list_gti = lc.split(gti)"
   ]
  },
  {
   "cell_type": "code",
   "execution_count": null,
   "id": "6e04a241",
   "metadata": {},
   "outputs": [],
   "source": [
    "lc_list128 = lc_list_gti.split(128)"
   ]
  },
  {
   "cell_type": "code",
   "execution_count": null,
   "id": "612614b1",
   "metadata": {},
   "outputs": [],
   "source": [
    "power_list = sx.PowerSpectrum(lc_list128)"
   ]
  },
  {
   "cell_type": "code",
   "execution_count": null,
   "id": "3a6575ed",
   "metadata": {},
   "outputs": [],
   "source": [
    "power = power_list.average(norm='leahy')"
   ]
  },
  {
   "cell_type": "markdown",
   "id": "43bec6f9",
   "metadata": {},
   "source": []
  }
 ],
 "metadata": {
  "kernelspec": {
   "display_name": "Python 3",
   "language": "python",
   "name": "python3"
  },
  "language_info": {
   "codemirror_mode": {
    "name": "ipython",
    "version": 3
   },
   "file_extension": ".py",
   "mimetype": "text/x-python",
   "name": "python",
   "nbconvert_exporter": "python",
   "pygments_lexer": "ipython3",
   "version": "3.8.8"
  },
  "toc": {
   "base_numbering": 1,
   "nav_menu": {},
   "number_sections": true,
   "sideBar": true,
   "skip_h1_title": false,
   "title_cell": "Table of Contents",
   "title_sidebar": "Contents",
   "toc_cell": false,
   "toc_position": {},
   "toc_section_display": true,
   "toc_window_display": false
  }
 },
 "nbformat": 4,
 "nbformat_minor": 5
}
