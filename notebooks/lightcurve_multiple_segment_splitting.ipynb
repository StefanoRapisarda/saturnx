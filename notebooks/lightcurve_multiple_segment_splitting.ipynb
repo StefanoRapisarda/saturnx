{
 "cells": [
  {
   "cell_type": "code",
   "execution_count": 1,
   "id": "88be1bef",
   "metadata": {},
   "outputs": [],
   "source": [
    "import sys\n",
    "sys.path.append('/Volumes/Samsung_T5/saturnx/')\n",
    "\n",
    "import numpy as np\n",
    "\n",
    "import saturnx as sx\n",
    "from saturnx.utils.time_series import poi_events"
   ]
  },
  {
   "cell_type": "code",
   "execution_count": 2,
   "id": "0ae1b832",
   "metadata": {},
   "outputs": [],
   "source": [
    "tres = 0.01\n",
    "nbins = 5000\n",
    "cr = 5\n",
    "low_en = 0.5\n",
    "high_en = 10.\n",
    "events = poi_events(tres=tres,nbins=nbins,cr=cr)\n",
    "time_bin_edges = np.linspace(0,nbins*tres,nbins+1,dtype=np.double)\n",
    "time_bins_center = np.linspace(0+tres/2.,nbins*tres-tres/2.,nbins,dtype=np.double)\n",
    "hist, dummy = np.histogram(events,time_bin_edges)\n",
    "notes = {}\n",
    "notes['STEF1'] = 'This is a test note'    \n",
    "input_meta_data = {}\n",
    "input_meta_data['MISSION'] = 'NICER'\n",
    "input_meta_data['NOTES'] = notes\n",
    "lc = sx.Lightcurve(time_array=time_bins_center,count_array=hist,\n",
    "                   low_en=low_en,high_en=high_en,\n",
    "                   meta_data=input_meta_data.copy())"
   ]
  },
  {
   "cell_type": "code",
   "execution_count": 3,
   "id": "9eeca733",
   "metadata": {},
   "outputs": [
    {
     "name": "stdout",
     "output_type": "stream",
     "text": [
      "tres 0.01\n",
      "texp 50.0\n",
      "bins 5000\n",
      "cr 5.26\n"
     ]
    }
   ],
   "source": [
    "print('tres',lc.tres)\n",
    "print('texp',lc.texp)\n",
    "print('bins',len(lc))\n",
    "print('cr',lc.cr)"
   ]
  },
  {
   "cell_type": "code",
   "execution_count": 4,
   "id": "4c9af60d",
   "metadata": {},
   "outputs": [
    {
     "name": "stdout",
     "output_type": "stream",
     "text": [
      "===> Splitting Lightcurve according to time segment\n",
      "LC_CRE_DATE 2022-5-15,20:24:24\n",
      "SPLITTING_SEG 2022-5-15,20:24:24\n",
      "------------------------------------------------------------------------\n",
      "LC_CRE_DATE 2022-5-15,20:24:24\n",
      "SPLITTING_SEG 2022-5-15,20:24:24\n",
      "------------------------------------------------------------------------\n",
      "LC_CRE_DATE 2022-5-15,20:24:24\n",
      "SPLITTING_SEG 2022-5-15,20:24:24\n",
      "------------------------------------------------------------------------\n",
      "LC_CRE_DATE 2022-5-15,20:24:24\n",
      "SPLITTING_SEG 2022-5-15,20:24:24\n",
      "------------------------------------------------------------------------\n",
      "LC_CRE_DATE 2022-5-15,20:24:24\n",
      "SPLITTING_SEG 2022-5-15,20:24:24\n",
      "------------------------------------------------------------------------\n"
     ]
    }
   ],
   "source": [
    "lc_list10 = lc.split(10)\n",
    "for lci in lc_list10:\n",
    "    for key,item in lci.meta_data['HISTORY'].items():\n",
    "        print('{:<10} {:<15}'.format(key,item))\n",
    "    print('-'*72)"
   ]
  },
  {
   "cell_type": "code",
   "execution_count": 5,
   "id": "936d9453",
   "metadata": {},
   "outputs": [
    {
     "name": "stdout",
     "output_type": "stream",
     "text": [
      "LC_CRE_DATE 2022-5-15,20:24:24\n",
      "SPLITTING_SEG 2022-5-15,20:24:24\n",
      "------------------------------------------------------------------------\n",
      "LC_CRE_DATE 2022-5-15,20:24:24\n",
      "SPLITTING_SEG 2022-5-15,20:24:24\n",
      "------------------------------------------------------------------------\n",
      "LC_CRE_DATE 2022-5-15,20:24:24\n",
      "SPLITTING_SEG 2022-5-15,20:24:24\n",
      "------------------------------------------------------------------------\n",
      "LC_CRE_DATE 2022-5-15,20:24:24\n",
      "SPLITTING_SEG 2022-5-15,20:24:24\n",
      "------------------------------------------------------------------------\n",
      "LC_CRE_DATE 2022-5-15,20:24:24\n",
      "SPLITTING_SEG 2022-5-15,20:24:24\n",
      "------------------------------------------------------------------------\n"
     ]
    }
   ],
   "source": [
    "for lci in lc_list10:\n",
    "    for key,item in lci.meta_data['HISTORY'].items():\n",
    "        print('{:<10} {:<15}'.format(key,item))\n",
    "    print('-'*72)"
   ]
  },
  {
   "cell_type": "code",
   "execution_count": 6,
   "id": "e1358946",
   "metadata": {},
   "outputs": [
    {
     "data": {
      "text/plain": [
       "{'LC_CRE_DATE': '2022-5-15,20:24:24'}"
      ]
     },
     "execution_count": 6,
     "metadata": {},
     "output_type": "execute_result"
    }
   ],
   "source": [
    "lc.meta_data['HISTORY']"
   ]
  },
  {
   "cell_type": "code",
   "execution_count": 7,
   "id": "ff19466b",
   "metadata": {},
   "outputs": [
    {
     "name": "stdout",
     "output_type": "stream",
     "text": [
      "===> Splitting Lightcurve according to time segment\n"
     ]
    }
   ],
   "source": [
    "lc4 = lc_list10[0].split(4)"
   ]
  },
  {
   "cell_type": "code",
   "execution_count": 8,
   "id": "24ad412f",
   "metadata": {},
   "outputs": [
    {
     "name": "stdout",
     "output_type": "stream",
     "text": [
      "LC_CRE_DATE 2022-5-15,20:24:24\n",
      "SPLITTING_SEG 2022-5-15,20:24:24\n",
      "------------------------------------------------------------------------\n",
      "LC_CRE_DATE 2022-5-15,20:24:24\n",
      "SPLITTING_SEG 2022-5-15,20:24:24\n",
      "------------------------------------------------------------------------\n",
      "LC_CRE_DATE 2022-5-15,20:24:24\n",
      "SPLITTING_SEG 2022-5-15,20:24:24\n",
      "------------------------------------------------------------------------\n",
      "LC_CRE_DATE 2022-5-15,20:24:24\n",
      "SPLITTING_SEG 2022-5-15,20:24:24\n",
      "------------------------------------------------------------------------\n",
      "LC_CRE_DATE 2022-5-15,20:24:24\n",
      "SPLITTING_SEG 2022-5-15,20:24:24\n",
      "------------------------------------------------------------------------\n"
     ]
    }
   ],
   "source": [
    "for lci in lc_list10:\n",
    "    for key,item in lci.meta_data['HISTORY'].items():\n",
    "        print('{:<10} {:<15}'.format(key,item))\n",
    "    print('-'*72)"
   ]
  },
  {
   "cell_type": "code",
   "execution_count": 9,
   "id": "a7f299e7",
   "metadata": {},
   "outputs": [
    {
     "data": {
      "text/plain": [
       "{'LC_CRE_DATE': '2022-5-15,20:24:24'}"
      ]
     },
     "execution_count": 9,
     "metadata": {},
     "output_type": "execute_result"
    }
   ],
   "source": [
    "lc.meta_data['HISTORY']"
   ]
  },
  {
   "cell_type": "code",
   "execution_count": 10,
   "id": "d99a9fd2",
   "metadata": {},
   "outputs": [
    {
     "name": "stdout",
     "output_type": "stream",
     "text": [
      "0.5\n"
     ]
    }
   ],
   "source": [
    "print(lc4[0].low_en)"
   ]
  },
  {
   "cell_type": "code",
   "execution_count": 11,
   "id": "82c02685",
   "metadata": {},
   "outputs": [],
   "source": [
    "lc4[0].low_en = 3"
   ]
  },
  {
   "cell_type": "code",
   "execution_count": 12,
   "id": "70c12f4c",
   "metadata": {},
   "outputs": [
    {
     "data": {
      "text/plain": [
       "0.5"
      ]
     },
     "execution_count": 12,
     "metadata": {},
     "output_type": "execute_result"
    }
   ],
   "source": [
    "lc.low_en"
   ]
  },
  {
   "cell_type": "code",
   "execution_count": 13,
   "id": "60f5a548",
   "metadata": {
    "scrolled": false
   },
   "outputs": [
    {
     "name": "stdout",
     "output_type": "stream",
     "text": [
      "===> Splitting Lightcurve according to time segment\n",
      "===> Splitting Lightcurve according to time segment\n",
      "===> Splitting Lightcurve according to time segment\n",
      "===> Splitting Lightcurve according to time segment\n",
      "===> Splitting Lightcurve according to time segment\n",
      "LC_CRE_DATE 2022-5-15,20:24:24\n",
      "SPLITTING_SEG 2022-5-15,20:24:24\n",
      "SPLITTING_SEG_1 2022-5-15,20:24:24\n",
      "------------------------------------------------------------------------\n",
      "LC_CRE_DATE 2022-5-15,20:24:24\n",
      "SPLITTING_SEG 2022-5-15,20:24:24\n",
      "SPLITTING_SEG_1 2022-5-15,20:24:24\n",
      "------------------------------------------------------------------------\n",
      "LC_CRE_DATE 2022-5-15,20:24:24\n",
      "SPLITTING_SEG 2022-5-15,20:24:24\n",
      "SPLITTING_SEG_1 2022-5-15,20:24:24\n",
      "------------------------------------------------------------------------\n",
      "LC_CRE_DATE 2022-5-15,20:24:24\n",
      "SPLITTING_SEG 2022-5-15,20:24:24\n",
      "SPLITTING_SEG_1 2022-5-15,20:24:24\n",
      "------------------------------------------------------------------------\n",
      "LC_CRE_DATE 2022-5-15,20:24:24\n",
      "SPLITTING_SEG 2022-5-15,20:24:24\n",
      "SPLITTING_SEG_1 2022-5-15,20:24:24\n",
      "------------------------------------------------------------------------\n",
      "LC_CRE_DATE 2022-5-15,20:24:24\n",
      "SPLITTING_SEG 2022-5-15,20:24:24\n",
      "SPLITTING_SEG_1 2022-5-15,20:24:24\n",
      "------------------------------------------------------------------------\n",
      "LC_CRE_DATE 2022-5-15,20:24:24\n",
      "SPLITTING_SEG 2022-5-15,20:24:24\n",
      "SPLITTING_SEG_1 2022-5-15,20:24:24\n",
      "------------------------------------------------------------------------\n",
      "LC_CRE_DATE 2022-5-15,20:24:24\n",
      "SPLITTING_SEG 2022-5-15,20:24:24\n",
      "SPLITTING_SEG_1 2022-5-15,20:24:24\n",
      "------------------------------------------------------------------------\n",
      "LC_CRE_DATE 2022-5-15,20:24:24\n",
      "SPLITTING_SEG 2022-5-15,20:24:24\n",
      "SPLITTING_SEG_1 2022-5-15,20:24:24\n",
      "------------------------------------------------------------------------\n",
      "LC_CRE_DATE 2022-5-15,20:24:24\n",
      "SPLITTING_SEG 2022-5-15,20:24:24\n",
      "SPLITTING_SEG_1 2022-5-15,20:24:24\n",
      "------------------------------------------------------------------------\n"
     ]
    }
   ],
   "source": [
    "lc_list10_4 = lc_list10.split(4)\n",
    "for lci in lc_list10_4:\n",
    "    for key,item in lci.meta_data['HISTORY'].items():\n",
    "        print('{:<10} {:<15}'.format(key,item))\n",
    "    print('-'*72)    "
   ]
  },
  {
   "cell_type": "code",
   "execution_count": 14,
   "id": "9b346054",
   "metadata": {},
   "outputs": [
    {
     "name": "stdout",
     "output_type": "stream",
     "text": [
      "[1, 3] [2, 4]\n",
      "[5, 7] [6, 8]\n"
     ]
    }
   ],
   "source": [
    "gti1 = sx.Gti([1,3],[2,4])\n",
    "gti2 = sx.Gti([5,7],[6,8])"
   ]
  },
  {
   "cell_type": "code",
   "execution_count": 15,
   "id": "7766bf97",
   "metadata": {},
   "outputs": [],
   "source": [
    "lc2 = sx.Lightcurve(time_array=time_bins_center,count_array=hist,\n",
    "                   low_en=low_en,high_en=high_en,\n",
    "                   meta_data=input_meta_data)"
   ]
  },
  {
   "cell_type": "code",
   "execution_count": 16,
   "id": "ddcabf77",
   "metadata": {},
   "outputs": [
    {
     "data": {
      "text/plain": [
       "{'LC_CRE_DATE': '2022-5-15,20:24:24'}"
      ]
     },
     "execution_count": 16,
     "metadata": {},
     "output_type": "execute_result"
    }
   ],
   "source": [
    "lc2.meta_data['HISTORY']"
   ]
  },
  {
   "cell_type": "code",
   "execution_count": 17,
   "id": "88e78aa0",
   "metadata": {},
   "outputs": [
    {
     "name": "stdout",
     "output_type": "stream",
     "text": [
      "===> Splitting Lightcurve according to GTI\n",
      "{'LC_CRE_DATE': '2022-5-15,20:24:24', 'SPLITTING_GTI': '2022-5-15,20:24:24'}\n"
     ]
    }
   ],
   "source": [
    "lc_list1 = lc2.split(gti1)\n",
    "print(lc_list1[0].meta_data['HISTORY'])"
   ]
  },
  {
   "cell_type": "code",
   "execution_count": 18,
   "id": "2eec87dd",
   "metadata": {},
   "outputs": [],
   "source": [
    "cross1 = sx.CrossSpectrum()\n",
    "cross2 = sx.CrossSpectrum()"
   ]
  },
  {
   "cell_type": "code",
   "execution_count": 19,
   "id": "a2e0b2e2",
   "metadata": {},
   "outputs": [],
   "source": [
    "cross1.meta_data['test'] = 1"
   ]
  },
  {
   "cell_type": "code",
   "execution_count": 20,
   "id": "1676104a",
   "metadata": {},
   "outputs": [
    {
     "name": "stdout",
     "output_type": "stream",
     "text": [
      "{'HISTORY': {'PW_CRE_DATE': '2022-5-15,20:24:24'}, 'NOTES': {}}\n"
     ]
    }
   ],
   "source": [
    "print(cross2.meta_data)"
   ]
  },
  {
   "cell_type": "code",
   "execution_count": 21,
   "id": "a85924a4",
   "metadata": {},
   "outputs": [
    {
     "name": "stdout",
     "output_type": "stream",
     "text": [
      "{'HISTORY': {'PW_CRE_DATE': '2022-5-15,20:24:24'}, 'NOTES': {}, 'test': 1}\n"
     ]
    }
   ],
   "source": [
    "print(cross1.meta_data)"
   ]
  },
  {
   "cell_type": "code",
   "execution_count": 22,
   "id": "78a49550",
   "metadata": {},
   "outputs": [],
   "source": [
    "cross1.en_range=(1,2)"
   ]
  },
  {
   "cell_type": "code",
   "execution_count": 23,
   "id": "22dc1fb3",
   "metadata": {},
   "outputs": [
    {
     "data": {
      "text/plain": [
       "[]"
      ]
     },
     "execution_count": 23,
     "metadata": {},
     "output_type": "execute_result"
    }
   ],
   "source": [
    "cross2.en_range"
   ]
  }
 ],
 "metadata": {
  "kernelspec": {
   "display_name": "Python 3",
   "language": "python",
   "name": "python3"
  },
  "language_info": {
   "codemirror_mode": {
    "name": "ipython",
    "version": 3
   },
   "file_extension": ".py",
   "mimetype": "text/x-python",
   "name": "python",
   "nbconvert_exporter": "python",
   "pygments_lexer": "ipython3",
   "version": "3.8.8"
  },
  "toc": {
   "base_numbering": 1,
   "nav_menu": {},
   "number_sections": true,
   "sideBar": true,
   "skip_h1_title": false,
   "title_cell": "Table of Contents",
   "title_sidebar": "Contents",
   "toc_cell": false,
   "toc_position": {},
   "toc_section_display": true,
   "toc_window_display": false
  }
 },
 "nbformat": 4,
 "nbformat_minor": 5
}
