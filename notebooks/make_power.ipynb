{
 "cells": [
  {
   "cell_type": "code",
   "execution_count": 1,
   "metadata": {
    "ExecuteTime": {
     "end_time": "2021-03-07T02:39:28.841784Z",
     "start_time": "2021-03-07T02:39:26.982403Z"
    }
   },
   "outputs": [],
   "source": [
    "import sys\n",
    "sys.path.append('/Volumes/Samsung_T5/saturnx/')\n",
    "import pathlib\n",
    "import glob\n",
    "import saturnx as sx\n",
    "import logging\n",
    "\n",
    "import numpy as np\n",
    "import matplotlib.pyplot as plt\n",
    "%matplotlib inline"
   ]
  },
  {
   "cell_type": "code",
   "execution_count": 2,
   "metadata": {
    "ExecuteTime": {
     "end_time": "2021-03-07T02:39:28.846963Z",
     "start_time": "2021-03-07T02:39:28.844268Z"
    }
   },
   "outputs": [],
   "source": [
    "lc_list = '/Volumes/Samsung_T5/saturnx/examples/outputs/analysis/0100320101/lc_list_E0.5_10.0_T0.0078125.pkl'"
   ]
  },
  {
   "cell_type": "code",
   "execution_count": 3,
   "metadata": {
    "ExecuteTime": {
     "end_time": "2021-03-07T02:39:28.852684Z",
     "start_time": "2021-03-07T02:39:28.850140Z"
    }
   },
   "outputs": [],
   "source": [
    "output_dir = '/Volumes/Samsung_T5/saturnx/examples/outputs/'"
   ]
  },
  {
   "cell_type": "code",
   "execution_count": 4,
   "metadata": {
    "ExecuteTime": {
     "end_time": "2021-03-07T02:39:29.147320Z",
     "start_time": "2021-03-07T02:39:28.854623Z"
    }
   },
   "outputs": [
    {
     "name": "stderr",
     "output_type": "stream",
     "text": [
      "INFO: 2021-03-07 03:39:28,856: ************************************************************************\n",
      "INFO: 2021-03-07 03:39:28,858: ************************       make_power       ************************\n",
      "INFO: 2021-03-07 03:39:28,859: ************************************************************************\n",
      "INFO: 2021-03-07 03:39:28,860: \n",
      "INFO: 2021-03-07 03:39:28,860: Settings:\n",
      "INFO: 2021-03-07 03:39:28,861: ------------------------------------------------------------\n",
      "INFO: 2021-03-07 03:39:28,861: Lightcurve list file: lc_list_E0.5_10.0_T0.0078125.pkl\n",
      "INFO: 2021-03-07 03:39:28,862: Selected time segment: 128.0 s\n",
      "INFO: 2021-03-07 03:39:28,863: Log file name: /Volumes/Samsung_T5/kronos/examples/outputs/logs/make_power_D7_3_2021_T3_39\n",
      "INFO: 2021-03-07 03:39:28,863: ------------------------------------------------------------\n",
      "INFO: 2021-03-07 03:39:28,864: \n",
      "INFO: 2021-03-07 03:39:28,864: Processing lightcurve: /Volumes/Samsung_T5/kronos/examples/outputs/analysis/0100320101/lc_list_E0.5_10.0_T0.0078125.pkl\n",
      "INFO: 2021-03-07 03:39:28,925: Splitting lightcurve list according to segments\n",
      "INFO: 2021-03-07 03:39:28,939: NumExpr defaulting to 8 threads.\n",
      "INFO: 2021-03-07 03:39:28,956: Done!\n",
      "INFO: 2021-03-07 03:39:28,956: Saving LightcurveList in the event folder\n",
      "INFO: 2021-03-07 03:39:29,010: Computing power spectrum list\n",
      "INFO: 2021-03-07 03:39:29,034: Done!\n",
      "INFO: 2021-03-07 03:39:29,034: Saving power list\n",
      "INFO: 2021-03-07 03:39:29,075: Done!\n",
      "INFO: 2021-03-07 03:39:29,076: Computing average power\n",
      "INFO: 2021-03-07 03:39:29,126: Done!\n",
      "INFO: 2021-03-07 03:39:29,127: Saving average power\n"
     ]
    },
    {
     "name": "stdout",
     "output_type": "stream",
     "text": [
      "===> Splitting Segment\n",
      "===> Splitting Segment\n",
      "LightcurveList saved in /Volumes/Samsung_T5/kronos/examples/outputs/analysis/0100320101/lc_list_E0.5_10.0_T0.0078125_128.0.pkl\n",
      "PowerList saved in /Volumes/Samsung_T5/kronos/examples/outputs/analysis/0100320101/power_list_E0.5_10.0_T0.0078125_128.0.pkl\n",
      "Power without errors\n",
      "Power without errors\n",
      "Power without errors\n",
      "Power without errors\n",
      "Power without errors\n"
     ]
    },
    {
     "name": "stderr",
     "output_type": "stream",
     "text": [
      "INFO: 2021-03-07 03:39:29,141: Done!\n"
     ]
    },
    {
     "name": "stdout",
     "output_type": "stream",
     "text": [
      "PowerSpectrum saved in /Volumes/Samsung_T5/kronos/examples/outputs/analysis/0100320101/power_E0.5_10.0_T0.0078125_128.0.pkl\n"
     ]
    },
    {
     "data": {
      "text/plain": [
       "1"
      ]
     },
     "execution_count": 4,
     "metadata": {},
     "output_type": "execute_result"
    }
   ],
   "source": [
    "sx.make_power(lc_list,destination=output_dir,\n",
    "              tseg=128.,override=True)"
   ]
  },
  {
   "cell_type": "code",
   "execution_count": 5,
   "metadata": {
    "ExecuteTime": {
     "end_time": "2021-03-07T02:39:29.152666Z",
     "start_time": "2021-03-07T02:39:29.149576Z"
    }
   },
   "outputs": [],
   "source": [
    "wf = pathlib.Path(output_dir)/'analysis'/'0100320101'"
   ]
  },
  {
   "cell_type": "code",
   "execution_count": 6,
   "metadata": {
    "ExecuteTime": {
     "end_time": "2021-03-07T02:39:29.159316Z",
     "start_time": "2021-03-07T02:39:29.154675Z"
    }
   },
   "outputs": [],
   "source": [
    "lc_list_file = glob.glob(str(wf/'lc_list_*.pkl'))[0]\n",
    "pw_list_file = glob.glob(str(wf/'power_list_*.pkl'))[0]\n",
    "pw_file = glob.glob(str(wf/'power_E*.pkl'))[0]"
   ]
  },
  {
   "cell_type": "code",
   "execution_count": 7,
   "metadata": {
    "ExecuteTime": {
     "end_time": "2021-03-07T02:39:29.172080Z",
     "start_time": "2021-03-07T02:39:29.162815Z"
    }
   },
   "outputs": [],
   "source": [
    "pw_list = sx.PowerSpectrum.load(pw_list_file)"
   ]
  },
  {
   "cell_type": "code",
   "execution_count": 8,
   "metadata": {
    "ExecuteTime": {
     "end_time": "2021-03-07T02:39:29.286215Z",
     "start_time": "2021-03-07T02:39:29.174988Z"
    }
   },
   "outputs": [
    {
     "data": {
      "text/html": [
       "<div>\n",
       "<style scoped>\n",
       "    .dataframe tbody tr th:only-of-type {\n",
       "        vertical-align: middle;\n",
       "    }\n",
       "\n",
       "    .dataframe tbody tr th {\n",
       "        vertical-align: top;\n",
       "    }\n",
       "\n",
       "    .dataframe thead th {\n",
       "        text-align: right;\n",
       "    }\n",
       "</style>\n",
       "<table border=\"1\" class=\"dataframe\">\n",
       "  <thead>\n",
       "    <tr style=\"text-align: right;\">\n",
       "      <th></th>\n",
       "      <th>df</th>\n",
       "      <th>nf</th>\n",
       "      <th>n_bins</th>\n",
       "      <th>a0</th>\n",
       "      <th>count_rate</th>\n",
       "      <th>frac_rms</th>\n",
       "      <th>frac_rms_err</th>\n",
       "      <th>leahy_norm</th>\n",
       "      <th>rms_norm</th>\n",
       "      <th>weight</th>\n",
       "      <th>min_en</th>\n",
       "      <th>max_en</th>\n",
       "      <th>mission</th>\n",
       "    </tr>\n",
       "  </thead>\n",
       "  <tbody>\n",
       "    <tr>\n",
       "      <th>0</th>\n",
       "      <td>0.00781</td>\n",
       "      <td>63.97952</td>\n",
       "      <td>16384</td>\n",
       "      <td>584510.0</td>\n",
       "      <td>4565.02310</td>\n",
       "      <td>0.300237</td>\n",
       "      <td>None</td>\n",
       "      <td>None</td>\n",
       "      <td>None</td>\n",
       "      <td>1</td>\n",
       "      <td>0.5</td>\n",
       "      <td>10.0</td>\n",
       "      <td>NICER</td>\n",
       "    </tr>\n",
       "    <tr>\n",
       "      <th>1</th>\n",
       "      <td>0.00781</td>\n",
       "      <td>63.97952</td>\n",
       "      <td>16384</td>\n",
       "      <td>592868.0</td>\n",
       "      <td>4630.29908</td>\n",
       "      <td>0.295619</td>\n",
       "      <td>None</td>\n",
       "      <td>None</td>\n",
       "      <td>None</td>\n",
       "      <td>1</td>\n",
       "      <td>0.5</td>\n",
       "      <td>10.0</td>\n",
       "      <td>NICER</td>\n",
       "    </tr>\n",
       "    <tr>\n",
       "      <th>2</th>\n",
       "      <td>0.00781</td>\n",
       "      <td>63.97952</td>\n",
       "      <td>16384</td>\n",
       "      <td>581539.0</td>\n",
       "      <td>4541.81959</td>\n",
       "      <td>0.298500</td>\n",
       "      <td>None</td>\n",
       "      <td>None</td>\n",
       "      <td>None</td>\n",
       "      <td>1</td>\n",
       "      <td>0.5</td>\n",
       "      <td>10.0</td>\n",
       "      <td>NICER</td>\n",
       "    </tr>\n",
       "    <tr>\n",
       "      <th>3</th>\n",
       "      <td>0.00781</td>\n",
       "      <td>63.97952</td>\n",
       "      <td>16384</td>\n",
       "      <td>574483.0</td>\n",
       "      <td>4486.71223</td>\n",
       "      <td>0.294068</td>\n",
       "      <td>None</td>\n",
       "      <td>None</td>\n",
       "      <td>None</td>\n",
       "      <td>1</td>\n",
       "      <td>0.5</td>\n",
       "      <td>10.0</td>\n",
       "      <td>NICER</td>\n",
       "    </tr>\n",
       "    <tr>\n",
       "      <th>4</th>\n",
       "      <td>0.00781</td>\n",
       "      <td>63.97952</td>\n",
       "      <td>16384</td>\n",
       "      <td>591119.0</td>\n",
       "      <td>4616.63939</td>\n",
       "      <td>0.303416</td>\n",
       "      <td>None</td>\n",
       "      <td>None</td>\n",
       "      <td>None</td>\n",
       "      <td>1</td>\n",
       "      <td>0.5</td>\n",
       "      <td>10.0</td>\n",
       "      <td>NICER</td>\n",
       "    </tr>\n",
       "  </tbody>\n",
       "</table>\n",
       "</div>"
      ],
      "text/plain": [
       "        df        nf n_bins        a0  count_rate  frac_rms frac_rms_err  \\\n",
       "0  0.00781  63.97952  16384  584510.0  4565.02310  0.300237         None   \n",
       "1  0.00781  63.97952  16384  592868.0  4630.29908  0.295619         None   \n",
       "2  0.00781  63.97952  16384  581539.0  4541.81959  0.298500         None   \n",
       "3  0.00781  63.97952  16384  574483.0  4486.71223  0.294068         None   \n",
       "4  0.00781  63.97952  16384  591119.0  4616.63939  0.303416         None   \n",
       "\n",
       "  leahy_norm rms_norm weight  min_en  max_en mission  \n",
       "0       None     None      1     0.5    10.0   NICER  \n",
       "1       None     None      1     0.5    10.0   NICER  \n",
       "2       None     None      1     0.5    10.0   NICER  \n",
       "3       None     None      1     0.5    10.0   NICER  \n",
       "4       None     None      1     0.5    10.0   NICER  "
      ]
     },
     "execution_count": 8,
     "metadata": {},
     "output_type": "execute_result"
    }
   ],
   "source": [
    "pw_list.info()"
   ]
  },
  {
   "cell_type": "code",
   "execution_count": 9,
   "metadata": {
    "ExecuteTime": {
     "end_time": "2021-03-07T02:39:29.294205Z",
     "start_time": "2021-03-07T02:39:29.288037Z"
    }
   },
   "outputs": [
    {
     "name": "stdout",
     "output_type": "stream",
     "text": [
      "PW_CRE_MODE: Power computed from Lightcurve\n",
      "TIME_RES: 0.0078125\n",
      "SEG_DUR: 128.0\n",
      "EVT_FILE_NAME: ni0100320101_0mpu7_cl_bc_bdc.evt.gz\n",
      "DIR: /Volumes/Seagate/NICER_data/Cygnus_X1/0100320101/xti/event_cl\n",
      "MISSION: NICER\n",
      "INFO_FROM_HEADER:\n",
      "--- OBJECT: Cyg_X-1\n",
      "--- TELESCOP: NICER\n",
      "--- INSTRUME: XTI\n",
      "--- OBS_ID: 0100320101\n",
      "--- RA_OBJ: 299.5922\n",
      "--- DEC_OBJ: 35.20114\n",
      "--- CREATOR: axBary - 2.14\n",
      "--- DATE: 2020-10-18T23:55:17\n",
      "--- SOFTVER: Hea_10Oct2017_V6.22.1_NICER_2018-03-01_V003\n",
      "--- CALDBVER: xti20180226\n",
      "--- GCALFILE: nixtiflightpi20170601v006.fits\n",
      "--- DATE-OBS: 2017-06-30T16:02:31\n",
      "--- DATE-END: 2017-06-30T16:26:54\n",
      "--- TSTART: 110304084.671758\n",
      "--- TSTOP: 110305547.714284\n",
      "--- MJDREF: None\n",
      "--- MJDREFI: 56658\n",
      "--- MJDREFF: 0.000777592592592593\n",
      "--- TIMEZERO: 0.0\n",
      "--- LEAPINIT: 2\n",
      "--- CLOCKAPP: True\n",
      "--- ONTIME: 719\n",
      "--- EXPOSURE: 719\n",
      "--- NAXIS2: 3308165\n",
      "--- TIMESYS: TDB\n",
      "N_GTIS: 4\n",
      "GTI_INDEX: 0\n",
      "N_SEGS: 4\n",
      "SEG_INDEX: 0\n",
      "N_ACT_DET: 50\n",
      "INACT_DET_LIST: [11, 14, 20, 22, 34, 60]\n",
      "PW_CRE_DATE: 2021-3-7,2:39:29\n",
      "------------------------------------------------------------------------\n",
      "PW_CRE_MODE: Power computed from Lightcurve\n",
      "TIME_RES: 0.0078125\n",
      "SEG_DUR: 128.0\n",
      "EVT_FILE_NAME: ni0100320101_0mpu7_cl_bc_bdc.evt.gz\n",
      "DIR: /Volumes/Seagate/NICER_data/Cygnus_X1/0100320101/xti/event_cl\n",
      "MISSION: NICER\n",
      "INFO_FROM_HEADER:\n",
      "--- OBJECT: Cyg_X-1\n",
      "--- TELESCOP: NICER\n",
      "--- INSTRUME: XTI\n",
      "--- OBS_ID: 0100320101\n",
      "--- RA_OBJ: 299.5922\n",
      "--- DEC_OBJ: 35.20114\n",
      "--- CREATOR: axBary - 2.14\n",
      "--- DATE: 2020-10-18T23:55:17\n",
      "--- SOFTVER: Hea_10Oct2017_V6.22.1_NICER_2018-03-01_V003\n",
      "--- CALDBVER: xti20180226\n",
      "--- GCALFILE: nixtiflightpi20170601v006.fits\n",
      "--- DATE-OBS: 2017-06-30T16:02:31\n",
      "--- DATE-END: 2017-06-30T16:26:54\n",
      "--- TSTART: 110304084.671758\n",
      "--- TSTOP: 110305547.714284\n",
      "--- MJDREF: None\n",
      "--- MJDREFI: 56658\n",
      "--- MJDREFF: 0.000777592592592593\n",
      "--- TIMEZERO: 0.0\n",
      "--- LEAPINIT: 2\n",
      "--- CLOCKAPP: True\n",
      "--- ONTIME: 719\n",
      "--- EXPOSURE: 719\n",
      "--- NAXIS2: 3308165\n",
      "--- TIMESYS: TDB\n",
      "N_GTIS: 4\n",
      "GTI_INDEX: 0\n",
      "N_SEGS: 4\n",
      "SEG_INDEX: 1\n",
      "N_ACT_DET: 50\n",
      "INACT_DET_LIST: [11, 14, 20, 22, 34, 60]\n",
      "PW_CRE_DATE: 2021-3-7,2:39:29\n",
      "------------------------------------------------------------------------\n",
      "PW_CRE_MODE: Power computed from Lightcurve\n",
      "TIME_RES: 0.0078125\n",
      "SEG_DUR: 128.0\n",
      "EVT_FILE_NAME: ni0100320101_0mpu7_cl_bc_bdc.evt.gz\n",
      "DIR: /Volumes/Seagate/NICER_data/Cygnus_X1/0100320101/xti/event_cl\n",
      "MISSION: NICER\n",
      "INFO_FROM_HEADER:\n",
      "--- OBJECT: Cyg_X-1\n",
      "--- TELESCOP: NICER\n",
      "--- INSTRUME: XTI\n",
      "--- OBS_ID: 0100320101\n",
      "--- RA_OBJ: 299.5922\n",
      "--- DEC_OBJ: 35.20114\n",
      "--- CREATOR: axBary - 2.14\n",
      "--- DATE: 2020-10-18T23:55:17\n",
      "--- SOFTVER: Hea_10Oct2017_V6.22.1_NICER_2018-03-01_V003\n",
      "--- CALDBVER: xti20180226\n",
      "--- GCALFILE: nixtiflightpi20170601v006.fits\n",
      "--- DATE-OBS: 2017-06-30T16:02:31\n",
      "--- DATE-END: 2017-06-30T16:26:54\n",
      "--- TSTART: 110304084.671758\n",
      "--- TSTOP: 110305547.714284\n",
      "--- MJDREF: None\n",
      "--- MJDREFI: 56658\n",
      "--- MJDREFF: 0.000777592592592593\n",
      "--- TIMEZERO: 0.0\n",
      "--- LEAPINIT: 2\n",
      "--- CLOCKAPP: True\n",
      "--- ONTIME: 719\n",
      "--- EXPOSURE: 719\n",
      "--- NAXIS2: 3308165\n",
      "--- TIMESYS: TDB\n",
      "N_GTIS: 4\n",
      "GTI_INDEX: 0\n",
      "N_SEGS: 4\n",
      "SEG_INDEX: 2\n",
      "N_ACT_DET: 50\n",
      "INACT_DET_LIST: [11, 14, 20, 22, 34, 60]\n",
      "PW_CRE_DATE: 2021-3-7,2:39:29\n",
      "------------------------------------------------------------------------\n",
      "PW_CRE_MODE: Power computed from Lightcurve\n",
      "TIME_RES: 0.0078125\n",
      "SEG_DUR: 128.0\n",
      "EVT_FILE_NAME: ni0100320101_0mpu7_cl_bc_bdc.evt.gz\n",
      "DIR: /Volumes/Seagate/NICER_data/Cygnus_X1/0100320101/xti/event_cl\n",
      "MISSION: NICER\n",
      "INFO_FROM_HEADER:\n",
      "--- OBJECT: Cyg_X-1\n",
      "--- TELESCOP: NICER\n",
      "--- INSTRUME: XTI\n",
      "--- OBS_ID: 0100320101\n",
      "--- RA_OBJ: 299.5922\n",
      "--- DEC_OBJ: 35.20114\n",
      "--- CREATOR: axBary - 2.14\n",
      "--- DATE: 2020-10-18T23:55:17\n",
      "--- SOFTVER: Hea_10Oct2017_V6.22.1_NICER_2018-03-01_V003\n",
      "--- CALDBVER: xti20180226\n",
      "--- GCALFILE: nixtiflightpi20170601v006.fits\n",
      "--- DATE-OBS: 2017-06-30T16:02:31\n",
      "--- DATE-END: 2017-06-30T16:26:54\n",
      "--- TSTART: 110304084.671758\n",
      "--- TSTOP: 110305547.714284\n",
      "--- MJDREF: None\n",
      "--- MJDREFI: 56658\n",
      "--- MJDREFF: 0.000777592592592593\n",
      "--- TIMEZERO: 0.0\n",
      "--- LEAPINIT: 2\n",
      "--- CLOCKAPP: True\n",
      "--- ONTIME: 719\n",
      "--- EXPOSURE: 719\n",
      "--- NAXIS2: 3308165\n",
      "--- TIMESYS: TDB\n",
      "N_GTIS: 4\n",
      "GTI_INDEX: 0\n",
      "N_SEGS: 4\n",
      "SEG_INDEX: 3\n",
      "N_ACT_DET: 50\n",
      "INACT_DET_LIST: [11, 14, 20, 22, 34, 60]\n",
      "PW_CRE_DATE: 2021-3-7,2:39:29\n",
      "------------------------------------------------------------------------\n",
      "PW_CRE_MODE: Power computed from Lightcurve\n",
      "TIME_RES: 0.0078125\n",
      "SEG_DUR: 128.0\n",
      "EVT_FILE_NAME: ni0100320101_0mpu7_cl_bc_bdc.evt.gz\n",
      "DIR: /Volumes/Seagate/NICER_data/Cygnus_X1/0100320101/xti/event_cl\n",
      "MISSION: NICER\n",
      "INFO_FROM_HEADER:\n",
      "--- OBJECT: Cyg_X-1\n",
      "--- TELESCOP: NICER\n",
      "--- INSTRUME: XTI\n",
      "--- OBS_ID: 0100320101\n",
      "--- RA_OBJ: 299.5922\n",
      "--- DEC_OBJ: 35.20114\n",
      "--- CREATOR: axBary - 2.14\n",
      "--- DATE: 2020-10-18T23:55:17\n",
      "--- SOFTVER: Hea_10Oct2017_V6.22.1_NICER_2018-03-01_V003\n",
      "--- CALDBVER: xti20180226\n",
      "--- GCALFILE: nixtiflightpi20170601v006.fits\n",
      "--- DATE-OBS: 2017-06-30T16:02:31\n",
      "--- DATE-END: 2017-06-30T16:26:54\n",
      "--- TSTART: 110304084.671758\n",
      "--- TSTOP: 110305547.714284\n",
      "--- MJDREF: None\n",
      "--- MJDREFI: 56658\n",
      "--- MJDREFF: 0.000777592592592593\n",
      "--- TIMEZERO: 0.0\n",
      "--- LEAPINIT: 2\n",
      "--- CLOCKAPP: True\n",
      "--- ONTIME: 719\n",
      "--- EXPOSURE: 719\n",
      "--- NAXIS2: 3308165\n",
      "--- TIMESYS: TDB\n",
      "N_GTIS: 4\n",
      "GTI_INDEX: 1\n",
      "N_SEGS: 1\n",
      "SEG_INDEX: 0\n",
      "N_ACT_DET: 50\n",
      "INACT_DET_LIST: [11, 14, 20, 22, 34, 60]\n",
      "PW_CRE_DATE: 2021-3-7,2:39:29\n",
      "------------------------------------------------------------------------\n"
     ]
    }
   ],
   "source": [
    "for pw in pw_list:\n",
    "    sx.print_meta_data(pw)\n",
    "    print('-'*72)"
   ]
  },
  {
   "cell_type": "code",
   "execution_count": 10,
   "metadata": {
    "ExecuteTime": {
     "end_time": "2021-03-07T02:39:29.301412Z",
     "start_time": "2021-03-07T02:39:29.296141Z"
    }
   },
   "outputs": [],
   "source": [
    "leahy_power = sx.PowerSpectrum.load(pw_file)"
   ]
  },
  {
   "cell_type": "code",
   "execution_count": 11,
   "metadata": {
    "ExecuteTime": {
     "end_time": "2021-03-07T02:39:29.305711Z",
     "start_time": "2021-03-07T02:39:29.302942Z"
    }
   },
   "outputs": [],
   "source": [
    "logging.getLogger().setLevel(level=logging.INFO)"
   ]
  },
  {
   "cell_type": "code",
   "execution_count": 12,
   "metadata": {
    "ExecuteTime": {
     "end_time": "2021-03-07T02:39:30.030848Z",
     "start_time": "2021-03-07T02:39:29.307617Z"
    },
    "scrolled": false
   },
   "outputs": [
    {
     "name": "stdout",
     "output_type": "stream",
     "text": [
      "Done!\n"
     ]
    },
    {
     "data": {
      "image/png": "[encoded data removed]",
      "text/plain": [
       "<Figure size 432x432 with 1 Axes>"
      ]
     },
     "metadata": {
      "needs_background": "light"
     },
     "output_type": "display_data"
    }
   ],
   "source": [
    "leahy_power.rebin().plot(marker='_')"
   ]
  }
 ],
 "metadata": {
  "hide_input": false,
  "kernelspec": {
   "display_name": "Python 3",
   "language": "python",
   "name": "python3"
  },
  "language_info": {
   "codemirror_mode": {
    "name": "ipython",
    "version": 3
   },
   "file_extension": ".py",
   "mimetype": "text/x-python",
   "name": "python",
   "nbconvert_exporter": "python",
   "pygments_lexer": "ipython3",
   "version": "3.7.6"
  },
  "toc": {
   "base_numbering": 1,
   "nav_menu": {},
   "number_sections": true,
   "sideBar": true,
   "skip_h1_title": false,
   "title_cell": "Table of Contents",
   "title_sidebar": "Contents",
   "toc_cell": false,
   "toc_position": {},
   "toc_section_display": true,
   "toc_window_display": false
  },
  "varInspector": {
   "cols": {
    "lenName": 16,
    "lenType": 16,
    "lenVar": 40
   },
   "kernels_config": {
    "python": {
     "delete_cmd_postfix": "",
     "delete_cmd_prefix": "del ",
     "library": "var_list.py",
     "varRefreshCmd": "print(var_dic_list())"
    },
    "r": {
     "delete_cmd_postfix": ") ",
     "delete_cmd_prefix": "rm(",
     "library": "var_list.r",
     "varRefreshCmd": "cat(var_dic_list()) "
    }
   },
   "types_to_exclude": [
    "module",
    "function",
    "builtin_function_or_method",
    "instance",
    "_Feature"
   ],
   "window_display": false
  }
 },
 "nbformat": 4,
 "nbformat_minor": 4
}
