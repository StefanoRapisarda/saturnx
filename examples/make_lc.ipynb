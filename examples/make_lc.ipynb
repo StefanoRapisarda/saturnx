{
 "cells": [
  {
   "cell_type": "code",
   "execution_count": 1,
   "metadata": {
    "ExecuteTime": {
     "end_time": "2021-03-07T02:37:48.909287Z",
     "start_time": "2021-03-07T02:37:46.541163Z"
    }
   },
   "outputs": [],
   "source": [
    "import sys\n",
    "sys.path.append('/Volumes/Samsung_T5/kronos/')\n",
    "import pathlib\n",
    "import glob\n",
    "import math\n",
    "import kronos as kr\n",
    "%matplotlib inline"
   ]
  },
  {
   "cell_type": "code",
   "execution_count": 2,
   "metadata": {
    "ExecuteTime": {
     "end_time": "2021-03-07T02:37:48.915273Z",
     "start_time": "2021-03-07T02:37:48.912766Z"
    }
   },
   "outputs": [],
   "source": [
    "event_file = '/Volumes/Seagate/NICER_data/Cygnus_X1/0100320101/xti/event_cl/ni0100320101_0mpu7_cl_bc_bdc.evt.gz'"
   ]
  },
  {
   "cell_type": "code",
   "execution_count": 3,
   "metadata": {
    "ExecuteTime": {
     "end_time": "2021-03-07T02:37:48.920519Z",
     "start_time": "2021-03-07T02:37:48.917849Z"
    }
   },
   "outputs": [],
   "source": [
    "output_dir = '/Volumes/Samsung_T5/kronos/examples/outputs/'"
   ]
  },
  {
   "cell_type": "code",
   "execution_count": 4,
   "metadata": {
    "ExecuteTime": {
     "end_time": "2021-03-07T02:38:17.577787Z",
     "start_time": "2021-03-07T02:37:48.922220Z"
    }
   },
   "outputs": [
    {
     "name": "stderr",
     "output_type": "stream",
     "text": [
      "INFO: 2021-03-07 03:37:48,924: ************************************************************************\n",
      "INFO: 2021-03-07 03:37:48,925: ************************        make_lc         ************************\n",
      "INFO: 2021-03-07 03:37:48,926: ************************************************************************\n",
      "INFO: 2021-03-07 03:37:48,927: Creating analysis folder...\n",
      "INFO: 2021-03-07 03:37:53,836: \n",
      "INFO: 2021-03-07 03:37:53,837: Obs ID: 0100320101\n",
      "INFO: 2021-03-07 03:37:53,837: Settings:\n",
      "INFO: 2021-03-07 03:37:53,838: ------------------------------------------------------------\n",
      "INFO: 2021-03-07 03:37:53,839: Selected energy band: 0.5-10.0 keV\n",
      "INFO: 2021-03-07 03:37:53,839: Selected time resolution: 0.0078125 s\n",
      "INFO: 2021-03-07 03:37:53,840: Split events: yes\n",
      "INFO: 2021-03-07 03:37:53,840: Log file name: /Volumes/Samsung_T5/kronos/examples/outputs/logs/make_lc_D7_3_2021_T3_37\n",
      "INFO: 2021-03-07 03:37:53,841: ------------------------------------------------------------\n",
      "INFO: 2021-03-07 03:37:53,841: \n",
      "INFO: 2021-03-07 03:37:53,842: Reading event file\n",
      "WARNING: 2021-03-07 03:38:08,083: Could not read key MJDREF in ext EVENTS of /Volumes/Seagate/NICER_data/Cygnus_X1/0100320101/xti/event_cl/ni0100320101_0mpu7_cl_bc_bdc.evt.gz\n",
      "INFO: 2021-03-07 03:38:15,228: Done!\n",
      "INFO: 2021-03-07 03:38:15,229: Reading GTI from event file\n",
      "INFO: 2021-03-07 03:38:16,721: Done!\n",
      "INFO: 2021-03-07 03:38:16,722: N. GTIs: 4\n",
      "INFO: 2021-03-07 03:38:16,722: Splitting events according to GTIs\n",
      "INFO: 2021-03-07 03:38:16,741: NumExpr defaulting to 8 threads.\n",
      "INFO: 2021-03-07 03:38:17,189: Done!\n",
      "INFO: 2021-03-07 03:38:17,193: Computing lightcurve list\n"
     ]
    },
    {
     "name": "stdout",
     "output_type": "stream",
     "text": [
      "n_bins 542.0201867669821 0.0078125 69378\n"
     ]
    },
    {
     "name": "stderr",
     "output_type": "stream",
     "text": [
      "INFO: 2021-03-07 03:38:17,492: Done!\n",
      "INFO: 2021-03-07 03:38:17,493: Saving Lightcurve in the event folder\n",
      "INFO: 2021-03-07 03:38:17,554: Done!\n",
      "INFO: 2021-03-07 03:38:17,555: Saving Gti in the event folder\n",
      "INFO: 2021-03-07 03:38:17,559: Done!\n"
     ]
    },
    {
     "name": "stdout",
     "output_type": "stream",
     "text": [
      "n_bins 167.00181226432323 0.0078125 21376\n",
      "n_bins 6.999872729182243 0.0078125 895\n",
      "n_bins 3.00002783536911 0.0078125 384\n",
      "LightcurveList saved in /Volumes/Samsung_T5/kronos/examples/outputs/analysis/0100320101/lc_list_E0.5_10.0_T0.0078125.pkl\n",
      "Gti saved in /Volumes/Samsung_T5/kronos/examples/outputs/analysis/0100320101/gti.gti\n"
     ]
    },
    {
     "data": {
      "text/plain": [
       "1"
      ]
     },
     "execution_count": 4,
     "metadata": {},
     "output_type": "execute_result"
    }
   ],
   "source": [
    "kr.make_nicer_lc(event_file,destination=output_dir,\n",
    "              tres=0.0078125,low_en=0.5,high_en=10.,\n",
    "              split_event=True,override=True)"
   ]
  },
  {
   "cell_type": "code",
   "execution_count": 5,
   "metadata": {
    "ExecuteTime": {
     "end_time": "2021-03-07T02:38:17.583270Z",
     "start_time": "2021-03-07T02:38:17.580428Z"
    }
   },
   "outputs": [],
   "source": [
    "wf = pathlib.Path(output_dir)/'analysis'/'0100320101'"
   ]
  },
  {
   "cell_type": "code",
   "execution_count": 7,
   "metadata": {
    "ExecuteTime": {
     "end_time": "2021-03-07T02:38:31.992234Z",
     "start_time": "2021-03-07T02:38:31.988678Z"
    }
   },
   "outputs": [],
   "source": [
    "lc_file = glob.glob(str(wf/'lc_list_*.pkl'))[0]\n",
    "gti_file = glob.glob(str(wf/'*.gti'))[0]"
   ]
  },
  {
   "cell_type": "code",
   "execution_count": 8,
   "metadata": {
    "ExecuteTime": {
     "end_time": "2021-03-07T02:38:37.490834Z",
     "start_time": "2021-03-07T02:38:37.483623Z"
    }
   },
   "outputs": [],
   "source": [
    "lc_list = kr.LightcurveList.load(lc_file)"
   ]
  },
  {
   "cell_type": "code",
   "execution_count": 9,
   "metadata": {
    "ExecuteTime": {
     "end_time": "2021-03-07T02:38:38.881859Z",
     "start_time": "2021-03-07T02:38:38.879064Z"
    }
   },
   "outputs": [
    {
     "data": {
      "text/plain": [
       "0.0078125"
      ]
     },
     "execution_count": 9,
     "metadata": {},
     "output_type": "execute_result"
    }
   ],
   "source": [
    "1./128"
   ]
  },
  {
   "cell_type": "code",
   "execution_count": 10,
   "metadata": {
    "ExecuteTime": {
     "end_time": "2021-03-07T02:38:40.270088Z",
     "start_time": "2021-03-07T02:38:40.224313Z"
    }
   },
   "outputs": [
    {
     "data": {
      "text/html": [
       "<div>\n",
       "<style scoped>\n",
       "    .dataframe tbody tr th:only-of-type {\n",
       "        vertical-align: middle;\n",
       "    }\n",
       "\n",
       "    .dataframe tbody tr th {\n",
       "        vertical-align: top;\n",
       "    }\n",
       "\n",
       "    .dataframe thead th {\n",
       "        text-align: right;\n",
       "    }\n",
       "</style>\n",
       "<table border=\"1\" class=\"dataframe\">\n",
       "  <thead>\n",
       "    <tr style=\"text-align: right;\">\n",
       "      <th></th>\n",
       "      <th>texp</th>\n",
       "      <th>tres</th>\n",
       "      <th>n_bins</th>\n",
       "      <th>counts</th>\n",
       "      <th>count_rate</th>\n",
       "      <th>rms</th>\n",
       "      <th>frac_rms</th>\n",
       "      <th>min_time</th>\n",
       "      <th>max_time</th>\n",
       "      <th>min_en</th>\n",
       "      <th>max_en</th>\n",
       "      <th>mission</th>\n",
       "    </tr>\n",
       "  </thead>\n",
       "  <tbody>\n",
       "    <tr>\n",
       "      <th>0</th>\n",
       "      <td>542.015625</td>\n",
       "      <td>0.007812</td>\n",
       "      <td>69379</td>\n",
       "      <td>2465344</td>\n",
       "      <td>4548.474041</td>\n",
       "      <td>37.080222</td>\n",
       "      <td>0.298151</td>\n",
       "      <td>1.103041e+08</td>\n",
       "      <td>1.103046e+08</td>\n",
       "      <td>0.5</td>\n",
       "      <td>10.0</td>\n",
       "      <td>NICER</td>\n",
       "    </tr>\n",
       "    <tr>\n",
       "      <th>1</th>\n",
       "      <td>167.000000</td>\n",
       "      <td>0.007812</td>\n",
       "      <td>21377</td>\n",
       "      <td>773188</td>\n",
       "      <td>4629.868263</td>\n",
       "      <td>37.788594</td>\n",
       "      <td>0.302577</td>\n",
       "      <td>1.103054e+08</td>\n",
       "      <td>1.103055e+08</td>\n",
       "      <td>0.5</td>\n",
       "      <td>10.0</td>\n",
       "      <td>NICER</td>\n",
       "    </tr>\n",
       "    <tr>\n",
       "      <th>2</th>\n",
       "      <td>6.992188</td>\n",
       "      <td>0.007812</td>\n",
       "      <td>896</td>\n",
       "      <td>31045</td>\n",
       "      <td>4439.955307</td>\n",
       "      <td>35.675888</td>\n",
       "      <td>0.245329</td>\n",
       "      <td>1.103055e+08</td>\n",
       "      <td>1.103055e+08</td>\n",
       "      <td>0.5</td>\n",
       "      <td>10.0</td>\n",
       "      <td>NICER</td>\n",
       "    </tr>\n",
       "    <tr>\n",
       "      <th>3</th>\n",
       "      <td>3.000000</td>\n",
       "      <td>0.007812</td>\n",
       "      <td>385</td>\n",
       "      <td>14025</td>\n",
       "      <td>4675.000000</td>\n",
       "      <td>37.388484</td>\n",
       "      <td>0.231074</td>\n",
       "      <td>1.103055e+08</td>\n",
       "      <td>1.103055e+08</td>\n",
       "      <td>0.5</td>\n",
       "      <td>10.0</td>\n",
       "      <td>NICER</td>\n",
       "    </tr>\n",
       "  </tbody>\n",
       "</table>\n",
       "</div>"
      ],
      "text/plain": [
       "         texp      tres n_bins   counts   count_rate        rms  frac_rms  \\\n",
       "0  542.015625  0.007812  69379  2465344  4548.474041  37.080222  0.298151   \n",
       "1  167.000000  0.007812  21377   773188  4629.868263  37.788594  0.302577   \n",
       "2    6.992188  0.007812    896    31045  4439.955307  35.675888  0.245329   \n",
       "3    3.000000  0.007812    385    14025  4675.000000  37.388484  0.231074   \n",
       "\n",
       "       min_time      max_time  min_en  max_en mission  \n",
       "0  1.103041e+08  1.103046e+08     0.5    10.0   NICER  \n",
       "1  1.103054e+08  1.103055e+08     0.5    10.0   NICER  \n",
       "2  1.103055e+08  1.103055e+08     0.5    10.0   NICER  \n",
       "3  1.103055e+08  1.103055e+08     0.5    10.0   NICER  "
      ]
     },
     "execution_count": 10,
     "metadata": {},
     "output_type": "execute_result"
    }
   ],
   "source": [
    "lc_list.info()"
   ]
  },
  {
   "cell_type": "code",
   "execution_count": 11,
   "metadata": {
    "ExecuteTime": {
     "end_time": "2021-03-07T02:38:42.453112Z",
     "start_time": "2021-03-07T02:38:41.660518Z"
    }
   },
   "outputs": [
    {
     "name": "stderr",
     "output_type": "stream",
     "text": [
      "DEBUG: 2021-03-07 03:38:41,704: findfont: Matching :family=sans-serif:style=normal:variant=normal:weight=normal:stretch=normal:size=10.0.\n",
      "DEBUG: 2021-03-07 03:38:41,704: findfont: score(<Font 'DejaVu Sans Mono' (DejaVuSansMono.ttf) normal normal 400 normal>) = 10.05\n",
      "DEBUG: 2021-03-07 03:38:41,705: findfont: score(<Font 'DejaVu Sans Mono' (DejaVuSansMono-Oblique.ttf) oblique normal 400 normal>) = 11.05\n",
      "DEBUG: 2021-03-07 03:38:41,706: findfont: score(<Font 'STIXSizeThreeSym' (STIXSizThreeSymReg.ttf) normal normal regular normal>) = 10.05\n",
      "DEBUG: 2021-03-07 03:38:41,706: findfont: score(<Font 'STIXSizeFiveSym' (STIXSizFiveSymReg.ttf) normal normal regular normal>) = 10.05\n",
      "DEBUG: 2021-03-07 03:38:41,707: findfont: score(<Font 'DejaVu Sans' (DejaVuSans.ttf) normal normal 400 normal>) = 0.05\n",
      "DEBUG: 2021-03-07 03:38:41,707: findfont: score(<Font 'cmb10' (cmb10.ttf) normal normal 400 normal>) = 10.05\n",
      "DEBUG: 2021-03-07 03:38:41,708: findfont: score(<Font 'DejaVu Sans Mono' (DejaVuSansMono-Bold.ttf) normal normal 700 normal>) = 10.335\n",
      "DEBUG: 2021-03-07 03:38:41,709: findfont: score(<Font 'STIXGeneral' (STIXGeneralBolIta.ttf) italic normal 700 normal>) = 11.335\n",
      "DEBUG: 2021-03-07 03:38:41,709: findfont: score(<Font 'DejaVu Sans' (DejaVuSans-BoldOblique.ttf) oblique normal 700 normal>) = 1.335\n",
      "DEBUG: 2021-03-07 03:38:41,710: findfont: score(<Font 'DejaVu Sans Mono' (DejaVuSansMono-BoldOblique.ttf) oblique normal 700 normal>) = 11.335\n",
      "DEBUG: 2021-03-07 03:38:41,711: findfont: score(<Font 'STIXSizeTwoSym' (STIXSizTwoSymBol.ttf) normal normal 700 normal>) = 10.335\n",
      "DEBUG: 2021-03-07 03:38:41,711: findfont: score(<Font 'STIXGeneral' (STIXGeneralItalic.ttf) italic normal 400 normal>) = 11.05\n",
      "DEBUG: 2021-03-07 03:38:41,712: findfont: score(<Font 'STIXSizeThreeSym' (STIXSizThreeSymBol.ttf) normal normal 700 normal>) = 10.335\n",
      "DEBUG: 2021-03-07 03:38:41,713: findfont: score(<Font 'DejaVu Sans' (DejaVuSans-Bold.ttf) normal normal 700 normal>) = 0.33499999999999996\n",
      "DEBUG: 2021-03-07 03:38:41,713: findfont: score(<Font 'STIXSizeTwoSym' (STIXSizTwoSymReg.ttf) normal normal regular normal>) = 10.05\n",
      "DEBUG: 2021-03-07 03:38:41,714: findfont: score(<Font 'cmex10' (cmex10.ttf) normal normal 400 normal>) = 10.05\n",
      "DEBUG: 2021-03-07 03:38:41,714: findfont: score(<Font 'cmmi10' (cmmi10.ttf) normal normal 400 normal>) = 10.05\n",
      "DEBUG: 2021-03-07 03:38:41,715: findfont: score(<Font 'DejaVu Serif' (DejaVuSerif-Italic.ttf) italic normal 400 normal>) = 11.05\n",
      "DEBUG: 2021-03-07 03:38:41,715: findfont: score(<Font 'STIXNonUnicode' (STIXNonUni.ttf) normal normal regular normal>) = 10.05\n",
      "DEBUG: 2021-03-07 03:38:41,716: findfont: score(<Font 'STIXSizeOneSym' (STIXSizOneSymReg.ttf) normal normal regular normal>) = 10.05\n",
      "DEBUG: 2021-03-07 03:38:41,716: findfont: score(<Font 'DejaVu Sans' (DejaVuSans-Oblique.ttf) oblique normal 400 normal>) = 1.05\n",
      "DEBUG: 2021-03-07 03:38:41,717: findfont: score(<Font 'STIXGeneral' (STIXGeneral.ttf) normal normal regular normal>) = 10.05\n",
      "DEBUG: 2021-03-07 03:38:41,717: findfont: score(<Font 'cmss10' (cmss10.ttf) normal normal 400 normal>) = 10.05\n",
      "DEBUG: 2021-03-07 03:38:41,718: findfont: score(<Font 'STIXSizeOneSym' (STIXSizOneSymBol.ttf) normal normal 700 normal>) = 10.335\n",
      "DEBUG: 2021-03-07 03:38:41,719: findfont: score(<Font 'STIXNonUnicode' (STIXNonUniBolIta.ttf) italic normal 700 normal>) = 11.335\n",
      "DEBUG: 2021-03-07 03:38:41,720: findfont: score(<Font 'STIXSizeFourSym' (STIXSizFourSymReg.ttf) normal normal regular normal>) = 10.05\n",
      "DEBUG: 2021-03-07 03:38:41,720: findfont: score(<Font 'DejaVu Serif' (DejaVuSerif-BoldItalic.ttf) italic normal 700 normal>) = 11.335\n",
      "DEBUG: 2021-03-07 03:38:41,721: findfont: score(<Font 'DejaVu Serif Display' (DejaVuSerifDisplay.ttf) normal normal 400 normal>) = 10.05\n",
      "DEBUG: 2021-03-07 03:38:41,721: findfont: score(<Font 'DejaVu Serif' (DejaVuSerif.ttf) normal normal 400 normal>) = 10.05\n",
      "DEBUG: 2021-03-07 03:38:41,722: findfont: score(<Font 'cmtt10' (cmtt10.ttf) normal normal 400 normal>) = 10.05\n",
      "DEBUG: 2021-03-07 03:38:41,722: findfont: score(<Font 'STIXGeneral' (STIXGeneralBol.ttf) normal normal 700 normal>) = 10.335\n",
      "DEBUG: 2021-03-07 03:38:41,723: findfont: score(<Font 'STIXNonUnicode' (STIXNonUniIta.ttf) italic normal 400 normal>) = 11.05\n",
      "DEBUG: 2021-03-07 03:38:41,724: findfont: score(<Font 'DejaVu Sans Display' (DejaVuSansDisplay.ttf) normal normal 400 normal>) = 10.05\n",
      "DEBUG: 2021-03-07 03:38:41,724: findfont: score(<Font 'STIXSizeFourSym' (STIXSizFourSymBol.ttf) normal normal 700 normal>) = 10.335\n",
      "DEBUG: 2021-03-07 03:38:41,725: findfont: score(<Font 'cmsy10' (cmsy10.ttf) normal normal 400 normal>) = 10.05\n",
      "DEBUG: 2021-03-07 03:38:41,726: findfont: score(<Font 'DejaVu Serif' (DejaVuSerif-Bold.ttf) normal normal 700 normal>) = 10.335\n",
      "DEBUG: 2021-03-07 03:38:41,726: findfont: score(<Font 'STIXNonUnicode' (STIXNonUniBol.ttf) normal normal 700 normal>) = 10.335\n",
      "DEBUG: 2021-03-07 03:38:41,727: findfont: score(<Font 'cmr10' (cmr10.ttf) normal normal 400 normal>) = 10.05\n",
      "DEBUG: 2021-03-07 03:38:41,727: findfont: score(<Font 'Noto Sans Ol Chiki' (NotoSansOlChiki-Regular.ttf) normal normal regular normal>) = 10.05\n",
      "DEBUG: 2021-03-07 03:38:41,728: findfont: score(<Font 'Noto Sans Gothic' (NotoSansGothic-Regular.ttf) normal normal regular normal>) = 10.05\n",
      "DEBUG: 2021-03-07 03:38:41,729: findfont: score(<Font 'Noto Sans Buhid' (NotoSansBuhid-Regular.ttf) normal normal regular normal>) = 10.05\n",
      "DEBUG: 2021-03-07 03:38:41,729: findfont: score(<Font 'Nadeem' (Nadeem.ttc) normal normal regular normal>) = 10.05\n",
      "DEBUG: 2021-03-07 03:38:41,730: findfont: score(<Font 'Bangla MN' (Bangla MN.ttc) normal normal 400 normal>) = 10.05\n",
      "DEBUG: 2021-03-07 03:38:41,730: findfont: score(<Font 'Corsiva Hebrew' (Corsiva.ttc) normal normal 400 normal>) = 10.05\n",
      "DEBUG: 2021-03-07 03:38:41,731: findfont: score(<Font 'Georgia' (Georgia.ttf) normal normal 400 normal>) = 10.05\n",
      "DEBUG: 2021-03-07 03:38:41,731: findfont: score(<Font 'Noto Sans Imperial Aramaic' (NotoSansImperialAramaic-Regular.ttf) normal normal regular normal>) = 10.05\n",
      "DEBUG: 2021-03-07 03:38:41,732: findfont: score(<Font 'Noto Sans Buginese' (NotoSansBuginese-Regular.ttf) normal normal regular normal>) = 10.05\n",
      "DEBUG: 2021-03-07 03:38:41,733: findfont: score(<Font 'Noto Sans Old Turkic' (NotoSansOldTurkic-Regular.ttf) normal normal regular normal>) = 10.05\n",
      "DEBUG: 2021-03-07 03:38:41,734: findfont: score(<Font 'Georgia' (Georgia Bold.ttf) normal normal 700 normal>) = 10.335\n",
      "DEBUG: 2021-03-07 03:38:41,735: findfont: score(<Font 'STIXSizeOneSym' (STIXSizOneSymReg.otf) normal normal regular normal>) = 10.05\n",
      "DEBUG: 2021-03-07 03:38:41,735: findfont: score(<Font 'Noto Sans Tai Le' (NotoSansTaiLe-Regular.ttf) normal normal regular normal>) = 10.05\n",
      "DEBUG: 2021-03-07 03:38:41,736: findfont: score(<Font 'Herculanum' (Herculanum.ttf) normal normal 400 normal>) = 10.05\n",
      "DEBUG: 2021-03-07 03:38:41,737: findfont: score(<Font 'STIXNonUnicode' (STIXNonUniIta.otf) italic normal 400 normal>) = 11.05\n",
      "DEBUG: 2021-03-07 03:38:41,738: findfont: score(<Font 'Verdana' (Verdana Italic.ttf) italic normal 400 normal>) = 4.6863636363636365\n",
      "DEBUG: 2021-03-07 03:38:41,738: findfont: score(<Font 'Mshtakan' (Mshtakan.ttc) normal normal 400 normal>) = 10.05\n",
      "DEBUG: 2021-03-07 03:38:41,739: findfont: score(<Font 'Sana' (Sana.ttc) normal normal regular normal>) = 10.05\n",
      "DEBUG: 2021-03-07 03:38:41,740: findfont: score(<Font 'Devanagari MT' (DevanagariMT.ttc) normal normal 400 normal>) = 10.05\n",
      "DEBUG: 2021-03-07 03:38:41,741: findfont: score(<Font 'Noto Sans Brahmi' (NotoSansBrahmi-Regular.ttf) normal normal regular normal>) = 10.05\n",
      "DEBUG: 2021-03-07 03:38:41,742: findfont: score(<Font 'Chalkduster' (Chalkduster.ttf) normal normal 400 normal>) = 10.05\n",
      "DEBUG: 2021-03-07 03:38:41,743: findfont: score(<Font 'Kannada MN' (Kannada MN.ttc) normal normal 400 normal>) = 10.05\n",
      "DEBUG: 2021-03-07 03:38:41,743: findfont: score(<Font 'Sinhala MN' (Sinhala MN.ttc) normal normal 400 normal>) = 10.05\n",
      "DEBUG: 2021-03-07 03:38:41,744: findfont: score(<Font 'Kohinoor Devanagari' (Kohinoor.ttc) normal normal regular normal>) = 10.05\n",
      "DEBUG: 2021-03-07 03:38:41,745: findfont: score(<Font 'STIXSizeTwoSym' (STIXSizTwoSymBol.otf) normal normal 700 normal>) = 10.335\n"
     ]
    },
    {
     "name": "stderr",
     "output_type": "stream",
     "text": [
      "DEBUG: 2021-03-07 03:38:41,746: findfont: score(<Font 'Noto Sans Glagolitic' (NotoSansGlagolitic-Regular.ttf) normal normal regular normal>) = 10.05\n",
      "DEBUG: 2021-03-07 03:38:41,746: findfont: score(<Font 'Noto Sans Vai' (NotoSansVai-Regular.ttf) normal normal regular normal>) = 10.05\n",
      "DEBUG: 2021-03-07 03:38:41,747: findfont: score(<Font 'Hiragino Sans' (ヒラギノ角ゴシック W2.ttc) normal normal 400 normal>) = 10.05\n",
      "DEBUG: 2021-03-07 03:38:41,747: findfont: score(<Font 'Arial Unicode MS' (Arial Unicode.ttf) normal normal 400 normal>) = 10.05\n",
      "DEBUG: 2021-03-07 03:38:41,748: findfont: score(<Font 'Noto Sans Rejang' (NotoSansRejang-Regular.ttf) normal normal regular normal>) = 10.05\n",
      "DEBUG: 2021-03-07 03:38:41,748: findfont: score(<Font 'AppleMyungjo' (AppleMyungjo.ttf) normal normal regular normal>) = 10.05\n",
      "DEBUG: 2021-03-07 03:38:41,749: findfont: score(<Font '.SF Compact Text' (SFCompactTextItalic.ttf) italic normal 400 normal>) = 11.05\n",
      "DEBUG: 2021-03-07 03:38:41,749: findfont: score(<Font 'Hiragino Sans' (ヒラギノ角ゴシック W5.ttc) normal normal 700 normal>) = 10.335\n",
      "DEBUG: 2021-03-07 03:38:41,750: findfont: score(<Font 'Gujarati Sangam MN' (Gujarati Sangam MN.ttc) normal normal 400 normal>) = 10.05\n",
      "DEBUG: 2021-03-07 03:38:41,750: findfont: score(<Font 'STIXSizeThreeSym' (STIXSizThreeSymBol.otf) normal normal 700 normal>) = 10.335\n",
      "DEBUG: 2021-03-07 03:38:41,751: findfont: score(<Font 'Chalkboard SE' (ChalkboardSE.ttc) normal normal light normal>) = 10.24\n",
      "DEBUG: 2021-03-07 03:38:41,752: findfont: score(<Font 'Tamil Sangam MN' (Tamil Sangam MN.ttc) normal normal 400 normal>) = 10.05\n",
      "DEBUG: 2021-03-07 03:38:41,752: findfont: score(<Font '.Arabic UI Text' (ArabicUIText.ttc) normal normal regular normal>) = 10.05\n",
      "DEBUG: 2021-03-07 03:38:41,753: findfont: score(<Font 'Arial Narrow' (Arial Narrow Bold Italic.ttf) italic normal 700 condensed>) = 11.535\n",
      "DEBUG: 2021-03-07 03:38:41,753: findfont: score(<Font 'Noto Sans Phoenician' (NotoSansPhoenician-Regular.ttf) normal normal regular normal>) = 10.05\n",
      "DEBUG: 2021-03-07 03:38:41,754: findfont: score(<Font 'Plantagenet Cherokee' (PlantagenetCherokee.ttf) normal normal 400 normal>) = 10.05\n",
      "DEBUG: 2021-03-07 03:38:41,755: findfont: score(<Font 'Noto Sans Osmanya' (NotoSansOsmanya-Regular.ttf) normal normal regular normal>) = 10.05\n",
      "DEBUG: 2021-03-07 03:38:41,755: findfont: score(<Font 'Gurmukhi MT' (Gurmukhi.ttf) normal normal 400 normal>) = 10.05\n",
      "DEBUG: 2021-03-07 03:38:41,756: findfont: score(<Font 'DecoType Naskh' (DecoTypeNaskh.ttc) normal normal regular normal>) = 10.05\n",
      "DEBUG: 2021-03-07 03:38:41,756: findfont: score(<Font '.SF NS Display Condensed' (SFNSDisplayCondensed-Thin.otf) normal normal 400 condensed>) = 10.25\n",
      "DEBUG: 2021-03-07 03:38:41,757: findfont: score(<Font 'Noto Sans Oriya' (NotoSansOriya.ttc) normal normal 400 normal>) = 10.05\n",
      "DEBUG: 2021-03-07 03:38:41,758: findfont: score(<Font 'PT Mono' (PTMono.ttc) normal normal 700 normal>) = 10.335\n",
      "DEBUG: 2021-03-07 03:38:41,759: findfont: score(<Font 'STIXSizeFiveSym' (STIXSizFiveSymReg.otf) normal normal regular normal>) = 10.05\n",
      "DEBUG: 2021-03-07 03:38:41,759: findfont: score(<Font 'Noto Sans Lisu' (NotoSansLisu-Regular.ttf) normal normal regular normal>) = 10.05\n",
      "DEBUG: 2021-03-07 03:38:41,760: findfont: score(<Font 'Tahoma' (Tahoma Bold.ttf) normal normal 700 normal>) = 10.335\n",
      "DEBUG: 2021-03-07 03:38:41,761: findfont: score(<Font 'Noto Sans Inscriptional Pahlavi' (NotoSansInscriptionalPahlavi-Regular.ttf) normal normal regular normal>) = 10.05\n",
      "DEBUG: 2021-03-07 03:38:41,761: findfont: score(<Font 'Microsoft Sans Serif' (Microsoft Sans Serif.ttf) normal normal 400 normal>) = 10.05\n",
      "DEBUG: 2021-03-07 03:38:41,762: findfont: score(<Font 'Waseem' (Waseem.ttc) normal normal regular normal>) = 10.05\n",
      "DEBUG: 2021-03-07 03:38:41,763: findfont: score(<Font 'Oriya Sangam MN' (Oriya Sangam MN.ttc) normal normal 400 normal>) = 10.05\n",
      "DEBUG: 2021-03-07 03:38:41,764: findfont: score(<Font 'Diwan Kufi' (Diwan Kufi.ttc) normal normal regular normal>) = 10.05\n",
      "DEBUG: 2021-03-07 03:38:41,765: findfont: score(<Font 'Wingdings' (Wingdings.ttf) normal normal 400 normal>) = 10.05\n",
      "DEBUG: 2021-03-07 03:38:41,765: findfont: score(<Font 'Noto Sans Shavian' (NotoSansShavian-Regular.ttf) normal normal regular normal>) = 10.05\n",
      "DEBUG: 2021-03-07 03:38:41,766: findfont: score(<Font '.SF NS Mono' (SFNSMonoItalic.ttf) italic normal light normal>) = 11.24\n",
      "DEBUG: 2021-03-07 03:38:41,767: findfont: score(<Font 'KufiStandardGK' (KufiStandardGK.ttc) normal normal regular normal>) = 10.05\n",
      "DEBUG: 2021-03-07 03:38:41,768: findfont: score(<Font 'Avenir Next' (Avenir Next.ttc) normal normal 700 normal>) = 10.335\n",
      "DEBUG: 2021-03-07 03:38:41,769: findfont: score(<Font 'Superclarendon' (SuperClarendon.ttc) normal normal regular normal>) = 10.05\n",
      "DEBUG: 2021-03-07 03:38:41,769: findfont: score(<Font '.SF Compact Display' (SFCompactDisplay.ttf) normal normal 400 normal>) = 10.05\n",
      "DEBUG: 2021-03-07 03:38:41,770: findfont: score(<Font 'Myanmar Sangam MN' (Myanmar Sangam MN.ttc) normal normal 400 normal>) = 10.05\n",
      "DEBUG: 2021-03-07 03:38:41,770: findfont: score(<Font 'Noto Sans Tagalog' (NotoSansTagalog-Regular.ttf) normal normal regular normal>) = 10.05\n",
      "DEBUG: 2021-03-07 03:38:41,771: findfont: score(<Font 'STIXIntegralsUpSm' (STIXIntUpSmBol.otf) normal normal 700 normal>) = 10.335\n",
      "DEBUG: 2021-03-07 03:38:41,772: findfont: score(<Font '.SF NS Display Condensed' (SFNSDisplayCondensed-Regular.otf) normal normal regular condensed>) = 10.25\n",
      "DEBUG: 2021-03-07 03:38:41,772: findfont: score(<Font 'Kohinoor Bangla' (KohinoorBangla.ttc) normal normal 400 normal>) = 10.05\n",
      "DEBUG: 2021-03-07 03:38:41,773: findfont: score(<Font 'Noto Sans Runic' (NotoSansRunic-Regular.ttf) normal normal regular normal>) = 10.05\n",
      "DEBUG: 2021-03-07 03:38:41,774: findfont: score(<Font 'Avenir Next Condensed' (Avenir Next Condensed.ttc) normal normal 700 condensed>) = 10.535\n",
      "DEBUG: 2021-03-07 03:38:41,775: findfont: score(<Font 'Cochin' (Cochin.ttc) normal normal 400 normal>) = 10.05\n",
      "DEBUG: 2021-03-07 03:38:41,775: findfont: score(<Font 'Noto Sans Old South Arabian' (NotoSansOldSouthArabian-Regular.ttf) normal normal regular normal>) = 10.05\n",
      "DEBUG: 2021-03-07 03:38:41,776: findfont: score(<Font 'Optima' (Optima.ttc) normal normal regular normal>) = 10.05\n",
      "DEBUG: 2021-03-07 03:38:41,777: findfont: score(<Font 'Marker Felt' (MarkerFelt.ttc) normal normal 400 normal>) = 10.05\n",
      "DEBUG: 2021-03-07 03:38:41,777: findfont: score(<Font 'System Font' (SFNS.ttf) normal normal 400 normal>) = 10.05\n",
      "DEBUG: 2021-03-07 03:38:41,778: findfont: score(<Font 'Farah' (Farah.ttc) normal normal regular normal>) = 10.05\n",
      "DEBUG: 2021-03-07 03:38:41,779: findfont: score(<Font 'STIXIntegralsSm' (STIXIntSmReg.otf) normal normal regular normal>) = 10.05\n",
      "DEBUG: 2021-03-07 03:38:41,779: findfont: score(<Font 'Noto Sans Mandaic' (NotoSansMandaic-Regular.ttf) normal normal regular normal>) = 10.05\n",
      "DEBUG: 2021-03-07 03:38:41,780: findfont: score(<Font 'Sathu' (Sathu.ttf) normal normal 400 normal>) = 10.05\n",
      "DEBUG: 2021-03-07 03:38:41,781: findfont: score(<Font '.SF NS Text Condensed' (SFNSTextCondensed-Light.otf) normal normal light condensed>) = 10.44\n",
      "DEBUG: 2021-03-07 03:38:41,781: findfont: score(<Font 'STIXGeneral' (STIXGeneralBol.otf) normal normal 700 normal>) = 10.335\n",
      "DEBUG: 2021-03-07 03:38:41,782: findfont: score(<Font 'Verdana' (Verdana Bold.ttf) normal normal 700 normal>) = 3.9713636363636367\n",
      "DEBUG: 2021-03-07 03:38:41,783: findfont: score(<Font 'Arial Hebrew' (ArialHB.ttc) normal normal 400 normal>) = 10.05\n",
      "DEBUG: 2021-03-07 03:38:41,785: findfont: score(<Font 'Noto Sans Batak' (NotoSansBatak-Regular.ttf) normal normal regular normal>) = 10.05\n",
      "DEBUG: 2021-03-07 03:38:41,785: findfont: score(<Font 'Lao MN' (Lao MN.ttc) normal normal 400 normal>) = 10.05\n",
      "DEBUG: 2021-03-07 03:38:41,786: findfont: score(<Font 'Noto Sans Tagbanwa' (NotoSansTagbanwa-Regular.ttf) normal normal regular normal>) = 10.05\n",
      "DEBUG: 2021-03-07 03:38:41,787: findfont: score(<Font 'STIXIntegralsUpD' (STIXIntUpDBol.otf) normal normal 700 normal>) = 10.335\n",
      "DEBUG: 2021-03-07 03:38:41,788: findfont: score(<Font 'Silom' (Silom.ttf) normal normal 400 normal>) = 10.05\n",
      "DEBUG: 2021-03-07 03:38:41,788: findfont: score(<Font 'Webdings' (Webdings.ttf) normal normal 400 normal>) = 10.05\n"
     ]
    },
    {
     "name": "stderr",
     "output_type": "stream",
     "text": [
      "DEBUG: 2021-03-07 03:38:41,789: findfont: score(<Font 'STIXGeneral' (STIXGeneral.otf) normal normal regular normal>) = 10.05\n",
      "DEBUG: 2021-03-07 03:38:41,790: findfont: score(<Font 'Wingdings 3' (Wingdings 3.ttf) normal normal 400 normal>) = 10.05\n",
      "DEBUG: 2021-03-07 03:38:41,790: findfont: score(<Font 'Hiragino Maru Gothic Pro' (ヒラギノ丸ゴ ProN W4.ttc) normal normal 400 normal>) = 10.05\n",
      "DEBUG: 2021-03-07 03:38:41,791: findfont: score(<Font 'Noto Sans Lycian' (NotoSansLycian-Regular.ttf) normal normal regular normal>) = 10.05\n",
      "DEBUG: 2021-03-07 03:38:41,792: findfont: score(<Font 'Helvetica' (Helvetica.ttc) normal normal 400 normal>) = 7.322727272727273\n",
      "DEBUG: 2021-03-07 03:38:41,792: findfont: score(<Font 'Big Caslon' (BigCaslon.ttf) normal normal medium normal>) = 10.145\n",
      "DEBUG: 2021-03-07 03:38:41,793: findfont: score(<Font 'Mukta Mahee' (MuktaMahee.ttc) normal normal regular normal>) = 10.05\n",
      "DEBUG: 2021-03-07 03:38:41,793: findfont: score(<Font 'Zapf Dingbats' (ZapfDingbats.ttf) normal normal 400 normal>) = 10.05\n",
      "DEBUG: 2021-03-07 03:38:41,794: findfont: score(<Font 'Noto Sans Bamum' (NotoSansBamum-Regular.ttf) normal normal regular normal>) = 10.05\n",
      "DEBUG: 2021-03-07 03:38:41,795: findfont: score(<Font 'Times New Roman' (Times New Roman Bold Italic.ttf) italic normal 700 normal>) = 11.335\n",
      "DEBUG: 2021-03-07 03:38:41,795: findfont: score(<Font 'Helvetica Neue' (HelveticaNeue.ttc) normal normal 400 normal>) = 10.05\n",
      "DEBUG: 2021-03-07 03:38:41,796: findfont: score(<Font '.SF NS Display Condensed' (SFNSDisplayCondensed-Semibold.otf) normal normal semibold condensed>) = 10.44\n",
      "DEBUG: 2021-03-07 03:38:41,796: findfont: score(<Font 'Noto Sans Samaritan' (NotoSansSamaritan-Regular.ttf) normal normal regular normal>) = 10.05\n",
      "DEBUG: 2021-03-07 03:38:41,797: findfont: score(<Font 'Noteworthy' (Noteworthy.ttc) normal normal light normal>) = 10.24\n",
      "DEBUG: 2021-03-07 03:38:41,797: findfont: score(<Font 'Noto Sans Kannada' (NotoSansKannada.ttc) normal normal black normal>) = 10.525\n",
      "DEBUG: 2021-03-07 03:38:41,798: findfont: score(<Font 'Noto Sans Javanese' (NotoSansJavanese-Regular.otf) normal normal regular normal>) = 10.05\n",
      "DEBUG: 2021-03-07 03:38:41,798: findfont: score(<Font 'Noto Sans Kharoshthi' (NotoSansKharoshthi-Regular.ttf) normal normal regular normal>) = 10.05\n",
      "DEBUG: 2021-03-07 03:38:41,799: findfont: score(<Font 'Noto Sans Kayah Li' (NotoSansKayahLi-Regular.ttf) normal normal regular normal>) = 10.05\n",
      "DEBUG: 2021-03-07 03:38:41,799: findfont: score(<Font 'Palatino' (Palatino.ttc) normal normal 400 normal>) = 10.05\n",
      "DEBUG: 2021-03-07 03:38:41,800: findfont: score(<Font 'Times' (Times.ttc) normal normal roman normal>) = 10.145\n",
      "DEBUG: 2021-03-07 03:38:41,801: findfont: score(<Font 'Malayalam Sangam MN' (Malayalam Sangam MN.ttc) normal normal 400 normal>) = 10.05\n",
      "DEBUG: 2021-03-07 03:38:41,802: findfont: score(<Font 'Apple Braille' (Apple Braille Outline 6 Dot.ttf) normal normal 400 normal>) = 10.05\n",
      "DEBUG: 2021-03-07 03:38:41,803: findfont: score(<Font 'Telugu MN' (Telugu MN.ttc) normal normal 400 normal>) = 10.05\n",
      "DEBUG: 2021-03-07 03:38:41,803: findfont: score(<Font 'Andale Mono' (Andale Mono.ttf) normal normal 400 normal>) = 10.05\n",
      "DEBUG: 2021-03-07 03:38:41,804: findfont: score(<Font '.SF NS Display Condensed' (SFNSDisplayCondensed-Light.otf) normal normal light condensed>) = 10.44\n",
      "DEBUG: 2021-03-07 03:38:41,805: findfont: score(<Font 'STIXSizeThreeSym' (STIXSizThreeSymReg.otf) normal normal regular normal>) = 10.05\n",
      "DEBUG: 2021-03-07 03:38:41,806: findfont: score(<Font 'Snell Roundhand' (SnellRoundhand.ttc) normal normal 400 normal>) = 10.05\n",
      "DEBUG: 2021-03-07 03:38:41,807: findfont: score(<Font 'Noto Sans New Tai Lue' (NotoSansNewTaiLue-Regular.ttf) normal normal regular normal>) = 10.05\n",
      "DEBUG: 2021-03-07 03:38:41,808: findfont: score(<Font 'Courier New' (Courier New Italic.ttf) italic normal 400 normal>) = 11.05\n",
      "DEBUG: 2021-03-07 03:38:41,808: findfont: score(<Font 'Apple Braille' (Apple Braille.ttf) normal normal 400 normal>) = 10.05\n",
      "DEBUG: 2021-03-07 03:38:41,809: findfont: score(<Font 'Noto Sans Sundanese' (NotoSansSundanese-Regular.ttf) normal normal regular normal>) = 10.05\n",
      "DEBUG: 2021-03-07 03:38:41,810: findfont: score(<Font 'Comic Sans MS' (Comic Sans MS Bold.ttf) normal normal 700 normal>) = 10.335\n",
      "DEBUG: 2021-03-07 03:38:41,811: findfont: score(<Font 'SignPainter' (SignPainter.ttc) normal normal 400 normal>) = 10.05\n",
      "DEBUG: 2021-03-07 03:38:41,811: findfont: score(<Font 'Arial Narrow' (Arial Narrow Bold.ttf) normal normal 700 condensed>) = 10.535\n",
      "DEBUG: 2021-03-07 03:38:41,812: findfont: score(<Font '.SF NS Display Condensed' (SFNSDisplayCondensed-Black.otf) normal normal black condensed>) = 10.725\n",
      "DEBUG: 2021-03-07 03:38:41,813: findfont: score(<Font 'STIXSizeFourSym' (STIXSizFourSymBol.otf) normal normal 700 normal>) = 10.335\n",
      "DEBUG: 2021-03-07 03:38:41,814: findfont: score(<Font 'STIXNonUnicode' (STIXNonUniBol.otf) normal normal 700 normal>) = 10.335\n",
      "DEBUG: 2021-03-07 03:38:41,814: findfont: score(<Font 'Tahoma' (Tahoma.ttf) normal normal 400 normal>) = 10.05\n",
      "DEBUG: 2021-03-07 03:38:41,815: findfont: score(<Font 'Trebuchet MS' (Trebuchet MS Italic.ttf) italic normal 400 normal>) = 11.05\n",
      "DEBUG: 2021-03-07 03:38:41,816: findfont: score(<Font 'Noto Sans Meetei Mayek' (NotoSansMeeteiMayek-Regular.ttf) normal normal regular normal>) = 10.05\n",
      "DEBUG: 2021-03-07 03:38:41,817: findfont: score(<Font 'Telugu Sangam MN' (Telugu Sangam MN.ttc) normal normal 400 normal>) = 10.05\n",
      "DEBUG: 2021-03-07 03:38:41,817: findfont: score(<Font 'Courier New' (Courier New Bold Italic.ttf) italic normal 700 normal>) = 11.335\n",
      "DEBUG: 2021-03-07 03:38:41,818: findfont: score(<Font 'Skia' (Skia.ttf) normal normal 400 normal>) = 10.05\n",
      "DEBUG: 2021-03-07 03:38:41,819: findfont: score(<Font 'Bangla Sangam MN' (Bangla Sangam MN.ttc) normal normal 400 normal>) = 10.05\n",
      "DEBUG: 2021-03-07 03:38:41,820: findfont: score(<Font '.SF NS Text Condensed' (SFNSTextCondensed-Heavy.otf) normal normal heavy condensed>) = 10.629999999999999\n",
      "DEBUG: 2021-03-07 03:38:41,820: findfont: score(<Font 'Al Bayan' (AlBayan.ttc) normal normal 400 normal>) = 10.05\n",
      "DEBUG: 2021-03-07 03:38:41,821: findfont: score(<Font 'Iowan Old Style' (Iowan Old Style.ttc) normal normal roman normal>) = 10.145\n",
      "DEBUG: 2021-03-07 03:38:41,822: findfont: score(<Font 'Khmer MN' (Khmer MN.ttc) normal normal 400 normal>) = 10.05\n",
      "DEBUG: 2021-03-07 03:38:41,823: findfont: score(<Font 'PT Serif Caption' (PTSerifCaption.ttc) normal normal 400 normal>) = 10.05\n",
      "DEBUG: 2021-03-07 03:38:41,823: findfont: score(<Font 'Euphemia UCAS' (EuphemiaCAS.ttc) normal normal 400 normal>) = 10.05\n",
      "DEBUG: 2021-03-07 03:38:41,824: findfont: score(<Font 'Sukhumvit Set' (SukhumvitSet.ttc) normal normal 400 normal>) = 10.05\n",
      "DEBUG: 2021-03-07 03:38:41,825: findfont: score(<Font '.Keyboard' (Keyboard.ttf) normal normal 400 normal>) = 10.05\n",
      "DEBUG: 2021-03-07 03:38:41,825: findfont: score(<Font 'Avenir' (Avenir.ttc) normal normal book normal>) = 10.05\n",
      "DEBUG: 2021-03-07 03:38:41,826: findfont: score(<Font 'Gujarati MT' (GujaratiMT.ttc) normal normal 400 normal>) = 10.05\n",
      "DEBUG: 2021-03-07 03:38:41,827: findfont: score(<Font 'Times New Roman' (Times New Roman Italic.ttf) italic normal roman normal>) = 11.145\n",
      "DEBUG: 2021-03-07 03:38:41,827: findfont: score(<Font 'STIXIntegralsUpD' (STIXIntUpDReg.otf) normal normal regular normal>) = 10.05\n",
      "DEBUG: 2021-03-07 03:38:41,828: findfont: score(<Font 'Noto Sans Lydian' (NotoSansLydian-Regular.ttf) normal normal regular normal>) = 10.05\n",
      "DEBUG: 2021-03-07 03:38:41,829: findfont: score(<Font 'Diwan Thuluth' (Diwan Thuluth.ttf) normal normal regular normal>) = 10.05\n",
      "DEBUG: 2021-03-07 03:38:41,829: findfont: score(<Font '.SF NS Text Condensed' (SFNSTextCondensed-Regular.otf) normal normal regular condensed>) = 10.25\n",
      "DEBUG: 2021-03-07 03:38:41,830: findfont: score(<Font 'PT Serif' (PTSerif.ttc) normal normal 400 normal>) = 10.05\n",
      "DEBUG: 2021-03-07 03:38:41,831: findfont: score(<Font 'Kailasa' (Kailasa.ttc) normal normal regular normal>) = 10.05\n",
      "DEBUG: 2021-03-07 03:38:41,831: findfont: score(<Font 'Hiragino Sans GB' (Hiragino Sans GB.ttc) normal normal 400 normal>) = 10.05\n",
      "DEBUG: 2021-03-07 03:38:41,832: findfont: score(<Font 'Kohinoor Telugu' (KohinoorTelugu.ttc) normal normal 400 normal>) = 10.05\n"
     ]
    },
    {
     "name": "stderr",
     "output_type": "stream",
     "text": [
      "DEBUG: 2021-03-07 03:38:41,833: findfont: score(<Font '.SF Compact Text' (SFCompactText.ttf) normal normal 400 normal>) = 10.05\n",
      "DEBUG: 2021-03-07 03:38:41,833: findfont: score(<Font 'AppleGothic' (AppleGothic.ttf) normal normal regular normal>) = 10.05\n",
      "DEBUG: 2021-03-07 03:38:41,834: findfont: score(<Font 'Shree Devanagari 714' (Shree714.ttc) normal normal 400 normal>) = 10.05\n",
      "DEBUG: 2021-03-07 03:38:41,835: findfont: score(<Font 'Apple Braille' (Apple Braille Outline 8 Dot.ttf) normal normal 400 normal>) = 10.05\n",
      "DEBUG: 2021-03-07 03:38:41,836: findfont: score(<Font 'Gill Sans' (GillSans.ttc) normal normal 400 normal>) = 10.05\n",
      "DEBUG: 2021-03-07 03:38:41,836: findfont: score(<Font '.LastResort' (LastResort.otf) normal normal 400 normal>) = 10.05\n",
      "DEBUG: 2021-03-07 03:38:41,837: findfont: score(<Font 'Noto Sans Cuneiform' (NotoSansCuneiform-Regular.ttf) normal normal regular normal>) = 10.05\n",
      "DEBUG: 2021-03-07 03:38:41,838: findfont: score(<Font 'Apple Symbols' (Apple Symbols.ttf) normal normal 400 normal>) = 10.05\n",
      "DEBUG: 2021-03-07 03:38:41,838: findfont: score(<Font 'PingFang HK' (PingFang.ttc) normal normal regular normal>) = 10.05\n",
      "DEBUG: 2021-03-07 03:38:41,839: findfont: score(<Font 'Luminari' (Luminari.ttf) normal normal 400 normal>) = 10.05\n",
      "DEBUG: 2021-03-07 03:38:41,840: findfont: score(<Font 'Kokonor' (Kokonor.ttf) normal normal regular normal>) = 10.05\n",
      "DEBUG: 2021-03-07 03:38:41,840: findfont: score(<Font 'Noto Sans Coptic' (NotoSansCoptic-Regular.ttf) normal normal regular normal>) = 10.05\n",
      "DEBUG: 2021-03-07 03:38:41,841: findfont: score(<Font 'Arial' (Arial Bold Italic.ttf) italic normal 700 normal>) = 7.698636363636363\n",
      "DEBUG: 2021-03-07 03:38:41,841: findfont: score(<Font 'Krungthep' (Krungthep.ttf) normal normal 400 normal>) = 10.05\n",
      "DEBUG: 2021-03-07 03:38:41,842: findfont: score(<Font '.SF NS Display Condensed' (SFNSDisplayCondensed-Heavy.otf) normal normal heavy condensed>) = 10.629999999999999\n",
      "DEBUG: 2021-03-07 03:38:41,842: findfont: score(<Font 'Athelas' (Athelas.ttc) normal normal regular normal>) = 10.05\n",
      "DEBUG: 2021-03-07 03:38:41,843: findfont: score(<Font 'STIXIntegralsUp' (STIXIntUpReg.otf) normal normal regular normal>) = 10.05\n",
      "DEBUG: 2021-03-07 03:38:41,843: findfont: score(<Font 'Mishafi Gold' (Mishafi Gold.ttf) normal normal regular normal>) = 10.05\n",
      "DEBUG: 2021-03-07 03:38:41,844: findfont: score(<Font '.Arabic UI Display' (ArabicUIDisplay.ttc) normal normal black normal>) = 10.525\n",
      "DEBUG: 2021-03-07 03:38:41,845: findfont: score(<Font 'STIXVariants' (STIXVar.otf) normal normal regular normal>) = 10.05\n",
      "DEBUG: 2021-03-07 03:38:41,845: findfont: score(<Font 'Geeza Pro' (GeezaPro.ttc) normal normal regular normal>) = 10.05\n",
      "DEBUG: 2021-03-07 03:38:41,846: findfont: score(<Font 'New Peninim MT' (NewPeninimMT.ttc) normal normal 400 normal>) = 10.05\n",
      "DEBUG: 2021-03-07 03:38:41,846: findfont: score(<Font 'Noto Sans Thaana' (NotoSansThaana-Regular.ttf) normal normal regular normal>) = 10.05\n",
      "DEBUG: 2021-03-07 03:38:41,847: findfont: score(<Font 'Hiragino Sans' (ヒラギノ角ゴシック W3.ttc) normal normal 400 normal>) = 10.05\n",
      "DEBUG: 2021-03-07 03:38:41,847: findfont: score(<Font 'STIXVariants' (STIXVarBol.otf) normal normal 700 normal>) = 10.335\n",
      "DEBUG: 2021-03-07 03:38:41,848: findfont: score(<Font 'Beirut' (Beirut.ttc) normal normal regular normal>) = 10.05\n",
      "DEBUG: 2021-03-07 03:38:41,849: findfont: score(<Font '.SF NS Display Condensed' (SFNSDisplayCondensed-Bold.otf) normal normal bold condensed>) = 10.535\n",
      "DEBUG: 2021-03-07 03:38:41,849: findfont: score(<Font 'Trebuchet MS' (Trebuchet MS Bold Italic.ttf) italic normal 700 normal>) = 11.335\n",
      "DEBUG: 2021-03-07 03:38:41,850: findfont: score(<Font 'Hiragino Sans' (ヒラギノ角ゴシック W0.ttc) normal normal 400 normal>) = 10.05\n",
      "DEBUG: 2021-03-07 03:38:41,851: findfont: score(<Font 'Comic Sans MS' (Comic Sans MS.ttf) normal normal 400 normal>) = 10.05\n",
      "DEBUG: 2021-03-07 03:38:41,852: findfont: score(<Font 'Apple Braille' (Apple Braille Pinpoint 8 Dot.ttf) normal normal 400 normal>) = 10.05\n",
      "DEBUG: 2021-03-07 03:38:41,852: findfont: score(<Font 'Noto Sans Mongolian' (NotoSansMongolian-Regular.ttf) normal normal 400 normal>) = 10.05\n",
      "DEBUG: 2021-03-07 03:38:41,853: findfont: score(<Font 'Hiragino Mincho ProN' (ヒラギノ明朝 ProN.ttc) normal normal 400 normal>) = 10.05\n",
      "DEBUG: 2021-03-07 03:38:41,854: findfont: score(<Font 'American Typewriter' (AmericanTypewriter.ttc) normal normal 400 normal>) = 10.05\n",
      "DEBUG: 2021-03-07 03:38:41,855: findfont: score(<Font 'Noto Sans Linear B' (NotoSansLinearB-Regular.ttf) normal normal regular normal>) = 10.05\n",
      "DEBUG: 2021-03-07 03:38:41,855: findfont: score(<Font 'Hiragino Sans' (ヒラギノ角ゴシック W7.ttc) normal normal 700 normal>) = 10.335\n",
      "DEBUG: 2021-03-07 03:38:41,856: findfont: score(<Font '.SF NS Text Condensed' (SFNSTextCondensed-Bold.otf) normal normal bold condensed>) = 10.535\n",
      "DEBUG: 2021-03-07 03:38:41,857: findfont: score(<Font 'Noto Sans Syloti Nagri' (NotoSansSylotiNagri-Regular.ttf) normal normal regular normal>) = 10.05\n",
      "DEBUG: 2021-03-07 03:38:41,858: findfont: score(<Font 'Gurmukhi MN' (Gurmukhi MN.ttc) normal normal 400 normal>) = 10.05\n",
      "DEBUG: 2021-03-07 03:38:41,858: findfont: score(<Font 'Arial' (Arial.ttf) normal normal 400 normal>) = 6.413636363636363\n",
      "DEBUG: 2021-03-07 03:38:41,859: findfont: score(<Font 'Seravek' (Seravek.ttc) normal normal 400 normal>) = 10.05\n",
      "DEBUG: 2021-03-07 03:38:41,860: findfont: score(<Font 'Heiti TC' (STHeiti Light.ttc) normal normal light normal>) = 10.24\n",
      "DEBUG: 2021-03-07 03:38:41,860: findfont: score(<Font 'Noto Sans Kaithi' (NotoSansKaithi-Regular.ttf) normal normal regular normal>) = 10.05\n",
      "DEBUG: 2021-03-07 03:38:41,861: findfont: score(<Font 'Noto Sans Syriac' (NotoSansSyriac-Regular.ttf) normal normal regular normal>) = 10.05\n",
      "DEBUG: 2021-03-07 03:38:41,861: findfont: score(<Font 'Copperplate' (Copperplate.ttc) normal normal 400 normal>) = 10.05\n",
      "DEBUG: 2021-03-07 03:38:41,862: findfont: score(<Font 'STIXSizeOneSym' (STIXSizOneSymBol.otf) normal normal 700 normal>) = 10.335\n",
      "DEBUG: 2021-03-07 03:38:41,862: findfont: score(<Font '.Aqua Kana' (AquaKana.ttc) normal normal 400 normal>) = 10.05\n",
      "DEBUG: 2021-03-07 03:38:41,863: findfont: score(<Font 'Times New Roman' (Times New Roman Bold.ttf) normal normal 700 normal>) = 10.335\n",
      "DEBUG: 2021-03-07 03:38:41,863: findfont: score(<Font 'Brush Script MT' (Brush Script.ttf) italic normal 400 normal>) = 11.05\n",
      "DEBUG: 2021-03-07 03:38:41,864: findfont: score(<Font 'Bodoni 72 Oldstyle' (Bodoni 72 OS.ttc) normal normal book normal>) = 10.05\n",
      "DEBUG: 2021-03-07 03:38:41,864: findfont: score(<Font 'Noto Sans Carian' (NotoSansCarian-Regular.ttf) normal normal regular normal>) = 10.05\n",
      "DEBUG: 2021-03-07 03:38:41,865: findfont: score(<Font 'Symbol' (Symbol.ttf) normal normal 400 normal>) = 10.05\n",
      "DEBUG: 2021-03-07 03:38:41,865: findfont: score(<Font 'Bodoni 72 Smallcaps' (Bodoni 72 Smallcaps Book.ttf) normal normal book normal>) = 10.05\n",
      "DEBUG: 2021-03-07 03:38:41,866: findfont: score(<Font 'Courier New' (Courier New.ttf) normal normal 400 normal>) = 10.05\n",
      "DEBUG: 2021-03-07 03:38:41,867: findfont: score(<Font 'Impact' (Impact.ttf) normal normal 400 normal>) = 10.05\n",
      "DEBUG: 2021-03-07 03:38:41,867: findfont: score(<Font 'Papyrus' (Papyrus.ttc) normal normal 400 condensed>) = 10.25\n",
      "DEBUG: 2021-03-07 03:38:41,868: findfont: score(<Font 'STIXIntegralsD' (STIXIntDBol.otf) normal normal 700 normal>) = 10.335\n",
      "DEBUG: 2021-03-07 03:38:41,869: findfont: score(<Font 'Al Tarikh' (Al Tarikh.ttc) normal normal regular normal>) = 10.05\n",
      "DEBUG: 2021-03-07 03:38:41,869: findfont: score(<Font 'STIXIntegralsD' (STIXIntDReg.otf) normal normal regular normal>) = 10.05\n",
      "DEBUG: 2021-03-07 03:38:41,870: findfont: score(<Font 'Arial Rounded MT Bold' (Arial Rounded Bold.ttf) normal normal bold normal>) = 10.335\n",
      "DEBUG: 2021-03-07 03:38:41,871: findfont: score(<Font 'Apple SD Gothic Neo' (AppleSDGothicNeo.ttc) normal normal regular normal>) = 10.05\n",
      "DEBUG: 2021-03-07 03:38:41,871: findfont: score(<Font 'Trebuchet MS' (Trebuchet MS.ttf) normal normal 400 normal>) = 10.05\n",
      "DEBUG: 2021-03-07 03:38:41,872: findfont: score(<Font 'Tamil MN' (Tamil MN.ttc) normal normal 400 normal>) = 10.05\n",
      "DEBUG: 2021-03-07 03:38:41,873: findfont: score(<Font 'Noto Nastaliq Urdu' (NotoNastaliq.ttc) normal normal 400 normal>) = 10.05\n"
     ]
    },
    {
     "name": "stderr",
     "output_type": "stream",
     "text": [
      "DEBUG: 2021-03-07 03:38:41,873: findfont: score(<Font 'Kefa' (Kefa.ttc) normal normal regular normal>) = 10.05\n",
      "DEBUG: 2021-03-07 03:38:41,874: findfont: score(<Font 'Rockwell' (Rockwell.ttc) normal normal 400 normal>) = 10.05\n",
      "DEBUG: 2021-03-07 03:38:41,875: findfont: score(<Font 'Noto Sans NKo' (NotoSansNKo-Regular.ttf) normal normal regular normal>) = 10.05\n",
      "DEBUG: 2021-03-07 03:38:41,876: findfont: score(<Font 'Damascus' (Damascus.ttc) normal normal regular normal>) = 10.05\n",
      "DEBUG: 2021-03-07 03:38:41,876: findfont: score(<Font '.SF NS Mono' (SFNSMono.ttf) normal normal light normal>) = 10.24\n",
      "DEBUG: 2021-03-07 03:38:41,877: findfont: score(<Font 'Mishafi' (Mishafi.ttf) normal normal regular normal>) = 10.05\n",
      "DEBUG: 2021-03-07 03:38:41,877: findfont: score(<Font 'Arial Unicode MS' (Arial Unicode.ttf) normal normal 400 normal>) = 10.05\n",
      "DEBUG: 2021-03-07 03:38:41,878: findfont: score(<Font '.SF NS Text Condensed' (SFNSTextCondensed-Semibold.otf) normal normal semibold condensed>) = 10.44\n",
      "DEBUG: 2021-03-07 03:38:41,878: findfont: score(<Font 'Trattatello' (Trattatello.ttf) normal normal 400 normal>) = 10.05\n",
      "DEBUG: 2021-03-07 03:38:41,879: findfont: score(<Font 'Charter' (Charter.ttc) normal normal roman normal>) = 10.145\n",
      "DEBUG: 2021-03-07 03:38:41,879: findfont: score(<Font 'Baskerville' (Baskerville.ttc) normal normal 400 normal>) = 10.05\n",
      "DEBUG: 2021-03-07 03:38:41,880: findfont: score(<Font 'Georgia' (Georgia Bold Italic.ttf) italic normal 700 normal>) = 11.335\n",
      "DEBUG: 2021-03-07 03:38:41,880: findfont: score(<Font 'Noto Sans Cham' (NotoSansCham-Regular.ttf) normal normal regular normal>) = 10.05\n",
      "DEBUG: 2021-03-07 03:38:41,881: findfont: score(<Font '.New York' (NewYork.ttf) normal normal 400 normal>) = 10.05\n",
      "DEBUG: 2021-03-07 03:38:41,882: findfont: score(<Font 'Thonburi' (Thonburi.ttc) normal normal 400 normal>) = 10.05\n",
      "DEBUG: 2021-03-07 03:38:41,882: findfont: score(<Font 'Bodoni Ornaments' (Bodoni Ornaments.ttf) normal normal 400 normal>) = 10.05\n",
      "DEBUG: 2021-03-07 03:38:41,884: findfont: score(<Font '.SF NS Text Condensed' (SFNSTextCondensed-Medium.otf) normal normal medium condensed>) = 10.344999999999999\n",
      "DEBUG: 2021-03-07 03:38:41,886: findfont: score(<Font 'Wingdings 2' (Wingdings 2.ttf) normal normal 400 normal>) = 10.05\n",
      "DEBUG: 2021-03-07 03:38:41,887: findfont: score(<Font 'Noto Sans Lepcha' (NotoSansLepcha-Regular.ttf) normal normal regular normal>) = 10.05\n",
      "DEBUG: 2021-03-07 03:38:41,888: findfont: score(<Font 'Bradley Hand' (Bradley Hand Bold.ttf) normal normal bold normal>) = 10.335\n",
      "DEBUG: 2021-03-07 03:38:41,890: findfont: score(<Font 'Noto Sans Saurashtra' (NotoSansSaurashtra-Regular.ttf) normal normal regular normal>) = 10.05\n",
      "DEBUG: 2021-03-07 03:38:41,891: findfont: score(<Font 'Noto Sans Tai Viet' (NotoSansTaiViet-Regular.ttf) normal normal regular normal>) = 10.05\n",
      "DEBUG: 2021-03-07 03:38:41,892: findfont: score(<Font 'Georgia' (Georgia Italic.ttf) italic normal 400 normal>) = 11.05\n",
      "DEBUG: 2021-03-07 03:38:41,893: findfont: score(<Font 'Hoefler Text' (Hoefler Text Ornaments.ttf) normal normal 400 normal>) = 10.05\n",
      "DEBUG: 2021-03-07 03:38:41,894: findfont: score(<Font '.SF Compact Rounded' (SFCompactRounded.ttf) normal normal 400 normal>) = 10.05\n",
      "DEBUG: 2021-03-07 03:38:41,895: findfont: score(<Font 'Didot' (Didot.ttc) normal normal 400 normal>) = 10.05\n",
      "DEBUG: 2021-03-07 03:38:41,896: findfont: score(<Font 'Chalkboard' (Chalkboard.ttc) normal normal 400 normal>) = 10.05\n",
      "DEBUG: 2021-03-07 03:38:41,897: findfont: score(<Font 'Raanana' (Raanana.ttc) normal normal 400 normal>) = 10.05\n",
      "DEBUG: 2021-03-07 03:38:41,898: findfont: score(<Font 'System Font' (SFNSItalic.ttf) italic normal regular normal>) = 11.05\n",
      "DEBUG: 2021-03-07 03:38:41,898: findfont: score(<Font 'Noto Sans Myanmar' (NotoSansMyanmar.ttc) normal normal black normal>) = 10.525\n",
      "DEBUG: 2021-03-07 03:38:41,899: findfont: score(<Font 'ITF Devanagari' (ITFDevanagari.ttc) normal normal book normal>) = 10.05\n",
      "DEBUG: 2021-03-07 03:38:41,900: findfont: score(<Font 'Menlo' (Menlo.ttc) normal normal regular normal>) = 10.05\n",
      "DEBUG: 2021-03-07 03:38:41,901: findfont: score(<Font 'STIXGeneral' (STIXGeneralBolIta.otf) italic normal 700 normal>) = 11.335\n",
      "DEBUG: 2021-03-07 03:38:41,902: findfont: score(<Font 'STIXSizeTwoSym' (STIXSizTwoSymReg.otf) normal normal regular normal>) = 10.05\n",
      "DEBUG: 2021-03-07 03:38:41,903: findfont: score(<Font 'Myanmar MN' (Myanmar MN.ttc) normal normal 400 normal>) = 10.05\n",
      "DEBUG: 2021-03-07 03:38:41,904: findfont: score(<Font 'Noto Sans Limbu' (NotoSansLimbu-Regular.ttf) normal normal regular normal>) = 10.05\n",
      "DEBUG: 2021-03-07 03:38:41,905: findfont: score(<Font 'STIXNonUnicode' (STIXNonUniBolIta.otf) italic normal 700 normal>) = 11.335\n",
      "DEBUG: 2021-03-07 03:38:41,906: findfont: score(<Font 'Noto Sans Old Persian' (NotoSansOldPersian-Regular.ttf) normal normal regular normal>) = 10.05\n",
      "DEBUG: 2021-03-07 03:38:41,907: findfont: score(<Font 'Kohinoor Gujarati' (KohinoorGujarati.ttc) normal normal bold normal>) = 10.335\n",
      "DEBUG: 2021-03-07 03:38:41,907: findfont: score(<Font 'STIXSizeFourSym' (STIXSizFourSymReg.otf) normal normal regular normal>) = 10.05\n",
      "DEBUG: 2021-03-07 03:38:41,908: findfont: score(<Font 'Malayalam MN' (Malayalam MN.ttc) normal normal 400 normal>) = 10.05\n",
      "DEBUG: 2021-03-07 03:38:41,909: findfont: score(<Font 'Noto Sans Tifinagh' (NotoSansTifinagh-Regular.ttf) normal normal regular normal>) = 10.05\n",
      "DEBUG: 2021-03-07 03:38:41,909: findfont: score(<Font 'STIXIntegralsSm' (STIXIntSmBol.otf) normal normal 700 normal>) = 10.335\n",
      "DEBUG: 2021-03-07 03:38:41,910: findfont: score(<Font '.SF NS Display Condensed' (SFNSDisplayCondensed-Medium.otf) normal normal medium condensed>) = 10.344999999999999\n",
      "DEBUG: 2021-03-07 03:38:41,911: findfont: score(<Font 'Oriya MN' (Oriya MN.ttc) normal normal 400 normal>) = 10.05\n",
      "DEBUG: 2021-03-07 03:38:41,912: findfont: score(<Font 'Verdana' (Verdana Bold Italic.ttf) italic normal 700 normal>) = 4.971363636363637\n",
      "DEBUG: 2021-03-07 03:38:41,912: findfont: score(<Font 'DIN Condensed' (DIN Condensed Bold.ttf) normal normal 700 condensed>) = 10.535\n",
      "DEBUG: 2021-03-07 03:38:41,913: findfont: score(<Font '.SF NS Rounded' (SFNSRounded.ttf) normal normal 400 normal>) = 10.05\n",
      "DEBUG: 2021-03-07 03:38:41,914: findfont: score(<Font 'Noto Sans Cypriot' (NotoSansCypriot-Regular.ttf) normal normal regular normal>) = 10.05\n",
      "DEBUG: 2021-03-07 03:38:41,915: findfont: score(<Font 'Verdana' (Verdana.ttf) normal normal 400 normal>) = 3.6863636363636365\n",
      "DEBUG: 2021-03-07 03:38:41,916: findfont: score(<Font 'Arial Narrow' (Arial Narrow Italic.ttf) italic normal 400 condensed>) = 11.25\n",
      "DEBUG: 2021-03-07 03:38:41,917: findfont: score(<Font 'Arial Black' (Arial Black.ttf) normal normal black normal>) = 10.525\n",
      "DEBUG: 2021-03-07 03:38:41,918: findfont: score(<Font 'PT Sans' (PTSans.ttc) normal normal 400 normal>) = 10.05\n",
      "DEBUG: 2021-03-07 03:38:41,919: findfont: score(<Font 'Apple Braille' (Apple Braille Pinpoint 6 Dot.ttf) normal normal 400 normal>) = 10.05\n",
      "DEBUG: 2021-03-07 03:38:41,920: findfont: score(<Font 'Futura' (Futura.ttc) normal normal medium normal>) = 10.145\n",
      "DEBUG: 2021-03-07 03:38:41,920: findfont: score(<Font 'DIN Alternate' (DIN Alternate Bold.ttf) normal normal 700 normal>) = 10.335\n",
      "DEBUG: 2021-03-07 03:38:41,921: findfont: score(<Font 'Zapfino' (Zapfino.ttf) normal normal 400 normal>) = 10.05\n",
      "DEBUG: 2021-03-07 03:38:41,922: findfont: score(<Font 'Hiragino Sans' (ヒラギノ角ゴシック W6.ttc) normal normal 700 normal>) = 10.335\n",
      "DEBUG: 2021-03-07 03:38:41,922: findfont: score(<Font 'Hoefler Text' (Hoefler Text.ttc) normal normal 400 normal>) = 10.05\n",
      "DEBUG: 2021-03-07 03:38:41,923: findfont: score(<Font 'Hiragino Sans' (ヒラギノ角ゴシック W8.ttc) normal normal 700 normal>) = 10.335\n",
      "DEBUG: 2021-03-07 03:38:41,924: findfont: score(<Font 'Phosphate' (Phosphate.ttc) normal normal 400 normal>) = 10.05\n",
      "DEBUG: 2021-03-07 03:38:41,925: findfont: score(<Font 'Noto Sans Ugaritic' (NotoSansUgaritic-Regular.ttf) normal normal regular normal>) = 10.05\n",
      "DEBUG: 2021-03-07 03:38:41,925: findfont: score(<Font 'Galvji' (Galvji.ttc) normal normal 400 normal>) = 10.05\n",
      "DEBUG: 2021-03-07 03:38:41,926: findfont: score(<Font 'Noto Sans Inscriptional Parthian' (NotoSansInscriptionalParthian-Regular.ttf) normal normal regular normal>) = 10.05\n"
     ]
    },
    {
     "name": "stderr",
     "output_type": "stream",
     "text": [
      "DEBUG: 2021-03-07 03:38:41,927: findfont: score(<Font 'Kannada Sangam MN' (Kannada Sangam MN.ttc) normal normal 400 normal>) = 10.05\n",
      "DEBUG: 2021-03-07 03:38:41,927: findfont: score(<Font 'Times New Roman' (Times New Roman.ttf) normal normal roman normal>) = 10.145\n",
      "DEBUG: 2021-03-07 03:38:41,928: findfont: score(<Font 'STIXNonUnicode' (STIXNonUni.otf) normal normal regular normal>) = 10.05\n",
      "DEBUG: 2021-03-07 03:38:41,929: findfont: score(<Font 'Lao Sangam MN' (Lao Sangam MN.ttf) normal normal 400 normal>) = 10.05\n",
      "DEBUG: 2021-03-07 03:38:41,929: findfont: score(<Font 'Hiragino Sans' (ヒラギノ角ゴシック W4.ttc) normal normal 400 normal>) = 10.05\n",
      "DEBUG: 2021-03-07 03:38:41,930: findfont: score(<Font 'Gurmukhi Sangam MN' (Gurmukhi Sangam MN.ttc) normal normal 400 normal>) = 10.05\n",
      "DEBUG: 2021-03-07 03:38:41,931: findfont: score(<Font 'Trebuchet MS' (Trebuchet MS Bold.ttf) normal normal 700 normal>) = 10.335\n",
      "DEBUG: 2021-03-07 03:38:41,931: findfont: score(<Font 'Al Nile' (Al Nile.ttc) normal normal 400 normal>) = 10.05\n",
      "DEBUG: 2021-03-07 03:38:41,932: findfont: score(<Font '.SF NS Display Condensed' (SFNSDisplayCondensed-Ultralight.otf) normal normal ultralight condensed>) = 10.535\n",
      "DEBUG: 2021-03-07 03:38:41,933: findfont: score(<Font 'Noto Serif Myanmar' (NotoSerifMyanmar.ttc) normal normal black normal>) = 10.525\n",
      "DEBUG: 2021-03-07 03:38:41,934: findfont: score(<Font 'Noto Sans PhagsPa' (NotoSansPhagsPa-Regular.ttf) normal normal regular normal>) = 10.05\n",
      "DEBUG: 2021-03-07 03:38:41,935: findfont: score(<Font 'Noto Sans Tai Tham' (NotoSansTaiTham-Regular.ttf) normal normal 400 normal>) = 10.05\n",
      "DEBUG: 2021-03-07 03:38:41,936: findfont: score(<Font 'Lucida Grande' (LucidaGrande.ttc) normal normal 400 normal>) = 2.777272727272727\n",
      "DEBUG: 2021-03-07 03:38:41,937: findfont: score(<Font 'Apple Chancery' (Apple Chancery.ttf) normal normal 400 normal>) = 10.05\n",
      "DEBUG: 2021-03-07 03:38:41,938: findfont: score(<Font 'Arial' (Arial Italic.ttf) italic normal 400 normal>) = 7.413636363636363\n",
      "DEBUG: 2021-03-07 03:38:41,938: findfont: score(<Font 'Khmer Sangam MN' (Khmer Sangam MN.ttf) normal normal 400 normal>) = 10.05\n",
      "DEBUG: 2021-03-07 03:38:41,939: findfont: score(<Font 'Marion' (Marion.ttc) normal normal regular normal>) = 10.05\n",
      "DEBUG: 2021-03-07 03:38:41,940: findfont: score(<Font 'Bodoni 72' (Bodoni 72.ttc) normal normal book normal>) = 10.05\n",
      "DEBUG: 2021-03-07 03:38:41,941: findfont: score(<Font 'Sinhala Sangam MN' (Sinhala Sangam MN.ttc) normal normal 400 normal>) = 10.05\n",
      "DEBUG: 2021-03-07 03:38:41,941: findfont: score(<Font 'Songti SC' (Songti.ttc) normal normal black normal>) = 10.525\n",
      "DEBUG: 2021-03-07 03:38:41,942: findfont: score(<Font 'Muna' (Muna.ttc) normal normal regular normal>) = 10.05\n",
      "DEBUG: 2021-03-07 03:38:41,942: findfont: score(<Font 'Noto Sans Avestan' (NotoSansAvestan-Regular.ttf) normal normal regular normal>) = 10.05\n",
      "DEBUG: 2021-03-07 03:38:41,943: findfont: score(<Font 'Noto Sans Chakma' (NotoSansChakma-Regular.ttf) normal normal regular normal>) = 10.05\n",
      "DEBUG: 2021-03-07 03:38:41,944: findfont: score(<Font '.Helvetica Neue DeskInterface' (HelveticaNeueDeskInterface.ttc) normal normal regular normal>) = 10.05\n",
      "DEBUG: 2021-03-07 03:38:41,945: findfont: score(<Font 'Noto Sans Armenian' (NotoSansArmenian.ttc) normal normal black normal>) = 10.525\n",
      "DEBUG: 2021-03-07 03:38:41,951: findfont: score(<Font 'Noto Sans Yi' (NotoSansYi-Regular.ttf) normal normal regular normal>) = 10.05\n",
      "DEBUG: 2021-03-07 03:38:41,952: findfont: score(<Font 'Noto Sans Egyptian Hieroglyphs' (NotoSansEgyptianHieroglyphs-Regular.ttf) normal normal regular normal>) = 10.05\n",
      "DEBUG: 2021-03-07 03:38:41,953: findfont: score(<Font 'Farisi' (Farisi.ttf) normal normal regular normal>) = 10.05\n",
      "DEBUG: 2021-03-07 03:38:41,954: findfont: score(<Font 'Ayuthaya' (Ayuthaya.ttf) normal normal 400 normal>) = 10.05\n",
      "DEBUG: 2021-03-07 03:38:41,954: findfont: score(<Font 'Heiti TC' (STHeiti Medium.ttc) normal normal 700 normal>) = 10.335\n",
      "DEBUG: 2021-03-07 03:38:41,955: findfont: score(<Font 'Hiragino Sans' (ヒラギノ角ゴシック W9.ttc) normal normal 700 normal>) = 10.335\n",
      "DEBUG: 2021-03-07 03:38:41,956: findfont: score(<Font 'Noto Serif Balinese' (NotoSerifBalinese-Regular.ttf) normal normal regular normal>) = 10.05\n",
      "DEBUG: 2021-03-07 03:38:41,956: findfont: score(<Font 'Noto Sans Ogham' (NotoSansOgham-Regular.ttf) normal normal regular normal>) = 10.05\n",
      "DEBUG: 2021-03-07 03:38:41,957: findfont: score(<Font 'Hiragino Sans' (ヒラギノ角ゴシック W1.ttc) normal normal 400 normal>) = 10.05\n",
      "DEBUG: 2021-03-07 03:38:41,958: findfont: score(<Font 'STIXGeneral' (STIXGeneralItalic.otf) italic normal 400 normal>) = 11.05\n",
      "DEBUG: 2021-03-07 03:38:41,958: findfont: score(<Font 'Arial Narrow' (Arial Narrow.ttf) normal normal 400 condensed>) = 10.25\n",
      "DEBUG: 2021-03-07 03:38:41,959: findfont: score(<Font 'STIXIntegralsUp' (STIXIntUpBol.otf) normal normal 700 normal>) = 10.335\n",
      "DEBUG: 2021-03-07 03:38:41,959: findfont: score(<Font 'Arial' (Arial Bold.ttf) normal normal 700 normal>) = 6.698636363636363\n",
      "DEBUG: 2021-03-07 03:38:41,960: findfont: score(<Font 'Courier New' (Courier New Bold.ttf) normal normal 700 normal>) = 10.335\n",
      "DEBUG: 2021-03-07 03:38:41,960: findfont: score(<Font 'Baghdad' (Baghdad.ttc) normal normal regular normal>) = 10.05\n",
      "DEBUG: 2021-03-07 03:38:41,961: findfont: score(<Font 'Noto Sans Old Italic' (NotoSansOldItalic-Regular.ttf) italic normal regular normal>) = 11.05\n",
      "DEBUG: 2021-03-07 03:38:41,961: findfont: score(<Font '.New York' (NewYorkItalic.ttf) italic normal 400 normal>) = 11.05\n",
      "DEBUG: 2021-03-07 03:38:41,962: findfont: score(<Font 'Noto Sans Hanunoo' (NotoSansHanunoo-Regular.ttf) normal normal regular normal>) = 10.05\n",
      "DEBUG: 2021-03-07 03:38:41,962: findfont: score(<Font 'STIXIntegralsUpSm' (STIXIntUpSmReg.otf) normal normal regular normal>) = 10.05\n",
      "DEBUG: 2021-03-07 03:38:41,963: findfont: score(<Font 'InaiMathi' (InaiMathi-MN.ttc) normal normal 400 normal>) = 10.05\n",
      "DEBUG: 2021-03-07 03:38:41,964: findfont: score(<Font 'Devanagari Sangam MN' (Devanagari Sangam MN.ttc) normal normal 400 normal>) = 10.05\n",
      "DEBUG: 2021-03-07 03:38:41,965: findfont: score(<Font 'Savoye LET' (Savoye LET.ttc) normal normal 400 normal>) = 10.05\n",
      "DEBUG: 2021-03-07 03:38:41,965: findfont: Matching :family=sans-serif:style=normal:variant=normal:weight=normal:stretch=normal:size=10.0 to DejaVu Sans ('/Users/xizg0003/opt/anaconda3/lib/python3.7/site-packages/matplotlib/mpl-data/fonts/ttf/DejaVuSans.ttf') with score of 0.050000.\n"
     ]
    },
    {
     "data": {
      "image/png": "[encoded data removed]",
      "text/plain": [
       "<Figure size 864x576 with 1 Axes>"
      ]
     },
     "metadata": {
      "needs_background": "light"
     },
     "output_type": "display_data"
    }
   ],
   "source": [
    "lc_list.compare()"
   ]
  },
  {
   "cell_type": "code",
   "execution_count": 12,
   "metadata": {
    "ExecuteTime": {
     "end_time": "2021-03-07T02:38:43.809916Z",
     "start_time": "2021-03-07T02:38:43.803768Z"
    }
   },
   "outputs": [
    {
     "name": "stdout",
     "output_type": "stream",
     "text": [
      "0.0078125\n",
      "0.0078125\n",
      "0.0078125\n",
      "0.0078125\n"
     ]
    }
   ],
   "source": [
    "for lc in lc_list: print(lc.tres)"
   ]
  },
  {
   "cell_type": "code",
   "execution_count": 13,
   "metadata": {
    "ExecuteTime": {
     "end_time": "2021-03-07T02:38:45.519802Z",
     "start_time": "2021-03-07T02:38:45.516302Z"
    }
   },
   "outputs": [],
   "source": [
    "gti = kr.Gti.load(gti_file)"
   ]
  },
  {
   "cell_type": "code",
   "execution_count": 14,
   "metadata": {
    "ExecuteTime": {
     "end_time": "2021-03-07T02:38:47.336451Z",
     "start_time": "2021-03-07T02:38:47.329454Z"
    }
   },
   "outputs": [
    {
     "data": {
      "text/html": [
       "<div>\n",
       "<style scoped>\n",
       "    .dataframe tbody tr th:only-of-type {\n",
       "        vertical-align: middle;\n",
       "    }\n",
       "\n",
       "    .dataframe tbody tr th {\n",
       "        vertical-align: top;\n",
       "    }\n",
       "\n",
       "    .dataframe thead th {\n",
       "        text-align: right;\n",
       "    }\n",
       "</style>\n",
       "<table border=\"1\" class=\"dataframe\">\n",
       "  <thead>\n",
       "    <tr style=\"text-align: right;\">\n",
       "      <th></th>\n",
       "      <th>start</th>\n",
       "      <th>stop</th>\n",
       "      <th>dur</th>\n",
       "      <th>gap</th>\n",
       "    </tr>\n",
       "  </thead>\n",
       "  <tbody>\n",
       "    <tr>\n",
       "      <th>0</th>\n",
       "      <td>1.103041e+08</td>\n",
       "      <td>1.103046e+08</td>\n",
       "      <td>542.020630</td>\n",
       "      <td>0.000000</td>\n",
       "    </tr>\n",
       "    <tr>\n",
       "      <th>1</th>\n",
       "      <td>1.103054e+08</td>\n",
       "      <td>1.103055e+08</td>\n",
       "      <td>167.002966</td>\n",
       "      <td>740.018695</td>\n",
       "    </tr>\n",
       "    <tr>\n",
       "      <th>2</th>\n",
       "      <td>1.103055e+08</td>\n",
       "      <td>1.103055e+08</td>\n",
       "      <td>7.000117</td>\n",
       "      <td>2.000034</td>\n",
       "    </tr>\n",
       "    <tr>\n",
       "      <th>3</th>\n",
       "      <td>1.103055e+08</td>\n",
       "      <td>1.103055e+08</td>\n",
       "      <td>3.000050</td>\n",
       "      <td>2.000033</td>\n",
       "    </tr>\n",
       "  </tbody>\n",
       "</table>\n",
       "</div>"
      ],
      "text/plain": [
       "          start          stop         dur         gap\n",
       "0  1.103041e+08  1.103046e+08  542.020630    0.000000\n",
       "1  1.103054e+08  1.103055e+08  167.002966  740.018695\n",
       "2  1.103055e+08  1.103055e+08    7.000117    2.000034\n",
       "3  1.103055e+08  1.103055e+08    3.000050    2.000033"
      ]
     },
     "execution_count": 14,
     "metadata": {},
     "output_type": "execute_result"
    }
   ],
   "source": [
    "gti"
   ]
  },
  {
   "cell_type": "code",
   "execution_count": 15,
   "metadata": {
    "ExecuteTime": {
     "end_time": "2021-03-07T02:38:49.120556Z",
     "start_time": "2021-03-07T02:38:49.114597Z"
    }
   },
   "outputs": [
    {
     "name": "stdout",
     "output_type": "stream",
     "text": [
      "LC_CRE_MODE: Lightcurve computed from EventList object\n",
      "EVT_FILE_NAME: ni0100320101_0mpu7_cl_bc_bdc.evt.gz\n",
      "DIR: /Volumes/Seagate/NICER_data/Cygnus_X1/0100320101/xti/event_cl\n",
      "MISSION: NICER\n",
      "INFO_FROM_HEADER:\n",
      "--- OBJECT: Cyg_X-1\n",
      "--- TELESCOP: NICER\n",
      "--- INSTRUME: XTI\n",
      "--- OBS_ID: 0100320101\n",
      "--- RA_OBJ: 299.5922\n",
      "--- DEC_OBJ: 35.20114\n",
      "--- CREATOR: axBary - 2.14\n",
      "--- DATE: 2020-10-18T23:55:17\n",
      "--- SOFTVER: Hea_10Oct2017_V6.22.1_NICER_2018-03-01_V003\n",
      "--- CALDBVER: xti20180226\n",
      "--- GCALFILE: nixtiflightpi20170601v006.fits\n",
      "--- DATE-OBS: 2017-06-30T16:02:31\n",
      "--- DATE-END: 2017-06-30T16:26:54\n",
      "--- TSTART: 110304084.671758\n",
      "--- TSTOP: 110305547.714284\n",
      "--- MJDREF: None\n",
      "--- MJDREFI: 56658\n",
      "--- MJDREFF: 0.000777592592592593\n",
      "--- TIMEZERO: 0.0\n",
      "--- LEAPINIT: 2\n",
      "--- CLOCKAPP: True\n",
      "--- ONTIME: 719\n",
      "--- EXPOSURE: 719\n",
      "--- NAXIS2: 3308165\n",
      "--- TIMESYS: TDB\n",
      "N_GTIS: 4\n",
      "GTI_INDEX: 0\n",
      "N_ACT_DET: 50\n",
      "INACT_DET_LIST: [11, 14, 20, 22, 34, 60]\n",
      "LC_CRE_DATE: 2021-3-7,2:38:17\n",
      "------------------------------------------------------------------------\n",
      "LC_CRE_MODE: Lightcurve computed from EventList object\n",
      "EVT_FILE_NAME: ni0100320101_0mpu7_cl_bc_bdc.evt.gz\n",
      "DIR: /Volumes/Seagate/NICER_data/Cygnus_X1/0100320101/xti/event_cl\n",
      "MISSION: NICER\n",
      "INFO_FROM_HEADER:\n",
      "--- OBJECT: Cyg_X-1\n",
      "--- TELESCOP: NICER\n",
      "--- INSTRUME: XTI\n",
      "--- OBS_ID: 0100320101\n",
      "--- RA_OBJ: 299.5922\n",
      "--- DEC_OBJ: 35.20114\n",
      "--- CREATOR: axBary - 2.14\n",
      "--- DATE: 2020-10-18T23:55:17\n",
      "--- SOFTVER: Hea_10Oct2017_V6.22.1_NICER_2018-03-01_V003\n",
      "--- CALDBVER: xti20180226\n",
      "--- GCALFILE: nixtiflightpi20170601v006.fits\n",
      "--- DATE-OBS: 2017-06-30T16:02:31\n",
      "--- DATE-END: 2017-06-30T16:26:54\n",
      "--- TSTART: 110304084.671758\n",
      "--- TSTOP: 110305547.714284\n",
      "--- MJDREF: None\n",
      "--- MJDREFI: 56658\n",
      "--- MJDREFF: 0.000777592592592593\n",
      "--- TIMEZERO: 0.0\n",
      "--- LEAPINIT: 2\n",
      "--- CLOCKAPP: True\n",
      "--- ONTIME: 719\n",
      "--- EXPOSURE: 719\n",
      "--- NAXIS2: 3308165\n",
      "--- TIMESYS: TDB\n",
      "N_GTIS: 4\n",
      "GTI_INDEX: 1\n",
      "N_ACT_DET: 50\n",
      "INACT_DET_LIST: [11, 14, 20, 22, 34, 60]\n",
      "LC_CRE_DATE: 2021-3-7,2:38:17\n",
      "------------------------------------------------------------------------\n",
      "LC_CRE_MODE: Lightcurve computed from EventList object\n",
      "EVT_FILE_NAME: ni0100320101_0mpu7_cl_bc_bdc.evt.gz\n",
      "DIR: /Volumes/Seagate/NICER_data/Cygnus_X1/0100320101/xti/event_cl\n",
      "MISSION: NICER\n",
      "INFO_FROM_HEADER:\n",
      "--- OBJECT: Cyg_X-1\n",
      "--- TELESCOP: NICER\n",
      "--- INSTRUME: XTI\n",
      "--- OBS_ID: 0100320101\n",
      "--- RA_OBJ: 299.5922\n",
      "--- DEC_OBJ: 35.20114\n",
      "--- CREATOR: axBary - 2.14\n",
      "--- DATE: 2020-10-18T23:55:17\n",
      "--- SOFTVER: Hea_10Oct2017_V6.22.1_NICER_2018-03-01_V003\n",
      "--- CALDBVER: xti20180226\n",
      "--- GCALFILE: nixtiflightpi20170601v006.fits\n",
      "--- DATE-OBS: 2017-06-30T16:02:31\n",
      "--- DATE-END: 2017-06-30T16:26:54\n",
      "--- TSTART: 110304084.671758\n",
      "--- TSTOP: 110305547.714284\n",
      "--- MJDREF: None\n",
      "--- MJDREFI: 56658\n",
      "--- MJDREFF: 0.000777592592592593\n",
      "--- TIMEZERO: 0.0\n",
      "--- LEAPINIT: 2\n",
      "--- CLOCKAPP: True\n",
      "--- ONTIME: 719\n",
      "--- EXPOSURE: 719\n",
      "--- NAXIS2: 3308165\n",
      "--- TIMESYS: TDB\n",
      "N_GTIS: 4\n",
      "GTI_INDEX: 2\n",
      "N_ACT_DET: 50\n",
      "INACT_DET_LIST: [11, 14, 20, 22, 34, 60]\n",
      "LC_CRE_DATE: 2021-3-7,2:38:17\n",
      "------------------------------------------------------------------------\n",
      "LC_CRE_MODE: Lightcurve computed from EventList object\n",
      "EVT_FILE_NAME: ni0100320101_0mpu7_cl_bc_bdc.evt.gz\n",
      "DIR: /Volumes/Seagate/NICER_data/Cygnus_X1/0100320101/xti/event_cl\n",
      "MISSION: NICER\n",
      "INFO_FROM_HEADER:\n",
      "--- OBJECT: Cyg_X-1\n",
      "--- TELESCOP: NICER\n",
      "--- INSTRUME: XTI\n",
      "--- OBS_ID: 0100320101\n",
      "--- RA_OBJ: 299.5922\n",
      "--- DEC_OBJ: 35.20114\n",
      "--- CREATOR: axBary - 2.14\n",
      "--- DATE: 2020-10-18T23:55:17\n",
      "--- SOFTVER: Hea_10Oct2017_V6.22.1_NICER_2018-03-01_V003\n",
      "--- CALDBVER: xti20180226\n",
      "--- GCALFILE: nixtiflightpi20170601v006.fits\n",
      "--- DATE-OBS: 2017-06-30T16:02:31\n",
      "--- DATE-END: 2017-06-30T16:26:54\n",
      "--- TSTART: 110304084.671758\n",
      "--- TSTOP: 110305547.714284\n",
      "--- MJDREF: None\n",
      "--- MJDREFI: 56658\n",
      "--- MJDREFF: 0.000777592592592593\n",
      "--- TIMEZERO: 0.0\n",
      "--- LEAPINIT: 2\n",
      "--- CLOCKAPP: True\n",
      "--- ONTIME: 719\n",
      "--- EXPOSURE: 719\n",
      "--- NAXIS2: 3308165\n",
      "--- TIMESYS: TDB\n",
      "N_GTIS: 4\n",
      "GTI_INDEX: 3\n",
      "N_ACT_DET: 50\n",
      "INACT_DET_LIST: [11, 14, 20, 22, 34, 60]\n",
      "LC_CRE_DATE: 2021-3-7,2:38:17\n",
      "------------------------------------------------------------------------\n"
     ]
    }
   ],
   "source": [
    "for lc in lc_list:\n",
    "    kr.print_meta_data(lc)\n",
    "    print('-'*72)"
   ]
  },
  {
   "cell_type": "code",
   "execution_count": 16,
   "metadata": {
    "ExecuteTime": {
     "end_time": "2021-03-07T02:38:50.895709Z",
     "start_time": "2021-03-07T02:38:50.891960Z"
    }
   },
   "outputs": [
    {
     "data": {
      "text/plain": [
       "0.0078125"
      ]
     },
     "execution_count": 16,
     "metadata": {},
     "output_type": "execute_result"
    }
   ],
   "source": [
    "1./128"
   ]
  },
  {
   "cell_type": "code",
   "execution_count": 17,
   "metadata": {
    "ExecuteTime": {
     "end_time": "2021-03-07T02:38:52.844385Z",
     "start_time": "2021-03-07T02:38:52.833782Z"
    }
   },
   "outputs": [
    {
     "name": "stdout",
     "output_type": "stream",
     "text": [
      "n_bins 10.0\n",
      "edges -0.5 10.5\n",
      "first and last bin 0.0 10.0\n",
      "11\n",
      "bins diff 1.0 1.0\n",
      "tres from median 1.0\n",
      "duration 10.0\n",
      "------------------------------------------------------------------------\n",
      "n_bins 10.0\n",
      "edges -0.5 10.5\n",
      "first and last bin 0.0 10.0\n",
      "11\n",
      "bins diff 1.0 1.0\n",
      "tres from median 1.0\n",
      "duration 10.0\n",
      "------------------------------------------------------------------------\n",
      "n_bins 10.0\n",
      "edges -0.5 10.5\n",
      "first and last bin 0.0 10.0\n",
      "11\n",
      "bins diff 1.0 1.0\n",
      "tres from median 1.0\n",
      "duration 10.0\n",
      "------------------------------------------------------------------------\n",
      "n_bins 10.0\n",
      "edges -0.5 10.5\n",
      "first and last bin 0.0 10.0\n",
      "11\n",
      "bins diff 1.0 1.0\n",
      "tres from median 1.0\n",
      "duration 10.0\n",
      "------------------------------------------------------------------------\n"
     ]
    }
   ],
   "source": [
    "time_res = 1.\n",
    "for local_user_dur,local_user_start_time in \\\n",
    "    zip([10 for i in range(len(gti))],[0 for i in range(len(gti))]):\n",
    "    print('n_bins',local_user_dur/time_res)\n",
    "    n_bins = int(local_user_dur/time_res)\n",
    "\n",
    "    start_time = local_user_start_time\n",
    "    stop_time = start_time + n_bins*time_res\n",
    "\n",
    "    # In this way the resolution is exactly the one specified by the user\n",
    "    time_bins_edges = np.linspace(start_time-time_res/2.,stop_time+time_res/2.,n_bins+2,dtype=np.double)\n",
    "    print('edges',time_bins_edges[0],time_bins_edges[-1])\n",
    "    time_bins_center = np.linspace(start_time,stop_time,n_bins+1,dtype=np.double)\n",
    "    print('first and last bin',time_bins_center[0],time_bins_center[-1])\n",
    "    print(len(time_bins_center))\n",
    "\n",
    "    print('bins diff',time_bins_center[1]-time_bins_center[0],time_bins_center[-3]-time_bins_center[-4])\n",
    "    tres = np.median(np.ediff1d(time_bins_center))\n",
    "    tres = np.round(tres,int(abs(math.log10(tres/1e+9))))\n",
    "\n",
    "    print('tres from median',tres)\n",
    "    print('duration',tres*(len(time_bins_center))-1)\n",
    "    print('-'*72)"
   ]
  },
  {
   "cell_type": "code",
   "execution_count": 18,
   "metadata": {
    "ExecuteTime": {
     "end_time": "2021-03-07T02:38:54.695937Z",
     "start_time": "2021-03-07T02:38:54.689554Z"
    }
   },
   "outputs": [
    {
     "name": "stdout",
     "output_type": "stream",
     "text": [
      "[-0.5         0.40909091  1.31818182  2.22727273  3.13636364  4.04545455\n",
      "  4.95454545  5.86363636  6.77272727  7.68181818  8.59090909  9.5       ]\n",
      "[0.  0.9 1.8 2.7 3.6 4.5 5.4 6.3 7.2 8.1 9. ]\n",
      "0.9\n"
     ]
    }
   ],
   "source": [
    "time_res=1.0\n",
    "n_bins = 10\n",
    "time = np.linspace(0,9,n_bins+1)\n",
    "time_edges = np.linspace(0-time_res/2,9+time_res/2.,n_bins+2)\n",
    "print(time_edges)\n",
    "print(time)\n",
    "tres = np.median(np.ediff1d(time))\n",
    "tres = np.round(tres,int(abs(math.log10(time_res/1e+9))))\n",
    "print(tres)"
   ]
  },
  {
   "cell_type": "code",
   "execution_count": null,
   "metadata": {},
   "outputs": [],
   "source": []
  }
 ],
 "metadata": {
  "hide_input": false,
  "kernelspec": {
   "display_name": "Python 3",
   "language": "python",
   "name": "python3"
  },
  "language_info": {
   "codemirror_mode": {
    "name": "ipython",
    "version": 3
   },
   "file_extension": ".py",
   "mimetype": "text/x-python",
   "name": "python",
   "nbconvert_exporter": "python",
   "pygments_lexer": "ipython3",
   "version": "3.7.6"
  },
  "toc": {
   "base_numbering": 1,
   "nav_menu": {},
   "number_sections": true,
   "sideBar": true,
   "skip_h1_title": false,
   "title_cell": "Table of Contents",
   "title_sidebar": "Contents",
   "toc_cell": false,
   "toc_position": {},
   "toc_section_display": true,
   "toc_window_display": false
  },
  "varInspector": {
   "cols": {
    "lenName": 16,
    "lenType": 16,
    "lenVar": 40
   },
   "kernels_config": {
    "python": {
     "delete_cmd_postfix": "",
     "delete_cmd_prefix": "del ",
     "library": "var_list.py",
     "varRefreshCmd": "print(var_dic_list())"
    },
    "r": {
     "delete_cmd_postfix": ") ",
     "delete_cmd_prefix": "rm(",
     "library": "var_list.r",
     "varRefreshCmd": "cat(var_dic_list()) "
    }
   },
   "types_to_exclude": [
    "module",
    "function",
    "builtin_function_or_method",
    "instance",
    "_Feature"
   ],
   "window_display": false
  }
 },
 "nbformat": 4,
 "nbformat_minor": 4
}
