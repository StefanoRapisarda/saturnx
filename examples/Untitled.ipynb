{
 "cells": [
  {
   "cell_type": "code",
   "execution_count": 1,
   "metadata": {
    "ExecuteTime": {
     "end_time": "2020-11-06T02:39:30.166216Z",
     "start_time": "2020-11-06T02:39:29.371221Z"
    }
   },
   "outputs": [],
   "source": [
    "import sys\n",
    "sys.path.append('/Volumes/Samsung_T5/kronos/')\n",
    "import kronos as kr"
   ]
  },
  {
   "cell_type": "code",
   "execution_count": 2,
   "metadata": {
    "ExecuteTime": {
     "end_time": "2020-11-06T02:39:30.255725Z",
     "start_time": "2020-11-06T02:39:30.253451Z"
    }
   },
   "outputs": [],
   "source": [
    "event_file = '/Volumes/Seagate/NICER_data/Cygnus_X1/0100320101/xti/event_cl/ni0100320101_0mpu7_cl_bc_bdc.evt.gz'"
   ]
  },
  {
   "cell_type": "code",
   "execution_count": 3,
   "metadata": {
    "ExecuteTime": {
     "end_time": "2020-11-06T02:39:30.501316Z",
     "start_time": "2020-11-06T02:39:30.499004Z"
    }
   },
   "outputs": [],
   "source": [
    "output_dir = '/Volumes/Transcend/NICER/Cyg_X1'"
   ]
  },
  {
   "cell_type": "code",
   "execution_count": 4,
   "metadata": {
    "ExecuteTime": {
     "end_time": "2020-11-06T02:39:36.965018Z",
     "start_time": "2020-11-06T02:39:31.180273Z"
    }
   },
   "outputs": [
    {
     "name": "stderr",
     "output_type": "stream",
     "text": [
      "INFO: 2020-11-06 03:39:31,182: Creating log folder...\n",
      "INFO: 2020-11-06 03:39:31,185: Creating analysis folder...\n",
      "INFO: 2020-11-06 03:39:31,186: Reducing NICER data\n",
      "INFO: 2020-11-06 03:39:31,187: Creating obs_ID folder...\n",
      "INFO: 2020-11-06 03:39:31,187: \n",
      "INFO: 2020-11-06 03:39:31,188: Obs ID: 0100320101\n",
      "INFO: 2020-11-06 03:39:31,189: Settings:\n",
      "INFO: 2020-11-06 03:39:31,189: ------------------------------------------------------------\n",
      "INFO: 2020-11-06 03:39:31,190: Selected energy band: 0.5-10.0 keV\n",
      "INFO: 2020-11-06 03:39:31,191: Selected time resolution: 0.0078125 s\n",
      "INFO: 2020-11-06 03:39:31,191: Selected time segment: 128.0 s\n",
      "INFO: 2020-11-06 03:39:31,192: Time bins: 16384\n",
      "INFO: 2020-11-06 03:39:31,193: Selected GTI minimum duration: 128 s\n",
      "INFO: 2020-11-06 03:39:31,194: Splitting event in GTIs? No\n",
      "INFO: 2020-11-06 03:39:31,195: Log file name: makers_D6_11_2020_T3_39\n",
      "INFO: 2020-11-06 03:39:31,196: ------------------------------------------------------------\n",
      "INFO: 2020-11-06 03:39:31,197: \n",
      "INFO: 2020-11-06 03:39:31,198: Processing event file: /Volumes/Seagate/NICER_data/Cygnus_X1/0100320101/xti/event_cl/ni0100320101_0mpu7_cl_bc_bdc.evt.gz\n",
      "INFO: 2020-11-06 03:39:31,199: Reading event file\n",
      "INFO: 2020-11-06 03:39:34,850: Done!\n",
      "INFO: 2020-11-06 03:39:34,850: Reading GTI from event file\n",
      "INFO: 2020-11-06 03:39:36,231: Done!\n",
      "INFO: 2020-11-06 03:39:36,232: Computing lightcurve\n",
      "INFO: 2020-11-06 03:39:36,263: NumExpr defaulting to 8 threads.\n",
      "INFO: 2020-11-06 03:39:36,745: Done!\n",
      "INFO: 2020-11-06 03:39:36,746: Splitting lightcurve according to GTI\n",
      "INFO: 2020-11-06 03:39:36,759: Done!\n",
      "INFO: 2020-11-06 03:39:36,759: Splitting lightcurve list according to segments\n",
      "INFO: 2020-11-06 03:39:36,765: Done!\n",
      "INFO: 2020-11-06 03:39:36,766: Saving LightcurveList in the event folder\n",
      "INFO: 2020-11-06 03:39:36,807: Computing power spectrum list\n",
      "INFO: 2020-11-06 03:39:36,821: Done!\n",
      "INFO: 2020-11-06 03:39:36,822: Saving power list\n",
      "INFO: 2020-11-06 03:39:36,874: Done!\n",
      "INFO: 2020-11-06 03:39:36,875: Computing average power\n",
      "INFO: 2020-11-06 03:39:36,909: Done!\n",
      "INFO: 2020-11-06 03:39:36,910: Saving average power\n",
      "INFO: 2020-11-06 03:39:36,927: Done!\n",
      "INFO: 2020-11-06 03:39:36,928: \n",
      "INFO: 2020-11-06 03:39:36,929: Exiting\n"
     ]
    },
    {
     "name": "stdout",
     "output_type": "stream",
     "text": [
      "LightcurveList saved in /Volumes/Transcend/NICER/Cyg_X1/analysis/0100320101/lc_list_E0.5_10.0_T0.0078125_128.0.pkl\n",
      "PowerList saved in /Volumes/Transcend/NICER/Cyg_X1/analysis/0100320101/power_list_E0.5_10.0_T0.0078125_128.0.pkl\n"
     ]
    }
   ],
   "source": [
    "kr.make_power(event_file,destination=output_dir,\n",
    "              tres=1./128,tseg=128.,gti_dur=128,low_en=0.5,high_en=10.,\n",
    "              split_event=False,log_widget=None,drama=False)"
   ]
  },
  {
   "cell_type": "code",
   "execution_count": null,
   "metadata": {},
   "outputs": [],
   "source": []
  }
 ],
 "metadata": {
  "hide_input": false,
  "kernelspec": {
   "display_name": "Python 3",
   "language": "python",
   "name": "python3"
  },
  "language_info": {
   "codemirror_mode": {
    "name": "ipython",
    "version": 3
   },
   "file_extension": ".py",
   "mimetype": "text/x-python",
   "name": "python",
   "nbconvert_exporter": "python",
   "pygments_lexer": "ipython3",
   "version": "3.7.6"
  },
  "toc": {
   "base_numbering": 1,
   "nav_menu": {},
   "number_sections": true,
   "sideBar": true,
   "skip_h1_title": false,
   "title_cell": "Table of Contents",
   "title_sidebar": "Contents",
   "toc_cell": false,
   "toc_position": {},
   "toc_section_display": true,
   "toc_window_display": false
  },
  "varInspector": {
   "cols": {
    "lenName": 16,
    "lenType": 16,
    "lenVar": 40
   },
   "kernels_config": {
    "python": {
     "delete_cmd_postfix": "",
     "delete_cmd_prefix": "del ",
     "library": "var_list.py",
     "varRefreshCmd": "print(var_dic_list())"
    },
    "r": {
     "delete_cmd_postfix": ") ",
     "delete_cmd_prefix": "rm(",
     "library": "var_list.r",
     "varRefreshCmd": "cat(var_dic_list()) "
    }
   },
   "types_to_exclude": [
    "module",
    "function",
    "builtin_function_or_method",
    "instance",
    "_Feature"
   ],
   "window_display": false
  }
 },
 "nbformat": 4,
 "nbformat_minor": 4
}
