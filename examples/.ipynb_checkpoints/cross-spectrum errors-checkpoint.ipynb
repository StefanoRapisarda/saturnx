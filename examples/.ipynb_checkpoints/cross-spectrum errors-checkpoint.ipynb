{
 "cells": [
  {
   "cell_type": "code",
   "execution_count": 1,
   "id": "66a67d74",
   "metadata": {},
   "outputs": [],
   "source": [
    "import sys\n",
    "sys.path.append('/Volumes/Samsung_T5/saturnx')\n",
    "\n",
    "from saturnx.core.lightcurve import Lightcurve\n",
    "from saturnx.utils.time_series import poi_events"
   ]
  },
  {
   "cell_type": "code",
   "execution_count": null,
   "id": "1f28c830",
   "metadata": {},
   "outputs": [],
   "source": [
    "def fake_white_noise_lc(tres=0.01,nbins=5000,cr=5,low_en=50,high_en=1000):\n",
    "    events = poi_events(tres=tres,nbins=nbins,cr=cr)\n",
    "    time_bin_edges = np.linspace(0,nbins*tres,nbins+1,dtype=np.double)\n",
    "    time_bins_center = np.linspace(0+tres/2.,nbins*tres-tres/2.,nbins,dtype=np.double)\n",
    "    hist, dummy = np.histogram(events,time_bin_edges)\n",
    "    notes = {}\n",
    "    notes['STEF1'] = 'This is a test note'    \n",
    "    meta_data = {}\n",
    "    meta_data['MISSION'] = 'NICER'\n",
    "    low_en, high_en = 0.5,10\n",
    "    lc = Lightcurve(time_array = time_bins_center,count_array = hist,\n",
    "                    low_en=0.5,high_en=10,\n",
    "                    notes=notes, meta_data = meta_data)\n",
    "    return lc"
   ]
  },
  {
   "cell_type": "code",
   "execution_count": null,
   "id": "45382041",
   "metadata": {},
   "outputs": [],
   "source": [
    "data_soft = fake_white_noise_"
   ]
  }
 ],
 "metadata": {
  "kernelspec": {
   "display_name": "Python 3",
   "language": "python",
   "name": "python3"
  },
  "language_info": {
   "codemirror_mode": {
    "name": "ipython",
    "version": 3
   },
   "file_extension": ".py",
   "mimetype": "text/x-python",
   "name": "python",
   "nbconvert_exporter": "python",
   "pygments_lexer": "ipython3",
   "version": "3.8.8"
  },
  "toc": {
   "base_numbering": 1,
   "nav_menu": {},
   "number_sections": true,
   "sideBar": true,
   "skip_h1_title": false,
   "title_cell": "Table of Contents",
   "title_sidebar": "Contents",
   "toc_cell": false,
   "toc_position": {},
   "toc_section_display": true,
   "toc_window_display": false
  }
 },
 "nbformat": 4,
 "nbformat_minor": 5
}
