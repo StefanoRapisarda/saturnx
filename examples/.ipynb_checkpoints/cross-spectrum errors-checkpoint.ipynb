{
 "cells": [
  {
   "cell_type": "code",
   "execution_count": 1,
   "id": "03fb4ee5",
   "metadata": {},
   "outputs": [],
   "source": [
    "import sys\n",
    "sys.path.append('/Volumes/Samsung_T5/saturnx')\n",
    "\n",
    "import numpy as np\n",
    "from scipy.fftpack import fftfreq, fft\n",
    "\n",
    "from saturnx.core.lightcurve import Lightcurve\n",
    "from saturnx.core.gti import Gti\n",
    "from saturnx.core.power import PowerSpectrum\n",
    "from saturnx.utils.time_series import poi_events"
   ]
  },
  {
   "cell_type": "code",
   "execution_count": 2,
   "id": "53b56442",
   "metadata": {},
   "outputs": [],
   "source": [
    "def fake_white_noise_lc(tres=0.01,nbins=5000,cr=5,low_en=0.5,high_en=10):\n",
    "    events = poi_events(tres=tres,nbins=nbins,cr=cr)\n",
    "    time_bin_edges = np.linspace(0,nbins*tres,nbins+1,dtype=np.double)\n",
    "    time_bins_center = np.linspace(0+tres/2.,nbins*tres-tres/2.,nbins,dtype=np.double)\n",
    "    hist, dummy = np.histogram(events,time_bin_edges)\n",
    "    notes = {}\n",
    "    notes['STEF1'] = 'This is a test note'    \n",
    "    meta_data = {}\n",
    "    meta_data['MISSION'] = 'NICER'\n",
    "    low_en, high_en = 0.5,10\n",
    "    lc = Lightcurve(time_array = time_bins_center,count_array = hist,\n",
    "                    low_en=low_en,high_en=high_en,\n",
    "                    notes=notes, meta_data = meta_data)\n",
    "    return lc"
   ]
  },
  {
   "cell_type": "code",
   "execution_count": 3,
   "id": "e04ab28e",
   "metadata": {},
   "outputs": [],
   "source": [
    "soft_lc = fake_white_noise_lc(low_en=0.5,high_en=2)\n",
    "hard_lc = fake_white_noise_lc(low_en=2,high_en=10)\n",
    "tot_lc =  soft_lc + hard_lc"
   ]
  },
  {
   "cell_type": "code",
   "execution_count": 4,
   "id": "7a470ae3",
   "metadata": {},
   "outputs": [
    {
     "name": "stdout",
     "output_type": "stream",
     "text": [
      "0.01 5000\n"
     ]
    }
   ],
   "source": [
    "print(soft_lc.tres,len(soft_lc))"
   ]
  },
  {
   "cell_type": "code",
   "execution_count": 5,
   "id": "b928b7ea",
   "metadata": {},
   "outputs": [
    {
     "name": "stdout",
     "output_type": "stream",
     "text": [
      "0.005 49.995\n"
     ]
    }
   ],
   "source": [
    "print(soft_lc.time.iloc[0],soft_lc.time.iloc[-1])"
   ]
  },
  {
   "cell_type": "code",
   "execution_count": 6,
   "id": "85ae870c",
   "metadata": {},
   "outputs": [],
   "source": [
    "tstarts = [0.001,17,30]\n",
    "tstops  = [16,28,50]\n",
    "gti = Gti(start_array = tstarts, stop_array = tstops)"
   ]
  },
  {
   "cell_type": "code",
   "execution_count": 7,
   "id": "34f06655",
   "metadata": {},
   "outputs": [
    {
     "data": {
      "text/html": [
       "<div>\n",
       "<style scoped>\n",
       "    .dataframe tbody tr th:only-of-type {\n",
       "        vertical-align: middle;\n",
       "    }\n",
       "\n",
       "    .dataframe tbody tr th {\n",
       "        vertical-align: top;\n",
       "    }\n",
       "\n",
       "    .dataframe thead th {\n",
       "        text-align: right;\n",
       "    }\n",
       "</style>\n",
       "<table border=\"1\" class=\"dataframe\">\n",
       "  <thead>\n",
       "    <tr style=\"text-align: right;\">\n",
       "      <th></th>\n",
       "      <th>start</th>\n",
       "      <th>stop</th>\n",
       "      <th>dur</th>\n",
       "      <th>gap</th>\n",
       "    </tr>\n",
       "  </thead>\n",
       "  <tbody>\n",
       "    <tr>\n",
       "      <th>0</th>\n",
       "      <td>0.001</td>\n",
       "      <td>16</td>\n",
       "      <td>15.999</td>\n",
       "      <td>0.0</td>\n",
       "    </tr>\n",
       "    <tr>\n",
       "      <th>1</th>\n",
       "      <td>17.000</td>\n",
       "      <td>28</td>\n",
       "      <td>11.000</td>\n",
       "      <td>1.0</td>\n",
       "    </tr>\n",
       "    <tr>\n",
       "      <th>2</th>\n",
       "      <td>30.000</td>\n",
       "      <td>50</td>\n",
       "      <td>20.000</td>\n",
       "      <td>2.0</td>\n",
       "    </tr>\n",
       "  </tbody>\n",
       "</table>\n",
       "</div>"
      ],
      "text/plain": [
       "    start  stop     dur  gap\n",
       "0   0.001    16  15.999  0.0\n",
       "1  17.000    28  11.000  1.0\n",
       "2  30.000    50  20.000  2.0"
      ]
     },
     "execution_count": 7,
     "metadata": {},
     "output_type": "execute_result"
    }
   ],
   "source": [
    "gti"
   ]
  },
  {
   "cell_type": "code",
   "execution_count": 8,
   "id": "d476d017",
   "metadata": {},
   "outputs": [
    {
     "name": "stdout",
     "output_type": "stream",
     "text": [
      "===> Splitting GTI\n",
      "===> Splitting GTI\n",
      "===> Splitting GTI\n"
     ]
    }
   ],
   "source": [
    "soft_gti_lc_list = soft_lc.split(gti)\n",
    "hard_gti_lc_list = hard_lc.split(gti)\n",
    "tot_gti_lc_list  = tot_lc.split(gti)"
   ]
  },
  {
   "cell_type": "code",
   "execution_count": 12,
   "id": "e06e605e",
   "metadata": {},
   "outputs": [
    {
     "name": "stdout",
     "output_type": "stream",
     "text": [
      "===> Splitting Segment\n",
      "===> Splitting Segment\n",
      "===> Splitting Segment\n",
      "===> Splitting Segment\n",
      "===> Splitting Segment\n",
      "===> Splitting Segment\n",
      "===> Splitting Segment\n",
      "===> Splitting Segment\n",
      "===> Splitting Segment\n"
     ]
    }
   ],
   "source": [
    "tseg = 4\n",
    "soft_seg_lc_list = soft_gti_lc_list.split(tseg)\n",
    "hard_seg_lc_list = hard_gti_lc_list.split(tseg)\n",
    "tot_seg_lc_list = tot_gti_lc_list.split(tseg)\n",
    "# soft_seg_lc_list = soft_lc.split(tseg)\n",
    "# hard_seg_lc_list = hard_lc.split(tseg)\n",
    "# tot_seg_lc_list = tot_lc.split(tseg)"
   ]
  },
  {
   "cell_type": "code",
   "execution_count": 13,
   "id": "a419b997",
   "metadata": {},
   "outputs": [
    {
     "name": "stdout",
     "output_type": "stream",
     "text": [
      "0.005 15.995 0.01\n",
      "17.004999999999995 27.994999999999994 0.01\n",
      "30.004999999999995 49.995 0.01\n"
     ]
    }
   ],
   "source": [
    "for lc in soft_gti_lc_list:\n",
    "    print(lc.time.iloc[0],lc.time.iloc[-1],lc.tres)"
   ]
  },
  {
   "cell_type": "code",
   "execution_count": 14,
   "id": "a6bf434a",
   "metadata": {},
   "outputs": [
    {
     "name": "stdout",
     "output_type": "stream",
     "text": [
      "[4 2 5]\n"
     ]
    }
   ],
   "source": [
    "weights = []\n",
    "first = True\n",
    "counter = 0\n",
    "for lc in soft_seg_lc_list:\n",
    "    if first:\n",
    "        first=False\n",
    "        gti_index = lc.meta_data['GTI_INDEX']\n",
    "        \n",
    "    current_gti_index = lc.meta_data['GTI_INDEX']\n",
    "    if current_gti_index == gti_index:\n",
    "        counter += 1\n",
    "    else:\n",
    "        gti_index = current_gti_index\n",
    "        weights += [counter]\n",
    "        counter=1\n",
    "weights += [counter]\n",
    "weights = np.array(weights)\n",
    "print(weights)"
   ]
  },
  {
   "cell_type": "code",
   "execution_count": 15,
   "id": "43a20b7d",
   "metadata": {},
   "outputs": [],
   "source": [
    "test_array = np.linspace(0,10,11)"
   ]
  },
  {
   "cell_type": "code",
   "execution_count": 16,
   "id": "cbe995a0",
   "metadata": {},
   "outputs": [
    {
     "data": {
      "text/plain": [
       "array([ 0.,  1.,  2.,  3.,  4.,  5.,  6.,  7.,  8.,  9., 10., 23., 23.])"
      ]
     },
     "execution_count": 16,
     "metadata": {},
     "output_type": "execute_result"
    }
   ],
   "source": [
    "np.pad(test_array,(0,2),mode='constant',constant_values=23)"
   ]
  },
  {
   "cell_type": "code",
   "execution_count": 17,
   "id": "465c340e",
   "metadata": {},
   "outputs": [
    {
     "name": "stdout",
     "output_type": "stream",
     "text": [
      "400 400\n",
      "cross 400\n",
      "400 400\n",
      "cross 400\n",
      "400 400\n",
      "cross 400\n",
      "400 400\n",
      "cross 400\n",
      "400 400\n",
      "cross 400\n",
      "400 400\n",
      "cross 400\n",
      "400 400\n",
      "cross 400\n",
      "400 400\n",
      "cross 400\n",
      "400 400\n",
      "cross 400\n",
      "400 400\n",
      "cross 400\n",
      "400 400\n",
      "cross 400\n"
     ]
    }
   ],
   "source": [
    "for lc1,lc2 in zip(soft_seg_lc_list,hard_seg_lc_list):\n",
    "    print(len(lc1),len(lc2))\n",
    "    fft1 = fft(lc1.counts.to_numpy())\n",
    "    fft2 = fft(lc2.counts.to_numpy())\n",
    "    cross = np.multiply(fft1,np.conj(fft2))\n",
    "    print('cross',len(cross))"
   ]
  },
  {
   "cell_type": "code",
   "execution_count": null,
   "id": "fd3abc09",
   "metadata": {},
   "outputs": [],
   "source": []
  },
  {
   "cell_type": "code",
   "execution_count": 27,
   "id": "fd610350",
   "metadata": {},
   "outputs": [],
   "source": [
    "def comp_cross(lc1,lc2):\n",
    "    fft1 = fft(lc1.counts.to_numpy())\n",
    "    fft2 = fft(lc2.counts.to_numpy())\n",
    "    cross = np.multiply(fft1,np.conj(fft2))\n",
    "    return cross\n",
    "\n",
    "def comp_cross_err(pw1,pw2,cross,n):\n",
    "    re2 = (np.real(cross))**2\n",
    "    im2 = (np.imag(cross))**2\n",
    "    dre = np.sqrt( (pw1.power*pw2.power + re2 - im2) / 2 / n )\n",
    "    dim = np.sqrt( (pw1.power*pw2.power - re2 + im2) / 2 / n )\n",
    "    return dre,dim\n",
    "\n",
    "def comp_cross_ave(lc_list1,lc_list2):\n",
    "    first = True\n",
    "    for lc1, lc2 in zip(lc_list1,lc_list2):\n",
    "        if first:\n",
    "            first = False\n",
    "            cross = comp_cross(lc1,lc2)\n",
    "        else:\n",
    "            cross += comp_cross(lc1,lc2)\n",
    "    average_cross = cross/len(lc_list1)\n",
    "    \n",
    "    pw_list1 = PowerSpectrum.from_lc(lc_list1)\n",
    "    pw_list2 = PowerSpectrum.from_lc(lc_list2)\n",
    "    \n",
    "    pw1 = pw_list1.average(norm=None)\n",
    "    pw2 = pw_list2.average(norm=None)\n",
    "    \n",
    "    dre,dim = comp_cross_err(pw1,pw2,cross,len(lc_list1))\n",
    "    return cross, dre, dim\n",
    "\n",
    "def comp_weighted_cross_ave(cross_array,dre_array,dim_array,weights):\n",
    "    assert len(cross_array) == len(dre_array)\n",
    "    assert len(cross_array) == len(dim_array)\n",
    "    assert len(cross_array) == len(weights)\n",
    "    \n",
    "    ave_cross = cross_array[0]*weights[0]\n",
    "    ave_dre2 = dre_array[0]**2*weights[0]\n",
    "    ave_dim2 = dim_array[0]**2*weights[0]\n",
    "    for i in range(1,len(cross_array)):\n",
    "        ave_cross += cross_array[i]*weights[i]\n",
    "        ave_dre2 += dre_array[i]**2*weights[i]\n",
    "        ave_dim2 += dim_array[i]**2*weights[i]\n",
    "    ave_cross = ave_cross / np.sum(weigts)\n",
    "    ave_dre2 = ave_dre2 / np.sum(weights)\n",
    "    ave_dim2 = ave_dim2 / np.sum(weights)\n",
    "    \n",
    "    return ave_cross, np.sqrt(ave_dre2), np.sqrt(ave_dim2)"
   ]
  },
  {
   "cell_type": "code",
   "execution_count": 28,
   "id": "6cf25a43",
   "metadata": {},
   "outputs": [],
   "source": [
    "ave_cross_from_seg, dre_from_seg, dim_from_seg = comp_cross_ave(soft_seg_lc_list, hard_seg_lc_list)"
   ]
  },
  {
   "cell_type": "code",
   "execution_count": null,
   "id": "7e21fa3b",
   "metadata": {},
   "outputs": [],
   "source": [
    "cross_gti = []\n",
    "dre_gti = []\n",
    "dim_gti = []\n",
    "for lc1,lc2 in zip(soft_gti_lc_list,hard_gti_lc_list):\n",
    "    tmp_cross, tmp_dre, tmp_dim = comp_cross_ave(lc1,lc2)\n",
    "    cross_gti += [tmp_cross]   \n",
    "    dre_gti += [tmp_dre]\n",
    "    dim_gti += [tmp_dmi]\n",
    "    "
   ]
  },
  {
   "cell_type": "code",
   "execution_count": 20,
   "id": "21639037",
   "metadata": {},
   "outputs": [
    {
     "name": "stdout",
     "output_type": "stream",
     "text": [
      "5.000000000000004\n",
      "4.999999999999893\n",
      "4.999999999999893\n",
      "4.99000000000078\n",
      "4.99000000000078\n",
      "4.999999999999005\n",
      "4.999999999999005\n",
      "4.999999999999005\n",
      "4.999999999999005\n"
     ]
    }
   ],
   "source": [
    "for lc in tot_seg_lc_list:\n",
    "    print(lc.texp)"
   ]
  }
 ],
 "metadata": {
  "kernelspec": {
   "display_name": "Python 3",
   "language": "python",
   "name": "python3"
  },
  "language_info": {
   "codemirror_mode": {
    "name": "ipython",
    "version": 3
   },
   "file_extension": ".py",
   "mimetype": "text/x-python",
   "name": "python",
   "nbconvert_exporter": "python",
   "pygments_lexer": "ipython3",
   "version": "3.8.8"
  },
  "toc": {
   "base_numbering": 1,
   "nav_menu": {},
   "number_sections": true,
   "sideBar": true,
   "skip_h1_title": false,
   "title_cell": "Table of Contents",
   "title_sidebar": "Contents",
   "toc_cell": false,
   "toc_position": {},
   "toc_section_display": true,
   "toc_window_display": false
  }
 },
 "nbformat": 4,
 "nbformat_minor": 5
}
