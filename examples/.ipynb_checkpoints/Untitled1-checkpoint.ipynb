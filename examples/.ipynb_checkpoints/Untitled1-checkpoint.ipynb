{
 "cells": [
  {
   "cell_type": "code",
   "execution_count": 15,
   "metadata": {
    "ExecuteTime": {
     "end_time": "2021-02-24T10:39:39.447865Z",
     "start_time": "2021-02-24T10:39:39.443764Z"
    }
   },
   "outputs": [],
   "source": [
    "import numpy as np\n",
    "import math\n",
    "import matplotlib.pyplot as plt\n",
    "%matplotlib inline"
   ]
  },
  {
   "cell_type": "code",
   "execution_count": 2,
   "metadata": {
    "ExecuteTime": {
     "end_time": "2021-02-24T10:38:43.434517Z",
     "start_time": "2021-02-24T10:38:43.428684Z"
    }
   },
   "outputs": [],
   "source": [
    "def test_edges(tres = 0.001,nbins = 1000):\n",
    "    test = np.linspace(0+tres/2,tres*nbins-tres/2,nbins)\n",
    "    print('texp',test[-1]-test[0])\n",
    "    print('texp_rounded',np.round(nbins*tres,\n",
    "                decimals=int(abs(math.log10(tres/1000)))))\n",
    "    print('tres',test[1]-test[0],test[2]-test[1])\n",
    "    print('tres_median',np.double(np.median(np.ediff1d(test))))\n",
    "    print('first_bin',test[0])\n",
    "    print('last_bin',test[-1])\n",
    "    print('='*72)"
   ]
  },
  {
   "cell_type": "code",
   "execution_count": 3,
   "metadata": {
    "ExecuteTime": {
     "end_time": "2021-02-24T10:38:43.444035Z",
     "start_time": "2021-02-24T10:38:43.437516Z"
    }
   },
   "outputs": [
    {
     "name": "stdout",
     "output_type": "stream",
     "text": [
      "texp 9.989999999999998\n",
      "texp_rounded 10.0\n",
      "tres 0.009999999999999998 0.009999999999999998\n",
      "tres_median 0.009999999999999787\n",
      "first_bin 0.005\n",
      "last_bin 9.995\n",
      "========================================================================\n",
      "texp 1.9900000000000002\n",
      "texp_rounded 2.0\n",
      "tres 0.009999999999999998 0.010000000000000002\n",
      "tres_median 0.010000000000000009\n",
      "first_bin 0.005\n",
      "last_bin 1.995\n",
      "========================================================================\n",
      "texp 45.349999999999994\n",
      "texp_rounded 45.36\n",
      "tres 0.009999999999999998 0.009999999999999998\n",
      "tres_median 0.009999999999999787\n",
      "first_bin 0.005\n",
      "last_bin 45.355\n",
      "========================================================================\n"
     ]
    }
   ],
   "source": [
    "for i in [1000,200,4536]:\n",
    "    test_edges(tres=0.01,nbins=i)"
   ]
  },
  {
   "cell_type": "code",
   "execution_count": 4,
   "metadata": {
    "ExecuteTime": {
     "end_time": "2021-02-24T10:38:43.453154Z",
     "start_time": "2021-02-24T10:38:43.445800Z"
    }
   },
   "outputs": [],
   "source": [
    "n_bins=5000\n",
    "tres = 0.01\n",
    "time_seg = 10"
   ]
  },
  {
   "cell_type": "code",
   "execution_count": 5,
   "metadata": {
    "ExecuteTime": {
     "end_time": "2021-02-24T10:38:43.462744Z",
     "start_time": "2021-02-24T10:38:43.455284Z"
    }
   },
   "outputs": [
    {
     "name": "stdout",
     "output_type": "stream",
     "text": [
      "1000\n",
      "5\n",
      "5\n"
     ]
    }
   ],
   "source": [
    "seg_bins = int(time_seg/tres)\n",
    "print(seg_bins)\n",
    "n_segs = int(n_bins/seg_bins)\n",
    "print(n_segs)\n",
    "n_segs2 = int(n_bins*tres/time_seg)\n",
    "print(n_segs2)"
   ]
  },
  {
   "cell_type": "code",
   "execution_count": 6,
   "metadata": {
    "ExecuteTime": {
     "end_time": "2021-02-24T10:38:43.475776Z",
     "start_time": "2021-02-24T10:38:43.466666Z"
    }
   },
   "outputs": [
    {
     "data": {
      "text/plain": [
       "1000000.0"
      ]
     },
     "execution_count": 6,
     "metadata": {},
     "output_type": "execute_result"
    }
   ],
   "source": [
    "1e+6"
   ]
  },
  {
   "cell_type": "code",
   "execution_count": 7,
   "metadata": {
    "ExecuteTime": {
     "end_time": "2021-02-24T10:38:43.486127Z",
     "start_time": "2021-02-24T10:38:43.481978Z"
    }
   },
   "outputs": [
    {
     "name": "stdout",
     "output_type": "stream",
     "text": [
      "[1000, 2000, 3000, 4000, 5000]\n"
     ]
    }
   ],
   "source": [
    "test_indices = [i*seg_bins for i in range(1,n_segs+1)]\n",
    "print(test_indices)"
   ]
  },
  {
   "cell_type": "code",
   "execution_count": 8,
   "metadata": {
    "ExecuteTime": {
     "end_time": "2021-02-24T10:38:43.501619Z",
     "start_time": "2021-02-24T10:38:43.497164Z"
    }
   },
   "outputs": [],
   "source": [
    "tres = 0.01\n",
    "nbins = 5000\n",
    "time_bins_center = np.linspace(0+tres/2.,nbins*tres-tres/2.,nbins,dtype=np.double)"
   ]
  },
  {
   "cell_type": "code",
   "execution_count": 9,
   "metadata": {
    "ExecuteTime": {
     "end_time": "2021-02-24T10:38:43.513413Z",
     "start_time": "2021-02-24T10:38:43.505791Z"
    }
   },
   "outputs": [
    {
     "name": "stdout",
     "output_type": "stream",
     "text": [
      "3.9999565683801923\n",
      "49.99499999999998 49.98999999999998\n",
      "11.999869705140577\n",
      "49.99499999999998 49.98999999999998\n",
      "19.999782841900963\n",
      "49.995000000000026 49.99000000000002\n"
     ]
    }
   ],
   "source": [
    "for i in [1,3,5]:\n",
    "    n = i*(math.log10(time_bins_center[-1]/time_bins_center[0]))\n",
    "    print(i*(math.log10(time_bins_center[-1]/time_bins_center[0])))\n",
    "    print(time_bins_center[0]*10**(n/i),time_bins_center[0]*10**(n/i)-time_bins_center[0])"
   ]
  },
  {
   "cell_type": "code",
   "execution_count": 10,
   "metadata": {
    "ExecuteTime": {
     "end_time": "2021-02-24T10:38:43.522112Z",
     "start_time": "2021-02-24T10:38:43.517182Z"
    }
   },
   "outputs": [],
   "source": [
    "def make_log_grid(start,stop,rf=30):\n",
    "    step = start\n",
    "    log_grid = [step]\n",
    "    while step <= stop:\n",
    "        step *= 10**(1/rf)\n",
    "        log_grid += [step]\n",
    "    return log_grid"
   ]
  },
  {
   "cell_type": "code",
   "execution_count": 11,
   "metadata": {
    "ExecuteTime": {
     "end_time": "2021-02-24T10:38:43.532768Z",
     "start_time": "2021-02-24T10:38:43.528040Z"
    }
   },
   "outputs": [
    {
     "name": "stdout",
     "output_type": "stream",
     "text": [
      "rf 25 ---> 101\n",
      "[0.005, 0.005482390980715925, 0.006011322173087065, 0.0065912836927820365, 0.007227198853729639, 0.007924465962305569, 0.00868900414374688, 0.009527303589816238, 0.010446480654270202, 0.01145433826383887, 0.012559432157547908, 0.01377114351669084, 0.01509975860201009, 0.016556556074129567, 0.018153902738505083, 0.01990535852767488, 0.02182579161200832, 0.023931504616131943, 0.02624037301248866, 0.02877199686685788, 0.0315478672240097, 0.03459154854594687, 0.03792887875145924, 0.04158818855513361, 0.04560054196779555, 0.05000000000000008, 0.05482390980715934, 0.060113221730870754, 0.06591283692782048, 0.07227198853729651, 0.07924465962305582, 0.08689004143746894, 0.09527303589816255, 0.1044648065427022, 0.11454338263838891, 0.12559432157547928, 0.13771143516690865, 0.1509975860201012, 0.16556556074129597, 0.18153902738505115, 0.19905358527674916, 0.21825791612008358, 0.23931504616131985, 0.26240373012488705, 0.2877199686685793, 0.31547867224009757, 0.3459154854594693, 0.3792887875145931, 0.41588188555133687, 0.4560054196779564, 0.5000000000000017, 0.5482390980715943, 0.6011322173087085, 0.6591283692782058, 0.7227198853729663, 0.7924465962305596, 0.8689004143746909, 0.9527303589816272, 1.0446480654270238, 1.145433826383891, 1.2559432157547952, 1.377114351669089, 1.5099758602010145, 1.6556556074129627, 1.8153902738505148, 1.9905358527674952, 2.18257916120084, 2.3931504616132027, 2.624037301248875, 2.877199686685798, 3.1547867224009813, 3.4591548545946993, 3.7928878751459374, 4.158818855513376, 4.560054196779572, 5.000000000000026, 5.482390980715953, 6.0113221730870965, 6.591283692782071, 7.227198853729677, 7.924465962305611, 8.689004143746926, 9.52730358981629, 10.446480654270257, 11.454338263838931, 12.559432157547974, 13.771143516690914, 15.099758602010173, 16.556556074129656, 18.15390273850518, 19.905358527674988, 21.825791612008437, 23.93150461613207, 26.2403730124888, 28.771996866858036, 31.547867224009874, 34.591548545947056, 37.92887875145944, 41.58818855513383, 45.6005419677958, 50.00000000000035]\n",
      "========================================================================\n"
     ]
    }
   ],
   "source": [
    "for i in [25]:\n",
    "    grid=make_log_grid(time_bins_center[0],time_bins_center[-1],rf=i)\n",
    "    print('rf',i,'--->',len(grid))\n",
    "    print(grid)\n",
    "    print('='*72)"
   ]
  },
  {
   "cell_type": "code",
   "execution_count": 12,
   "metadata": {
    "ExecuteTime": {
     "end_time": "2021-02-24T10:38:45.255160Z",
     "start_time": "2021-02-24T10:38:43.537268Z"
    }
   },
   "outputs": [],
   "source": [
    "import sys\n",
    "sys.path.append('/Volumes/Samsung_T5/kronos/')\n",
    "import kronos as kr\n",
    "from  kronos.utils.time_series import rebin_binned_arrays as rebin"
   ]
  },
  {
   "cell_type": "code",
   "execution_count": 20,
   "metadata": {
    "ExecuteTime": {
     "end_time": "2021-02-24T11:15:11.363085Z",
     "start_time": "2021-02-24T11:15:11.351967Z"
    }
   },
   "outputs": [
    {
     "name": "stdout",
     "output_type": "stream",
     "text": [
      "log_rebin\n",
      "Done!\n"
     ]
    }
   ],
   "source": [
    "test,a = rebin(time_bins_center,rf=-50)"
   ]
  },
  {
   "cell_type": "code",
   "execution_count": 25,
   "metadata": {
    "ExecuteTime": {
     "end_time": "2021-02-24T11:16:28.870041Z",
     "start_time": "2021-02-24T11:16:28.589868Z"
    }
   },
   "outputs": [
    {
     "name": "stdout",
     "output_type": "stream",
     "text": [
      "<class 'numpy.ndarray'> 133\n",
      "[1.0000e-02 2.5000e-02 3.5000e-02 4.5000e-02 5.5000e-02 6.5000e-02\n",
      " 7.5000e-02 9.0000e-02 1.0500e-01 1.1500e-01 1.2500e-01 1.3500e-01\n",
      " 1.5000e-01 1.6500e-01 1.8000e-01 2.0000e-01 2.2000e-01 2.3500e-01\n",
      " 2.4500e-01 2.5500e-01 2.6500e-01 2.8000e-01 2.9500e-01 3.1000e-01\n",
      " 3.2500e-01 3.4000e-01 3.5500e-01 3.7000e-01 3.9000e-01 4.1000e-01\n",
      " 4.3000e-01 4.5000e-01 4.7000e-01 4.9000e-01 5.1000e-01 5.3500e-01\n",
      " 5.6000e-01 5.8500e-01 6.1500e-01 6.4500e-01 6.7500e-01 7.0500e-01\n",
      " 7.4000e-01 7.7500e-01 8.1000e-01 8.5000e-01 8.9000e-01 9.3000e-01\n",
      " 9.7500e-01 1.0200e+00 1.0650e+00 1.1200e+00 1.1750e+00 1.2300e+00\n",
      " 1.2900e+00 1.3500e+00 1.4100e+00 1.4750e+00 1.5450e+00 1.6200e+00\n",
      " 1.6950e+00 1.7750e+00 1.8600e+00 1.9450e+00 2.0350e+00 2.1300e+00\n",
      " 2.2350e+00 2.3400e+00 2.4500e+00 2.5650e+00 2.6850e+00 2.8150e+00\n",
      " 2.9450e+00 3.0800e+00 3.2250e+00 3.3800e+00 3.5400e+00 3.7050e+00\n",
      " 3.8800e+00 4.0650e+00 4.2550e+00 4.4550e+00 4.6650e+00 4.8850e+00\n",
      " 5.1200e+00 5.3600e+00 5.6100e+00 5.8750e+00 6.1500e+00 6.4400e+00\n",
      " 6.7450e+00 7.0650e+00 7.4000e+00 7.7450e+00 8.1100e+00 8.4950e+00\n",
      " 8.8950e+00 9.3150e+00 9.7550e+00 1.0215e+01 1.0695e+01 1.1195e+01\n",
      " 1.1720e+01 1.2275e+01 1.2855e+01 1.3460e+01 1.4095e+01 1.4760e+01\n",
      " 1.5455e+01 1.6185e+01 1.6950e+01 1.7745e+01 1.8580e+01 1.9460e+01\n",
      " 2.0375e+01 2.1335e+01 2.2340e+01 2.3390e+01 2.4495e+01 2.5650e+01\n",
      " 2.6860e+01 2.8125e+01 2.9450e+01 3.0840e+01 3.2290e+01 3.3810e+01\n",
      " 3.5405e+01 3.7075e+01 3.8825e+01 4.0655e+01 4.2570e+01 4.4575e+01\n",
      " 4.6675e+01]\n"
     ]
    },
    {
     "data": {
      "image/png": "[encoded data removed]",
      "text/plain": [
       "<Figure size 864x432 with 1 Axes>"
      ]
     },
     "metadata": {
      "needs_background": "light"
     },
     "output_type": "display_data"
    }
   ],
   "source": [
    "print(type(test),len(test))\n",
    "print(test)\n",
    "test2 = np.ediff1d(testtime)\n",
    "fix, ax = plt.subplots(figsize=(12,6))\n",
    "ax.plot(test,np.ones(len(test))*0,'ok')\n",
    "ax.plot(test,np.ones(len(test)),'ok')\n",
    "ax.set_xscale('log')"
   ]
  }
 ],
 "metadata": {
  "hide_input": false,
  "kernelspec": {
   "display_name": "Python 3",
   "language": "python",
   "name": "python3"
  },
  "language_info": {
   "codemirror_mode": {
    "name": "ipython",
    "version": 3
   },
   "file_extension": ".py",
   "mimetype": "text/x-python",
   "name": "python",
   "nbconvert_exporter": "python",
   "pygments_lexer": "ipython3",
   "version": "3.7.6"
  },
  "toc": {
   "base_numbering": 1,
   "nav_menu": {},
   "number_sections": true,
   "sideBar": true,
   "skip_h1_title": false,
   "title_cell": "Table of Contents",
   "title_sidebar": "Contents",
   "toc_cell": false,
   "toc_position": {},
   "toc_section_display": true,
   "toc_window_display": false
  },
  "varInspector": {
   "cols": {
    "lenName": 16,
    "lenType": 16,
    "lenVar": 40
   },
   "kernels_config": {
    "python": {
     "delete_cmd_postfix": "",
     "delete_cmd_prefix": "del ",
     "library": "var_list.py",
     "varRefreshCmd": "print(var_dic_list())"
    },
    "r": {
     "delete_cmd_postfix": ") ",
     "delete_cmd_prefix": "rm(",
     "library": "var_list.r",
     "varRefreshCmd": "cat(var_dic_list()) "
    }
   },
   "types_to_exclude": [
    "module",
    "function",
    "builtin_function_or_method",
    "instance",
    "_Feature"
   ],
   "window_display": false
  }
 },
 "nbformat": 4,
 "nbformat_minor": 4
}
