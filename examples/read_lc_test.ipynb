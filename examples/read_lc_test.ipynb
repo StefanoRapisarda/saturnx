{
 "cells": [
  {
   "cell_type": "code",
   "execution_count": 1,
   "metadata": {
    "ExecuteTime": {
     "end_time": "2021-03-07T15:07:53.557470Z",
     "start_time": "2021-03-07T15:07:51.425507Z"
    }
   },
   "outputs": [],
   "source": [
    "import sys\n",
    "sys.path.append('/Volumes/Samsung_T5/kronos/')\n",
    "import pathlib\n",
    "import glob\n",
    "import math\n",
    "import kronos as kr\n",
    "%matplotlib inline"
   ]
  },
  {
   "cell_type": "code",
   "execution_count": 2,
   "metadata": {
    "ExecuteTime": {
     "end_time": "2021-03-07T15:07:53.562582Z",
     "start_time": "2021-03-07T15:07:53.559813Z"
    }
   },
   "outputs": [],
   "source": [
    "fits_file = '/Volumes/Samsung_T5/from_zhen/CygX-1_HXMT/CygX-1_HXMT/PDS_fitting/'\\\n",
    "            'P010131500101-20170824-01-01_HE_net_3_163_lc_all.lc'"
   ]
  },
  {
   "cell_type": "code",
   "execution_count": 3,
   "metadata": {
    "ExecuteTime": {
     "end_time": "2021-03-07T15:07:53.567574Z",
     "start_time": "2021-03-07T15:07:53.564990Z"
    }
   },
   "outputs": [],
   "source": [
    "output_dir = '/Volumes/Samsung_T5/kronos/examples/outputs/'"
   ]
  },
  {
   "cell_type": "code",
   "execution_count": 4,
   "metadata": {
    "ExecuteTime": {
     "end_time": "2021-03-07T15:07:55.123098Z",
     "start_time": "2021-03-07T15:07:53.569687Z"
    }
   },
   "outputs": [
    {
     "name": "stderr",
     "output_type": "stream",
     "text": [
      "INFO: 2021-03-07 16:07:53,571: ************************************************************************\n",
      "INFO: 2021-03-07 16:07:53,573: ************************        read_lc         ************************\n",
      "INFO: 2021-03-07 16:07:53,574: ************************************************************************\n",
      "INFO: 2021-03-07 16:07:53,574: Reading HXMT lightcurve FITS file\n",
      "INFO: 2021-03-07 16:07:53,575: Creating analysis folder...\n",
      "INFO: 2021-03-07 16:07:53,602: Reading FITS file\n",
      "WARNING: 2021-03-07 16:07:53,651: Could not read key SOFTVER in ext COUNTS of /Volumes/Samsung_T5/from_zhen/CygX-1_HXMT/CygX-1_HXMT/PDS_fitting/P010131500101-20170824-01-01_HE_net_3_163_lc_all.lc\n",
      "WARNING: 2021-03-07 16:07:53,655: Could not read key CALDBVER in ext COUNTS of /Volumes/Samsung_T5/from_zhen/CygX-1_HXMT/CygX-1_HXMT/PDS_fitting/P010131500101-20170824-01-01_HE_net_3_163_lc_all.lc\n",
      "WARNING: 2021-03-07 16:07:53,661: Could not read key GCALFILE in ext COUNTS of /Volumes/Samsung_T5/from_zhen/CygX-1_HXMT/CygX-1_HXMT/PDS_fitting/P010131500101-20170824-01-01_HE_net_3_163_lc_all.lc\n",
      "WARNING: 2021-03-07 16:07:53,684: Could not read key MJDREF in ext COUNTS of /Volumes/Samsung_T5/from_zhen/CygX-1_HXMT/CygX-1_HXMT/PDS_fitting/P010131500101-20170824-01-01_HE_net_3_163_lc_all.lc\n",
      "WARNING: 2021-03-07 16:07:53,701: Could not read key LEAPINIT in ext COUNTS of /Volumes/Samsung_T5/from_zhen/CygX-1_HXMT/CygX-1_HXMT/PDS_fitting/P010131500101-20170824-01-01_HE_net_3_163_lc_all.lc\n",
      "INFO: 2021-03-07 16:07:53,857: NumExpr defaulting to 8 threads.\n",
      "INFO: 2021-03-07 16:07:53,863: Done!\n",
      "INFO: 2021-03-07 16:07:53,863: \n",
      "INFO: 2021-03-07 16:07:53,864: Obs ID: HE\n",
      "INFO: 2021-03-07 16:07:53,864: Settings:\n",
      "INFO: 2021-03-07 16:07:53,865: ------------------------------------------------------------\n",
      "INFO: 2021-03-07 16:07:53,866: Selected energy band: 19.3-250.6 keV\n",
      "INFO: 2021-03-07 16:07:53,871: Selected time resolution: 0.00390625 s\n",
      "INFO: 2021-03-07 16:07:53,872: Log file name: /Volumes/Samsung_T5/kronos/examples/outputs/logs/make_power_D7_3_2021_T16_7\n",
      "INFO: 2021-03-07 16:07:53,873: ------------------------------------------------------------\n",
      "INFO: 2021-03-07 16:07:53,873: \n",
      "INFO: 2021-03-07 16:07:53,883: Reading GTI from event file\n",
      "INFO: 2021-03-07 16:07:53,901: Done!\n",
      "INFO: 2021-03-07 16:07:53,901: Saving Lightcurve in the event folder\n",
      "INFO: 2021-03-07 16:07:54,353: Done!\n",
      "INFO: 2021-03-07 16:07:54,354: Saving Gti in the event folder\n",
      "INFO: 2021-03-07 16:07:54,360: Done!\n",
      "INFO: 2021-03-07 16:07:54,360: Splitting lightcurve according to GTI\n",
      "INFO: 2021-03-07 16:07:54,441: Done!\n",
      "INFO: 2021-03-07 16:07:54,442: Saving Lightcurve list in the event folder\n"
     ]
    },
    {
     "name": "stdout",
     "output_type": "stream",
     "text": [
      "Lightcurve saved in /Volumes/Samsung_T5/kronos/examples/outputs/analysis/P010131500101-20170824-01-01/lc_E19.3_250.6_T0.00390625.pkl\n",
      "Gti saved in /Volumes/Samsung_T5/kronos/examples/outputs/analysis/P010131500101-20170824-01-01/gti_E19.3_250.6.gti\n",
      "===> Splitting GTI\n"
     ]
    },
    {
     "name": "stderr",
     "output_type": "stream",
     "text": [
      "INFO: 2021-03-07 16:07:55,111: Done!\n"
     ]
    },
    {
     "name": "stdout",
     "output_type": "stream",
     "text": [
      "LightcurveList saved in /Volumes/Samsung_T5/kronos/examples/outputs/analysis/P010131500101-20170824-01-01/lc_list_E19.3_250.6_T0.00390625.pkl\n"
     ]
    },
    {
     "data": {
      "text/plain": [
       "1"
      ]
     },
     "execution_count": 4,
     "metadata": {},
     "output_type": "execute_result"
    }
   ],
   "source": [
    "kr.read_lc(fits_file, ext='COUNTS',destination=output_dir,\n",
    "    mission='HXMT',log_name=None)"
   ]
  },
  {
   "cell_type": "code",
   "execution_count": null,
   "metadata": {},
   "outputs": [],
   "source": []
  }
 ],
 "metadata": {
  "hide_input": false,
  "kernelspec": {
   "display_name": "Python 3",
   "language": "python",
   "name": "python3"
  },
  "language_info": {
   "codemirror_mode": {
    "name": "ipython",
    "version": 3
   },
   "file_extension": ".py",
   "mimetype": "text/x-python",
   "name": "python",
   "nbconvert_exporter": "python",
   "pygments_lexer": "ipython3",
   "version": "3.7.6"
  },
  "toc": {
   "base_numbering": 1,
   "nav_menu": {},
   "number_sections": true,
   "sideBar": true,
   "skip_h1_title": false,
   "title_cell": "Table of Contents",
   "title_sidebar": "Contents",
   "toc_cell": false,
   "toc_position": {},
   "toc_section_display": true,
   "toc_window_display": false
  },
  "varInspector": {
   "cols": {
    "lenName": 16,
    "lenType": 16,
    "lenVar": 40
   },
   "kernels_config": {
    "python": {
     "delete_cmd_postfix": "",
     "delete_cmd_prefix": "del ",
     "library": "var_list.py",
     "varRefreshCmd": "print(var_dic_list())"
    },
    "r": {
     "delete_cmd_postfix": ") ",
     "delete_cmd_prefix": "rm(",
     "library": "var_list.r",
     "varRefreshCmd": "cat(var_dic_list()) "
    }
   },
   "types_to_exclude": [
    "module",
    "function",
    "builtin_function_or_method",
    "instance",
    "_Feature"
   ],
   "window_display": false
  }
 },
 "nbformat": 4,
 "nbformat_minor": 4
}
